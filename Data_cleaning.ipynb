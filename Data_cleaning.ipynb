{
 "cells": [
  {
   "cell_type": "markdown",
   "id": "f14982b9",
   "metadata": {},
   "source": [
    "# Data processing and cleaning"
   ]
  },
  {
   "cell_type": "markdown",
   "id": "539c0cdf",
   "metadata": {},
   "source": [
    "### 1. Environment setup - initialization of Spark Session, installing libraries, and modules"
   ]
  },
  {
   "cell_type": "code",
   "execution_count": 1,
   "id": "4bfd9c50",
   "metadata": {
    "scrolled": true
   },
   "outputs": [
    {
     "name": "stdout",
     "output_type": "stream",
     "text": [
      "Starting Spark application\n"
     ]
    },
    {
     "data": {
      "text/html": [
       "<table>\n",
       "<tr><th>ID</th><th>YARN Application ID</th><th>Kind</th><th>State</th><th>Spark UI</th><th>Driver log</th><th>User</th><th>Current session?</th></tr><tr><td>12</td><td>application_1685268262425_0012</td><td>pyspark</td><td>idle</td><td><a target=\"_blank\" href=\"http://ip-172-31-49-3.ec2.internal:20888/proxy/application_1685268262425_0012/\">Link</a></td><td><a target=\"_blank\" href=\"http://ip-172-31-51-157.ec2.internal:8042/node/containerlogs/container_1685268262425_0012_01_000001/livy\">Link</a></td><td>None</td><td>✔</td></tr></table>"
      ],
      "text/plain": [
       "<IPython.core.display.HTML object>"
      ]
     },
     "metadata": {},
     "output_type": "display_data"
    },
    {
     "data": {
      "application/vnd.jupyter.widget-view+json": {
       "model_id": "",
       "version_major": 2,
       "version_minor": 0
      },
      "text/plain": [
       "FloatProgress(value=0.0, bar_style='info', description='Progress:', layout=Layout(height='25px', width='50%'),…"
      ]
     },
     "metadata": {},
     "output_type": "display_data"
    },
    {
     "name": "stdout",
     "output_type": "stream",
     "text": [
      "SparkSession available as 'spark'.\n"
     ]
    },
    {
     "data": {
      "application/vnd.jupyter.widget-view+json": {
       "model_id": "",
       "version_major": 2,
       "version_minor": 0
      },
      "text/plain": [
       "FloatProgress(value=0.0, bar_style='info', description='Progress:', layout=Layout(height='25px', width='50%'),…"
      ]
     },
     "metadata": {},
     "output_type": "display_data"
    }
   ],
   "source": [
    "from pyspark.sql import SparkSession\n",
    "\n",
    "spark = SparkSession.builder \\\n",
    "    .appName('DataFrame') \\\n",
    "    .master('local[*]') \\\n",
    "    .getOrCreate()"
   ]
  },
  {
   "cell_type": "code",
   "execution_count": 2,
   "id": "2850d77c",
   "metadata": {
    "scrolled": true
   },
   "outputs": [
    {
     "name": "stdout",
     "output_type": "stream",
     "text": [
      "Starting Spark application\n"
     ]
    },
    {
     "data": {
      "text/html": [
       "<table>\n",
       "<tr><th>ID</th><th>YARN Application ID</th><th>Kind</th><th>State</th><th>Spark UI</th><th>Driver log</th><th>User</th><th>Current session?</th></tr><tr><td>13</td><td>application_1685268262425_0013</td><td>pyspark</td><td>idle</td><td><a target=\"_blank\" href=\"http://ip-172-31-49-3.ec2.internal:20888/proxy/application_1685268262425_0013/\">Link</a></td><td><a target=\"_blank\" href=\"http://ip-172-31-60-22.ec2.internal:8042/node/containerlogs/container_1685268262425_0013_01_000001/livy\">Link</a></td><td>None</td><td>✔</td></tr></table>"
      ],
      "text/plain": [
       "<IPython.core.display.HTML object>"
      ]
     },
     "metadata": {},
     "output_type": "display_data"
    },
    {
     "data": {
      "application/vnd.jupyter.widget-view+json": {
       "model_id": "",
       "version_major": 2,
       "version_minor": 0
      },
      "text/plain": [
       "FloatProgress(value=0.0, bar_style='info', description='Progress:', layout=Layout(height='25px', width='50%'),…"
      ]
     },
     "metadata": {},
     "output_type": "display_data"
    },
    {
     "name": "stdout",
     "output_type": "stream",
     "text": [
      "SparkSession available as 'spark'.\n"
     ]
    },
    {
     "data": {
      "text/html": [
       "Current session configs: <tt>{'conf': {'spark.jars.packages': 'com.databricks:spark-xml_2.12:0.16.0', 'spark.jars': 'https://repo1.maven.org/maven2/com/databricks/spark-xml_2.12/0.16.0/spark-xml_2.12-0.16.0.jar'}, 'proxyUser': 'jovyan', 'kind': 'pyspark'}</tt><br>"
      ],
      "text/plain": [
       "<IPython.core.display.HTML object>"
      ]
     },
     "metadata": {},
     "output_type": "display_data"
    },
    {
     "data": {
      "text/html": [
       "<table>\n",
       "<tr><th>ID</th><th>YARN Application ID</th><th>Kind</th><th>State</th><th>Spark UI</th><th>Driver log</th><th>User</th><th>Current session?</th></tr><tr><td>6</td><td>application_1685268262425_0007</td><td>pyspark</td><td>idle</td><td><a target=\"_blank\" href=\"http://ip-172-31-49-3.ec2.internal:20888/proxy/application_1685268262425_0007/\">Link</a></td><td><a target=\"_blank\" href=\"http://ip-172-31-60-22.ec2.internal:8042/node/containerlogs/container_1685268262425_0007_01_000001/livy\">Link</a></td><td>None</td><td></td></tr><tr><td>13</td><td>application_1685268262425_0013</td><td>pyspark</td><td>idle</td><td><a target=\"_blank\" href=\"http://ip-172-31-49-3.ec2.internal:20888/proxy/application_1685268262425_0013/\">Link</a></td><td><a target=\"_blank\" href=\"http://ip-172-31-60-22.ec2.internal:8042/node/containerlogs/container_1685268262425_0013_01_000001/livy\">Link</a></td><td>None</td><td>✔</td></tr></table>"
      ],
      "text/plain": [
       "<IPython.core.display.HTML object>"
      ]
     },
     "metadata": {},
     "output_type": "display_data"
    }
   ],
   "source": [
    "%%configure -f\n",
    "{\"conf\": {\n",
    "    \"spark.jars.packages\": \"com.databricks:spark-xml_2.12:0.16.0\",\n",
    "    \"spark.jars\": \"https://repo1.maven.org/maven2/com/databricks/spark-xml_2.12/0.16.0/spark-xml_2.12-0.16.0.jar\"\n",
    "    }\n",
    "}"
   ]
  },
  {
   "cell_type": "code",
   "execution_count": 3,
   "id": "dc2edf5f",
   "metadata": {},
   "outputs": [
    {
     "data": {
      "application/vnd.jupyter.widget-view+json": {
       "model_id": "",
       "version_major": 2,
       "version_minor": 0
      },
      "text/plain": [
       "FloatProgress(value=0.0, bar_style='info', description='Progress:', layout=Layout(height='25px', width='50%'),…"
      ]
     },
     "metadata": {},
     "output_type": "display_data"
    }
   ],
   "source": [
    "from pyspark.sql.types import IntegerType, StringType, StructType, StructField, BooleanType, TimestampType\n",
    "import pyspark.sql.functions as f"
   ]
  },
  {
   "cell_type": "markdown",
   "id": "a61db3e2",
   "metadata": {},
   "source": [
    "### 2. Creating DataFrames and imposing data schema"
   ]
  },
  {
   "cell_type": "markdown",
   "id": "1f429bf4",
   "metadata": {},
   "source": [
    "#### a) Badges"
   ]
  },
  {
   "cell_type": "code",
   "execution_count": 4,
   "id": "63f2df86",
   "metadata": {
    "scrolled": true
   },
   "outputs": [
    {
     "data": {
      "application/vnd.jupyter.widget-view+json": {
       "model_id": "",
       "version_major": 2,
       "version_minor": 0
      },
      "text/plain": [
       "FloatProgress(value=0.0, bar_style='info', description='Progress:', layout=Layout(height='25px', width='50%'),…"
      ]
     },
     "metadata": {},
     "output_type": "display_data"
    },
    {
     "name": "stdout",
     "output_type": "stream",
     "text": [
      "root\n",
      " |-- _Class: integer (nullable = true)\n",
      " |-- _Date: timestamp (nullable = true)\n",
      " |-- _Id: integer (nullable = true)\n",
      " |-- _Name: string (nullable = true)\n",
      " |-- _TagBased: boolean (nullable = true)\n",
      " |-- _UserId: integer (nullable = true)\n",
      "\n",
      "+------+-----------------------+---+--------------+---------+-------+\n",
      "|_Class|_Date                  |_Id|_Name         |_TagBased|_UserId|\n",
      "+------+-----------------------+---+--------------+---------+-------+\n",
      "|3     |2016-01-12 18:44:49.267|2  |Autobiographer|false    |23     |\n",
      "|3     |2016-01-12 18:44:49.267|3  |Autobiographer|false    |22     |\n",
      "|3     |2016-01-12 18:44:49.267|4  |Autobiographer|false    |21     |\n",
      "|3     |2016-01-12 18:44:49.267|5  |Autobiographer|false    |20     |\n",
      "|3     |2016-01-12 18:44:49.267|6  |Autobiographer|false    |19     |\n",
      "|3     |2016-01-12 18:44:49.267|7  |Autobiographer|false    |18     |\n",
      "|3     |2016-01-12 18:44:49.267|8  |Autobiographer|false    |17     |\n",
      "|3     |2016-01-12 18:44:49.267|9  |Autobiographer|false    |16     |\n",
      "|3     |2016-01-12 18:44:49.267|10 |Autobiographer|false    |15     |\n",
      "|3     |2016-01-12 18:44:49.267|11 |Autobiographer|false    |14     |\n",
      "|3     |2016-01-12 18:44:49.267|12 |Autobiographer|false    |13     |\n",
      "|3     |2016-01-12 18:44:49.267|13 |Autobiographer|false    |12     |\n",
      "|3     |2016-01-12 18:44:49.267|14 |Autobiographer|false    |11     |\n",
      "|3     |2016-01-12 18:44:49.267|15 |Autobiographer|false    |10     |\n",
      "|3     |2016-01-12 18:44:49.267|16 |Autobiographer|false    |9      |\n",
      "|3     |2016-01-12 18:44:49.267|17 |Autobiographer|false    |8      |\n",
      "|3     |2016-01-12 18:44:49.267|18 |Autobiographer|false    |7      |\n",
      "|3     |2016-01-12 18:44:49.267|19 |Autobiographer|false    |6      |\n",
      "|3     |2016-01-12 18:44:49.267|20 |Autobiographer|false    |5      |\n",
      "|3     |2016-01-12 18:44:49.267|21 |Autobiographer|false    |4      |\n",
      "+------+-----------------------+---+--------------+---------+-------+\n",
      "only showing top 20 rows"
     ]
    }
   ],
   "source": [
    "schema_badges = StructType([StructField(\"_Class\", IntegerType()),\\\n",
    "                            StructField(\"_Date\", TimestampType()),\\\n",
    "                            StructField(\"_Id\", IntegerType()),\\\n",
    "                            StructField(\"_Name\", StringType()),\\\n",
    "                            StructField(\"_TagBased\", BooleanType()),\\\n",
    "                            StructField(\"_UserId\", IntegerType())])\n",
    "\n",
    "Badges_df = spark.read.format(\"com.databricks.spark.xml\")\\\n",
    " .option(\"rowTag\", \"row\")\\\n",
    " .option(\"charset\", \"UTF8\")\\\n",
    " .schema(schema_badges)\\\n",
    " .option(\"treatEmptyValuesAsNulls\", \"true\")\\\n",
    " .load(\"s3://bigdata-project-data-us-east-1/Badges.xml\")\n",
    "\n",
    "Badges_df.printSchema()\n",
    "Badges_df.show(truncate=False)"
   ]
  },
  {
   "cell_type": "markdown",
   "id": "87db3cad",
   "metadata": {},
   "source": [
    "#### b) Comments"
   ]
  },
  {
   "cell_type": "code",
   "execution_count": 5,
   "id": "f073ac66",
   "metadata": {
    "scrolled": true
   },
   "outputs": [
    {
     "data": {
      "application/vnd.jupyter.widget-view+json": {
       "model_id": "",
       "version_major": 2,
       "version_minor": 0
      },
      "text/plain": [
       "FloatProgress(value=0.0, bar_style='info', description='Progress:', layout=Layout(height='25px', width='50%'),…"
      ]
     },
     "metadata": {},
     "output_type": "display_data"
    },
    {
     "name": "stdout",
     "output_type": "stream",
     "text": [
      "root\n",
      " |-- _ContentLicense: string (nullable = true)\n",
      " |-- _CreationDate: timestamp (nullable = true)\n",
      " |-- _Id: integer (nullable = true)\n",
      " |-- _PostId: integer (nullable = true)\n",
      " |-- _Score: integer (nullable = true)\n",
      " |-- _Text: string (nullable = true)\n",
      " |-- _UserDisplayName: string (nullable = true)\n",
      " |-- _UserId: integer (nullable = true)\n",
      "\n",
      "-RECORD 0--------------------------------------------------------------------------------------------------------------------------------------------------------------------------------------------------------------------------------------------------------------------------------------------------------------------------------------------------------------------------------------------------------------------------------------------------------------------------------------------------\n",
      " _ContentLicense  | CC BY-SA 3.0                                                                                                                                                                                                                                                                                                                                                                                                                                                                           \n",
      " _CreationDate    | 2016-01-12 18:47:12.573                                                                                                                                                                                                                                                                                                                                                                                                                                                                \n",
      " _Id              | 1                                                                                                                                                                                                                                                                                                                                                                                                                                                                                      \n",
      " _PostId          | 1                                                                                                                                                                                                                                                                                                                                                                                                                                                                                      \n",
      " _Score           | 4                                                                                                                                                                                                                                                                                                                                                                                                                                                                                      \n",
      " _Text            | Did I just place the first upvote?  Congrats on getting this site off the ground!                                                                                                                                                                                                                                                                                                                                                                                                      \n",
      " _UserDisplayName | null                                                                                                                                                                                                                                                                                                                                                                                                                                                                                   \n",
      " _UserId          | 23                                                                                                                                                                                                                                                                                                                                                                                                                                                                                     \n",
      "-RECORD 1--------------------------------------------------------------------------------------------------------------------------------------------------------------------------------------------------------------------------------------------------------------------------------------------------------------------------------------------------------------------------------------------------------------------------------------------------------------------------------------------------\n",
      " _ContentLicense  | CC BY-SA 3.0                                                                                                                                                                                                                                                                                                                                                                                                                                                                           \n",
      " _CreationDate    | 2016-01-12 19:01:35.18                                                                                                                                                                                                                                                                                                                                                                                                                                                                 \n",
      " _Id              | 2                                                                                                                                                                                                                                                                                                                                                                                                                                                                                      \n",
      " _PostId          | 3                                                                                                                                                                                                                                                                                                                                                                                                                                                                                      \n",
      " _Score           | 1                                                                                                                                                                                                                                                                                                                                                                                                                                                                                      \n",
      " _Text            | I think it would be a good idea to specify what type of 3D printer you are talking about. Layer sizes can very a lot between different technologies and printing materials. On top of that, the application plays an important role. There's no general answer to the question how small a layer should be. I suggest changing this question to ask how to know what layer thickness to use and what influences that decision. That would be a canonical question an much more useful. \n",
      " _UserDisplayName | null                                                                                                                                                                                                                                                                                                                                                                                                                                                                                   \n",
      " _UserId          | 10                                                                                                                                                                                                                                                                                                                                                                                                                                                                                     \n",
      "-RECORD 2--------------------------------------------------------------------------------------------------------------------------------------------------------------------------------------------------------------------------------------------------------------------------------------------------------------------------------------------------------------------------------------------------------------------------------------------------------------------------------------------------\n",
      " _ContentLicense  | CC BY-SA 3.0                                                                                                                                                                                                                                                                                                                                                                                                                                                                           \n",
      " _CreationDate    | 2016-01-12 19:42:08.613                                                                                                                                                                                                                                                                                                                                                                                                                                                                \n",
      " _Id              | 3                                                                                                                                                                                                                                                                                                                                                                                                                                                                                      \n",
      " _PostId          | 1                                                                                                                                                                                                                                                                                                                                                                                                                                                                                      \n",
      " _Score           | 1                                                                                                                                                                                                                                                                                                                                                                                                                                                                                      \n",
      " _Text            | What are you looking for in an answer? You are basically asking how to make your car drive faster while using less fuel.                                                                                                                                                                                                                                                                                                                                                               \n",
      " _UserDisplayName | null                                                                                                                                                                                                                                                                                                                                                                                                                                                                                   \n",
      " _UserId          | 26                                                                                                                                                                                                                                                                                                                                                                                                                                                                                     \n",
      "only showing top 3 rows"
     ]
    }
   ],
   "source": [
    "schema_comments = StructType([StructField(\"_ContentLicense\", StringType()),\\\n",
    "                            StructField(\"_CreationDate\", TimestampType()),\\\n",
    "                            StructField(\"_Id\", IntegerType()),\\\n",
    "                            StructField(\"_PostId\", IntegerType()),\\\n",
    "                            StructField(\"_Score\", IntegerType()),\\\n",
    "                            StructField(\"_Text\", StringType()),\\\n",
    "                            StructField(\"_UserDisplayName\", StringType()),\\\n",
    "                            StructField(\"_UserId\", IntegerType())])\n",
    "\n",
    "Comments_df = spark.read.format(\"com.databricks.spark.xml\")\\\n",
    " .option(\"rowTag\", \"row\")\\\n",
    " .option(\"charset\", \"UTF8\")\\\n",
    " .schema(schema_comments)\\\n",
    " .option(\"treatEmptyValuesAsNulls\", \"true\")\\\n",
    " .load(\"s3://bigdata-project-data-us-east-1/Comments.xml\")\n",
    "\n",
    "Comments_df.printSchema()\n",
    "Comments_df.show(3, vertical=True, truncate=False)"
   ]
  },
  {
   "cell_type": "markdown",
   "id": "bdc42f02",
   "metadata": {},
   "source": [
    "#### c) PostHistory"
   ]
  },
  {
   "cell_type": "code",
   "execution_count": 6,
   "id": "14f872e4",
   "metadata": {
    "scrolled": true
   },
   "outputs": [
    {
     "data": {
      "application/vnd.jupyter.widget-view+json": {
       "model_id": "",
       "version_major": 2,
       "version_minor": 0
      },
      "text/plain": [
       "FloatProgress(value=0.0, bar_style='info', description='Progress:', layout=Layout(height='25px', width='50%'),…"
      ]
     },
     "metadata": {},
     "output_type": "display_data"
    },
    {
     "name": "stdout",
     "output_type": "stream",
     "text": [
      "root\n",
      " |-- _Comment: string (nullable = true)\n",
      " |-- _ContentLicense: string (nullable = true)\n",
      " |-- _CreationDate: timestamp (nullable = true)\n",
      " |-- _Id: integer (nullable = true)\n",
      " |-- _PostHistoryTypeId: integer (nullable = true)\n",
      " |-- _PostId: integer (nullable = true)\n",
      " |-- _RevisionGUID: string (nullable = true)\n",
      " |-- _Text: string (nullable = true)\n",
      " |-- _UserDisplayName: string (nullable = true)\n",
      " |-- _UserId: integer (nullable = true)\n",
      "\n",
      "-RECORD 0----------------------------------\n",
      " _Comment           | null                 \n",
      " _ContentLicense    | CC BY-SA 3.0         \n",
      " _CreationDate      | 2016-01-12 18:45:... \n",
      " _Id                | 1                    \n",
      " _PostHistoryTypeId | 2                    \n",
      " _PostId            | 1                    \n",
      " _RevisionGUID      | 6deffe8b-79c7-467... \n",
      " _Text              | When I've printed... \n",
      " _UserDisplayName   | null                 \n",
      " _UserId            | 16                   \n",
      "-RECORD 1----------------------------------\n",
      " _Comment           | null                 \n",
      " _ContentLicense    | CC BY-SA 3.0         \n",
      " _CreationDate      | 2016-01-12 18:45:... \n",
      " _Id                | 2                    \n",
      " _PostHistoryTypeId | 1                    \n",
      " _PostId            | 1                    \n",
      " _RevisionGUID      | 6deffe8b-79c7-467... \n",
      " _Text              | How to obtain hig... \n",
      " _UserDisplayName   | null                 \n",
      " _UserId            | 16                   \n",
      "-RECORD 2----------------------------------\n",
      " _Comment           | null                 \n",
      " _ContentLicense    | CC BY-SA 3.0         \n",
      " _CreationDate      | 2016-01-12 18:45:... \n",
      " _Id                | 3                    \n",
      " _PostHistoryTypeId | 3                    \n",
      " _PostId            | 1                    \n",
      " _RevisionGUID      | 6deffe8b-79c7-467... \n",
      " _Text              | <resolution><spee... \n",
      " _UserDisplayName   | null                 \n",
      " _UserId            | 16                   \n",
      "only showing top 3 rows"
     ]
    }
   ],
   "source": [
    "schema_posthistory = StructType([StructField(\"_Comment\", StringType()),\\\n",
    "                            StructField(\"_ContentLicense\", StringType()),\\\n",
    "                            StructField(\"_CreationDate\", TimestampType()),\\\n",
    "                            StructField(\"_Id\", IntegerType()),\\\n",
    "                            StructField(\"_PostHistoryTypeId\", IntegerType()),\\\n",
    "                            StructField(\"_PostId\", IntegerType()),\\\n",
    "                            StructField(\"_RevisionGUID\", StringType()),\\\n",
    "                            StructField(\"_Text\", StringType()),\\\n",
    "                            StructField(\"_UserDisplayName\", StringType()),\\\n",
    "                            StructField(\"_UserId\", IntegerType())])\n",
    "\n",
    "PostHistory_df = spark.read.format(\"com.databricks.spark.xml\")\\\n",
    " .option(\"rowTag\", \"row\")\\\n",
    " .option(\"charset\", \"UTF8\")\\\n",
    " .schema(schema_posthistory)\\\n",
    " .option(\"treatEmptyValuesAsNulls\", \"true\")\\\n",
    " .load(\"s3://bigdata-project-data-us-east-1/PostHistory.xml\")\n",
    "\n",
    "PostHistory_df.printSchema()\n",
    "PostHistory_df.show(3, vertical=True)"
   ]
  },
  {
   "cell_type": "markdown",
   "id": "308ba7b3",
   "metadata": {},
   "source": [
    "#### d) PostLinks"
   ]
  },
  {
   "cell_type": "code",
   "execution_count": 7,
   "id": "ad369f5e",
   "metadata": {
    "scrolled": true
   },
   "outputs": [
    {
     "data": {
      "application/vnd.jupyter.widget-view+json": {
       "model_id": "",
       "version_major": 2,
       "version_minor": 0
      },
      "text/plain": [
       "FloatProgress(value=0.0, bar_style='info', description='Progress:', layout=Layout(height='25px', width='50%'),…"
      ]
     },
     "metadata": {},
     "output_type": "display_data"
    },
    {
     "name": "stdout",
     "output_type": "stream",
     "text": [
      "root\n",
      " |-- _CreationDate: timestamp (nullable = true)\n",
      " |-- _Id: integer (nullable = true)\n",
      " |-- _LinkTypeId: integer (nullable = true)\n",
      " |-- _PostId: integer (nullable = true)\n",
      " |-- _RelatedPostId: integer (nullable = true)\n",
      "\n",
      "-RECORD 0---------------------------------\n",
      " _CreationDate  | 2016-01-12 20:16:38.26  \n",
      " _Id            | 33                      \n",
      " _LinkTypeId    | 1                       \n",
      " _PostId        | 49                      \n",
      " _RelatedPostId | 2                       \n",
      "-RECORD 1---------------------------------\n",
      " _CreationDate  | 2016-01-12 20:49:28.873 \n",
      " _Id            | 52                      \n",
      " _LinkTypeId    | 1                       \n",
      " _PostId        | 65                      \n",
      " _RelatedPostId | 20                      \n",
      "-RECORD 2---------------------------------\n",
      " _CreationDate  | 2016-01-13 01:52:20.523 \n",
      " _Id            | 216                     \n",
      " _LinkTypeId    | 1                       \n",
      " _PostId        | 81                      \n",
      " _RelatedPostId | 49                      \n",
      "only showing top 3 rows"
     ]
    }
   ],
   "source": [
    "schema_postlinks = StructType([StructField(\"_CreationDate\", TimestampType()),\\\n",
    "                            StructField(\"_Id\", IntegerType()),\\\n",
    "                            StructField(\"_LinkTypeId\", IntegerType()),\\\n",
    "                            StructField(\"_PostId\", IntegerType()),\\\n",
    "                            StructField(\"_RelatedPostId\", IntegerType())])\n",
    "\n",
    "PostLinks_df = spark.read.format(\"com.databricks.spark.xml\")\\\n",
    " .option(\"rowTag\", \"row\")\\\n",
    " .option(\"charset\", \"UTF8\")\\\n",
    " .schema(schema_postlinks)\\\n",
    " .option(\"treatEmptyValuesAsNulls\", \"true\")\\\n",
    " .load(\"s3://bigdata-project-data-us-east-1/PostLinks.xml\")\n",
    "\n",
    "PostLinks_df.printSchema()\n",
    "PostLinks_df.show(3, vertical=True, truncate=False)"
   ]
  },
  {
   "cell_type": "markdown",
   "id": "f14c520b",
   "metadata": {},
   "source": [
    "#### e) Posts"
   ]
  },
  {
   "cell_type": "code",
   "execution_count": 8,
   "id": "dd18abc7",
   "metadata": {},
   "outputs": [
    {
     "data": {
      "application/vnd.jupyter.widget-view+json": {
       "model_id": "",
       "version_major": 2,
       "version_minor": 0
      },
      "text/plain": [
       "FloatProgress(value=0.0, bar_style='info', description='Progress:', layout=Layout(height='25px', width='50%'),…"
      ]
     },
     "metadata": {},
     "output_type": "display_data"
    },
    {
     "name": "stdout",
     "output_type": "stream",
     "text": [
      "root\n",
      " |-- _AcceptedAnswerId: integer (nullable = true)\n",
      " |-- _AnswerCount: integer (nullable = true)\n",
      " |-- _Body: string (nullable = true)\n",
      " |-- _ClosedDate: timestamp (nullable = true)\n",
      " |-- _CommentCount: integer (nullable = true)\n",
      " |-- _CommunityOwnedDate: timestamp (nullable = true)\n",
      " |-- _ContentLicense: string (nullable = true)\n",
      " |-- _CreationDate: timestamp (nullable = true)\n",
      " |-- _FavoriteCount: integer (nullable = true)\n",
      " |-- _Id: integer (nullable = true)\n",
      " |-- _LastActivityDate: timestamp (nullable = true)\n",
      " |-- _LastEditDate: timestamp (nullable = true)\n",
      " |-- _LastEditorDisplayName: string (nullable = true)\n",
      " |-- _LastEditorUserId: integer (nullable = true)\n",
      " |-- _OwnerDisplayName: string (nullable = true)\n",
      " |-- _OwnerUserId: integer (nullable = true)\n",
      " |-- _ParentId: integer (nullable = true)\n",
      " |-- _PostTypeId: integer (nullable = true)\n",
      " |-- _Score: integer (nullable = true)\n",
      " |-- _Tags: string (nullable = true)\n",
      " |-- _Title: string (nullable = true)\n",
      " |-- _ViewCount: integer (nullable = true)\n",
      "\n",
      "-RECORD 0---------------------------------------------------------------------------------------------------------------------------------------------------------------------------------------------------------------------------------------------------------------------------------------------------------------------------------------------------------------------------------------------------------------------------------------------------------------------------\n",
      " _AcceptedAnswerId      | 51                                                                                                                                                                                                                                                                                                                                                                                                                                                        \n",
      " _AnswerCount           | 2                                                                                                                                                                                                                                                                                                                                                                                                                                                         \n",
      " _Body                  | <p>When I've printed an object I've had to choose between high resolution and quick prints.  What techniques or technologies can I use or deploy to speed up my high resolution prints?</p>\\n                                                                                                                                                                                                                                                             \n",
      " _ClosedDate            | null                                                                                                                                                                                                                                                                                                                                                                                                                                                      \n",
      " _CommentCount          | 6                                                                                                                                                                                                                                                                                                                                                                                                                                                         \n",
      " _CommunityOwnedDate    | null                                                                                                                                                                                                                                                                                                                                                                                                                                                      \n",
      " _ContentLicense        | CC BY-SA 3.0                                                                                                                                                                                                                                                                                                                                                                                                                                              \n",
      " _CreationDate          | 2016-01-12 18:45:19.963                                                                                                                                                                                                                                                                                                                                                                                                                                   \n",
      " _FavoriteCount         | null                                                                                                                                                                                                                                                                                                                                                                                                                                                      \n",
      " _Id                    | 1                                                                                                                                                                                                                                                                                                                                                                                                                                                         \n",
      " _LastActivityDate      | 2017-10-31 02:31:08.56                                                                                                                                                                                                                                                                                                                                                                                                                                    \n",
      " _LastEditDate          | null                                                                                                                                                                                                                                                                                                                                                                                                                                                      \n",
      " _LastEditorDisplayName | null                                                                                                                                                                                                                                                                                                                                                                                                                                                      \n",
      " _LastEditorUserId      | null                                                                                                                                                                                                                                                                                                                                                                                                                                                      \n",
      " _OwnerDisplayName      | null                                                                                                                                                                                                                                                                                                                                                                                                                                                      \n",
      " _OwnerUserId           | 16                                                                                                                                                                                                                                                                                                                                                                                                                                                        \n",
      " _ParentId              | null                                                                                                                                                                                                                                                                                                                                                                                                                                                      \n",
      " _PostTypeId            | 1                                                                                                                                                                                                                                                                                                                                                                                                                                                         \n",
      " _Score                 | 10                                                                                                                                                                                                                                                                                                                                                                                                                                                        \n",
      " _Tags                  | <resolution><speed><quality>                                                                                                                                                                                                                                                                                                                                                                                                                              \n",
      " _Title                 | How to obtain high resolution prints in a shorter period of time?                                                                                                                                                                                                                                                                                                                                                                                         \n",
      " _ViewCount             | 409                                                                                                                                                                                                                                                                                                                                                                                                                                                       \n",
      "-RECORD 1---------------------------------------------------------------------------------------------------------------------------------------------------------------------------------------------------------------------------------------------------------------------------------------------------------------------------------------------------------------------------------------------------------------------------------------------------------------------------\n",
      " _AcceptedAnswerId      | 12                                                                                                                                                                                                                                                                                                                                                                                                                                                        \n",
      " _AnswerCount           | 4                                                                                                                                                                                                                                                                                                                                                                                                                                                         \n",
      " _Body                  | <p>I would like to buy a 3D printer, but I'm concerned about the health risks that are associated with its operation. Some groups of scientists say it can be <a href=\"http://www.techworld.com/news/personal-tech/scientists-warn-of-3d-printing-health-effects-as-tech-hits-high-street-3460992/\">harmful</a> for humans.</p>\\n\\n<p>What do I need to consider before buying a 3D printer if I care about my health? Are there any safe printers?</p>\\n \n",
      " _ClosedDate            | null                                                                                                                                                                                                                                                                                                                                                                                                                                                      \n",
      " _CommentCount          | 1                                                                                                                                                                                                                                                                                                                                                                                                                                                         \n",
      " _CommunityOwnedDate    | null                                                                                                                                                                                                                                                                                                                                                                                                                                                      \n",
      " _ContentLicense        | CC BY-SA 3.0                                                                                                                                                                                                                                                                                                                                                                                                                                              \n",
      " _CreationDate          | 2016-01-12 18:45:51.287                                                                                                                                                                                                                                                                                                                                                                                                                                   \n",
      " _FavoriteCount         | null                                                                                                                                                                                                                                                                                                                                                                                                                                                      \n",
      " _Id                    | 2                                                                                                                                                                                                                                                                                                                                                                                                                                                         \n",
      " _LastActivityDate      | 2019-06-10 23:18:34.19                                                                                                                                                                                                                                                                                                                                                                                                                                    \n",
      " _LastEditDate          | 2016-11-15 16:16:11.163                                                                                                                                                                                                                                                                                                                                                                                                                                   \n",
      " _LastEditorDisplayName | null                                                                                                                                                                                                                                                                                                                                                                                                                                                      \n",
      " _LastEditorUserId      | 334                                                                                                                                                                                                                                                                                                                                                                                                                                                       \n",
      " _OwnerDisplayName      | null                                                                                                                                                                                                                                                                                                                                                                                                                                                      \n",
      " _OwnerUserId           | 20                                                                                                                                                                                                                                                                                                                                                                                                                                                        \n",
      " _ParentId              | null                                                                                                                                                                                                                                                                                                                                                                                                                                                      \n",
      " _PostTypeId            | 1                                                                                                                                                                                                                                                                                                                                                                                                                                                         \n",
      " _Score                 | 33                                                                                                                                                                                                                                                                                                                                                                                                                                                        \n",
      " _Tags                  | <print-material><safety><health>                                                                                                                                                                                                                                                                                                                                                                                                                          \n",
      " _Title                 | Is 3D printing safe for your health?                                                                                                                                                                                                                                                                                                                                                                                                                      \n",
      " _ViewCount             | 7149                                                                                                                                                                                                                                                                                                                                                                                                                                                      \n",
      "-RECORD 2---------------------------------------------------------------------------------------------------------------------------------------------------------------------------------------------------------------------------------------------------------------------------------------------------------------------------------------------------------------------------------------------------------------------------------------------------------------------------\n",
      " _AcceptedAnswerId      | 152                                                                                                                                                                                                                                                                                                                                                                                                                                                       \n",
      " _AnswerCount           | 3                                                                                                                                                                                                                                                                                                                                                                                                                                                         \n",
      " _Body                  | <p>I know the minimum layer height will effect how detailed of an item you can print and the amount of time it takes to print something, but is it necessary to have an extremely low minimum layer height if you plan to print only larger objects?</p>\\n                                                                                                                                                                                                \n",
      " _ClosedDate            | null                                                                                                                                                                                                                                                                                                                                                                                                                                                      \n",
      " _CommentCount          | 5                                                                                                                                                                                                                                                                                                                                                                                                                                                         \n",
      " _CommunityOwnedDate    | null                                                                                                                                                                                                                                                                                                                                                                                                                                                      \n",
      " _ContentLicense        | CC BY-SA 3.0                                                                                                                                                                                                                                                                                                                                                                                                                                              \n",
      " _CreationDate          | 2016-01-12 18:46:22.083                                                                                                                                                                                                                                                                                                                                                                                                                                   \n",
      " _FavoriteCount         | null                                                                                                                                                                                                                                                                                                                                                                                                                                                      \n",
      " _Id                    | 3                                                                                                                                                                                                                                                                                                                                                                                                                                                         \n",
      " _LastActivityDate      | 2016-09-19 15:41:06.537                                                                                                                                                                                                                                                                                                                                                                                                                                   \n",
      " _LastEditDate          | 2016-01-12 22:00:36.347                                                                                                                                                                                                                                                                                                                                                                                                                                   \n",
      " _LastEditorDisplayName | null                                                                                                                                                                                                                                                                                                                                                                                                                                                      \n",
      " _LastEditorUserId      | 11                                                                                                                                                                                                                                                                                                                                                                                                                                                        \n",
      " _OwnerDisplayName      | null                                                                                                                                                                                                                                                                                                                                                                                                                                                      \n",
      " _OwnerUserId           | 11                                                                                                                                                                                                                                                                                                                                                                                                                                                        \n",
      " _ParentId              | null                                                                                                                                                                                                                                                                                                                                                                                                                                                      \n",
      " _PostTypeId            | 1                                                                                                                                                                                                                                                                                                                                                                                                                                                         \n",
      " _Score                 | 18                                                                                                                                                                                                                                                                                                                                                                                                                                                        \n",
      " _Tags                  | <quality><resolution>                                                                                                                                                                                                                                                                                                                                                                                                                                     \n",
      " _Title                 | How important is the minimum layer height on a 3d printer?                                                                                                                                                                                                                                                                                                                                                                                                \n",
      " _ViewCount             | 2670                                                                                                                                                                                                                                                                                                                                                                                                                                                      \n",
      "only showing top 3 rows"
     ]
    }
   ],
   "source": [
    "schema_posts = StructType([StructField(\"_AcceptedAnswerId\", IntegerType()),\\\n",
    "                            StructField(\"_AnswerCount\", IntegerType()),\\\n",
    "                            StructField(\"_Body\", StringType()),\\\n",
    "                            StructField(\"_ClosedDate\", TimestampType()),\\\n",
    "                            StructField(\"_CommentCount\", IntegerType()),\\\n",
    "                            StructField(\"_CommunityOwnedDate\", TimestampType()),\\\n",
    "                            StructField(\"_ContentLicense\", StringType()),\\\n",
    "                            StructField(\"_CreationDate\", TimestampType()),\\\n",
    "                            StructField(\"_FavoriteCount\", IntegerType()),\\\n",
    "                            StructField(\"_Id\", IntegerType()),\\\n",
    "                            StructField(\"_LastActivityDate\", TimestampType()),\\\n",
    "                            StructField(\"_LastEditDate\", TimestampType()),\\\n",
    "                            StructField(\"_LastEditorDisplayName\", StringType()), \n",
    "                            StructField(\"_LastEditorUserId\", IntegerType()),\\\n",
    "                            StructField(\"_OwnerDisplayName\", StringType()),\\\n",
    "                            StructField(\"_OwnerUserId\", IntegerType()),\\\n",
    "                            StructField(\"_ParentId\", IntegerType()),\\\n",
    "                            StructField(\"_PostTypeId\", IntegerType()),\\\n",
    "                            StructField(\"_Score\", IntegerType()),\\\n",
    "                            StructField(\"_Tags\", StringType()),\\\n",
    "                            StructField(\"_Title\", StringType()),\\\n",
    "                            StructField(\"_ViewCount\", IntegerType())])\n",
    "\n",
    "Posts_df = spark.read.format(\"com.databricks.spark.xml\")\\\n",
    " .option(\"rowTag\", \"row\")\\\n",
    " .option(\"charset\", \"UTF8\")\\\n",
    " .schema(schema_posts)\\\n",
    " .option(\"treatEmptyValuesAsNulls\", \"true\")\\\n",
    " .load(\"s3://bigdata-project-data-us-east-1/Posts.xml\")\n",
    "\n",
    "Posts_df.printSchema()\n",
    "Posts_df.show(3, vertical=True, truncate=False)"
   ]
  },
  {
   "cell_type": "markdown",
   "id": "81ffe117",
   "metadata": {},
   "source": [
    "#### f) Tags"
   ]
  },
  {
   "cell_type": "code",
   "execution_count": 9,
   "id": "53930912",
   "metadata": {
    "scrolled": true
   },
   "outputs": [
    {
     "data": {
      "application/vnd.jupyter.widget-view+json": {
       "model_id": "",
       "version_major": 2,
       "version_minor": 0
      },
      "text/plain": [
       "FloatProgress(value=0.0, bar_style='info', description='Progress:', layout=Layout(height='25px', width='50%'),…"
      ]
     },
     "metadata": {},
     "output_type": "display_data"
    },
    {
     "name": "stdout",
     "output_type": "stream",
     "text": [
      "root\n",
      " |-- _Count: integer (nullable = true)\n",
      " |-- _ExcerptPostId: integer (nullable = true)\n",
      " |-- _CreationDate: timestamp (nullable = true)\n",
      " |-- _Id: integer (nullable = true)\n",
      " |-- _TagName: string (nullable = true)\n",
      " |-- _WikiPostId: integer (nullable = true)\n",
      "\n",
      "-RECORD 0--------------------\n",
      " _Count         | 27         \n",
      " _ExcerptPostId | 434        \n",
      " _CreationDate  | null       \n",
      " _Id            | 1          \n",
      " _TagName       | resolution \n",
      " _WikiPostId    | 433        \n",
      "-RECORD 1--------------------\n",
      " _Count         | 48         \n",
      " _ExcerptPostId | 112        \n",
      " _CreationDate  | null       \n",
      " _Id            | 2          \n",
      " _TagName       | speed      \n",
      " _WikiPostId    | 111        \n",
      "-RECORD 2--------------------\n",
      " _Count         | 38         \n",
      " _ExcerptPostId | 114        \n",
      " _CreationDate  | null       \n",
      " _Id            | 3          \n",
      " _TagName       | quality    \n",
      " _WikiPostId    | 113        \n",
      "only showing top 3 rows"
     ]
    }
   ],
   "source": [
    "schema_tags = StructType([StructField(\"_Count\", IntegerType()),\\\n",
    "                            StructField(\"_ExcerptPostId\", IntegerType()),\\\n",
    "                            StructField(\"_CreationDate\", TimestampType()),\\\n",
    "                            StructField(\"_Id\", IntegerType()),\\\n",
    "                            StructField(\"_TagName\", StringType()),\\\n",
    "                            StructField(\"_WikiPostId\", IntegerType())])\n",
    "\n",
    "Tags_df = spark.read.format(\"com.databricks.spark.xml\")\\\n",
    " .option(\"rowTag\", \"row\")\\\n",
    " .option(\"charset\", \"UTF8\")\\\n",
    " .schema(schema_tags)\\\n",
    " .option(\"treatEmptyValuesAsNulls\", \"true\")\\\n",
    " .load(\"s3://bigdata-project-data-us-east-1/Tags.xml\")\n",
    "\n",
    "Tags_df.printSchema()\n",
    "Tags_df.show(3, vertical=True)"
   ]
  },
  {
   "cell_type": "markdown",
   "id": "d45ef535",
   "metadata": {},
   "source": [
    "#### g) Users "
   ]
  },
  {
   "cell_type": "code",
   "execution_count": 10,
   "id": "9ee6d3f7",
   "metadata": {
    "scrolled": true
   },
   "outputs": [
    {
     "data": {
      "application/vnd.jupyter.widget-view+json": {
       "model_id": "",
       "version_major": 2,
       "version_minor": 0
      },
      "text/plain": [
       "FloatProgress(value=0.0, bar_style='info', description='Progress:', layout=Layout(height='25px', width='50%'),…"
      ]
     },
     "metadata": {},
     "output_type": "display_data"
    },
    {
     "name": "stdout",
     "output_type": "stream",
     "text": [
      "root\n",
      " |-- _AboutMe: string (nullable = true)\n",
      " |-- _AccountId: integer (nullable = true)\n",
      " |-- _CreationDate: timestamp (nullable = true)\n",
      " |-- _DisplayName: string (nullable = true)\n",
      " |-- _DownVotes: integer (nullable = true)\n",
      " |-- _Id: integer (nullable = true)\n",
      " |-- _LastAccessDate: timestamp (nullable = true)\n",
      " |-- _Location: string (nullable = true)\n",
      " |-- _Reputation: integer (nullable = true)\n",
      " |-- _UpVotes: integer (nullable = true)\n",
      " |-- _Views: integer (nullable = true)\n",
      " |-- _WebsiteUrl: string (nullable = true)\n",
      "\n",
      "-RECORD 0-------------------------------\n",
      " _AboutMe        | <p>Hi, I'm not re... \n",
      " _AccountId      | -1                   \n",
      " _CreationDate   | 2016-01-11 22:16:... \n",
      " _DisplayName    | Community            \n",
      " _DownVotes      | 3585                 \n",
      " _Id             | -1                   \n",
      " _LastAccessDate | 2016-01-11 22:16:... \n",
      " _Location       | on the server farm   \n",
      " _Reputation     | 1                    \n",
      " _UpVotes        | 51                   \n",
      " _Views          | 160                  \n",
      " _WebsiteUrl     | null                 \n",
      "-RECORD 1-------------------------------\n",
      " _AboutMe        | <p><a href=\"http:... \n",
      " _AccountId      | 34933                \n",
      " _CreationDate   | 2016-01-12 18:02:... \n",
      " _DisplayName    | Robert Cartaino      \n",
      " _DownVotes      | 14                   \n",
      " _Id             | 1                    \n",
      " _LastAccessDate | 2019-06-06 21:50:... \n",
      " _Location       | Palm Bay, FL         \n",
      " _Reputation     | 101                  \n",
      " _UpVotes        | 0                    \n",
      " _Views          | 355                  \n",
      " _WebsiteUrl     | null                 \n",
      "-RECORD 2-------------------------------\n",
      " _AboutMe        | <p>I am a Technic... \n",
      " _AccountId      | 102159               \n",
      " _CreationDate   | 2016-01-12 18:04:... \n",
      " _DisplayName    | 2D Printing Grace... \n",
      " _DownVotes      | 0                    \n",
      " _Id             | 2                    \n",
      " _LastAccessDate | 2017-12-27 13:05:... \n",
      " _Location       | null                 \n",
      " _Reputation     | 101                  \n",
      " _UpVotes        | 0                    \n",
      " _Views          | 8                    \n",
      " _WebsiteUrl     | null                 \n",
      "only showing top 3 rows"
     ]
    }
   ],
   "source": [
    "schema_users = StructType([StructField(\"_AboutMe\", StringType()),\\\n",
    "                            StructField(\"_AccountId\", IntegerType()),\\\n",
    "                            StructField(\"_CreationDate\", TimestampType()),\\\n",
    "                            StructField(\"_DisplayName\", StringType()),\\\n",
    "                            StructField(\"_DownVotes\", IntegerType()),\\\n",
    "                            StructField(\"_Id\", IntegerType()),\\\n",
    "                            StructField(\"_LastAccessDate\", TimestampType()),\\\n",
    "                            StructField(\"_Location\", StringType()),\\\n",
    "                            StructField(\"_Reputation\", IntegerType()),\\\n",
    "                            StructField(\"_UpVotes\", IntegerType()),\\\n",
    "                            StructField(\"_Views\", IntegerType()),\\\n",
    "                            StructField(\"_WebsiteUrl\", StringType())])\n",
    "\n",
    "Users_df = spark.read.format(\"com.databricks.spark.xml\")\\\n",
    " .option(\"rowTag\", \"row\")\\\n",
    " .option(\"charset\", \"UTF8\")\\\n",
    " .schema(schema_users)\\\n",
    " .option(\"treatEmptyValuesAsNulls\", \"true\")\\\n",
    " .load(\"s3://bigdata-project-data-us-east-1/Users.xml\")\n",
    "\n",
    "Users_df.printSchema()\n",
    "Users_df.show(3, vertical=True)"
   ]
  },
  {
   "cell_type": "markdown",
   "id": "3ceadafd",
   "metadata": {},
   "source": [
    "#### h) Votes"
   ]
  },
  {
   "cell_type": "code",
   "execution_count": 11,
   "id": "8dd2fad3",
   "metadata": {
    "scrolled": true
   },
   "outputs": [
    {
     "data": {
      "application/vnd.jupyter.widget-view+json": {
       "model_id": "",
       "version_major": 2,
       "version_minor": 0
      },
      "text/plain": [
       "FloatProgress(value=0.0, bar_style='info', description='Progress:', layout=Layout(height='25px', width='50%'),…"
      ]
     },
     "metadata": {},
     "output_type": "display_data"
    },
    {
     "name": "stdout",
     "output_type": "stream",
     "text": [
      "root\n",
      " |-- _BountyAmount: integer (nullable = true)\n",
      " |-- _CreationDate: timestamp (nullable = true)\n",
      " |-- _Id: integer (nullable = true)\n",
      " |-- _PostId: integer (nullable = true)\n",
      " |-- _UserId: integer (nullable = true)\n",
      " |-- _VoteTypeId: integer (nullable = true)\n",
      "\n",
      "-RECORD 0----------------------------\n",
      " _BountyAmount | null                \n",
      " _CreationDate | 2016-01-12 00:00:00 \n",
      " _Id           | 1                   \n",
      " _PostId       | 1                   \n",
      " _UserId       | null                \n",
      " _VoteTypeId   | 2                   \n",
      "-RECORD 1----------------------------\n",
      " _BountyAmount | null                \n",
      " _CreationDate | 2016-01-12 00:00:00 \n",
      " _Id           | 2                   \n",
      " _PostId       | 2                   \n",
      " _UserId       | null                \n",
      " _VoteTypeId   | 2                   \n",
      "-RECORD 2----------------------------\n",
      " _BountyAmount | null                \n",
      " _CreationDate | 2016-01-12 00:00:00 \n",
      " _Id           | 3                   \n",
      " _PostId       | 3                   \n",
      " _UserId       | null                \n",
      " _VoteTypeId   | 2                   \n",
      "only showing top 3 rows"
     ]
    }
   ],
   "source": [
    "schema_votes = StructType([StructField(\"_BountyAmount\", IntegerType()),\\\n",
    "                            StructField(\"_CreationDate\", TimestampType()),\\\n",
    "                            StructField(\"_Id\", IntegerType()),\\\n",
    "                            StructField(\"_PostId\", IntegerType()),\\\n",
    "                            StructField(\"_UserId\", IntegerType()),\\\n",
    "                            StructField(\"_VoteTypeId\", IntegerType())])\n",
    "\n",
    "Votes_df = spark.read.format(\"com.databricks.spark.xml\")\\\n",
    " .option(\"rowTag\", \"row\")\\\n",
    " .option(\"charset\", \"UTF8\")\\\n",
    " .schema(schema_votes)\\\n",
    " .option(\"treatEmptyValuesAsNulls\", \"true\")\\\n",
    " .load(\"s3://bigdata-project-data-us-east-1/Votes.xml\")\n",
    "\n",
    "Votes_df.printSchema()\n",
    "Votes_df.show(3, vertical=True)"
   ]
  },
  {
   "cell_type": "markdown",
   "id": "5ca8b7d4",
   "metadata": {},
   "source": [
    "### 3. Data cleaning"
   ]
  },
  {
   "cell_type": "markdown",
   "id": "c8645404",
   "metadata": {},
   "source": [
    "#### 3.1. Clean column names"
   ]
  },
  {
   "cell_type": "markdown",
   "id": "cde34efe",
   "metadata": {},
   "source": [
    "#### a) Badges"
   ]
  },
  {
   "cell_type": "code",
   "execution_count": 12,
   "id": "76e83767",
   "metadata": {},
   "outputs": [
    {
     "data": {
      "application/vnd.jupyter.widget-view+json": {
       "model_id": "",
       "version_major": 2,
       "version_minor": 0
      },
      "text/plain": [
       "FloatProgress(value=0.0, bar_style='info', description='Progress:', layout=Layout(height='25px', width='50%'),…"
      ]
     },
     "metadata": {},
     "output_type": "display_data"
    },
    {
     "name": "stdout",
     "output_type": "stream",
     "text": [
      "+-----+--------------------+---+--------------+--------+------+\n",
      "|Class|                Date| Id|          Name|TagBased|UserId|\n",
      "+-----+--------------------+---+--------------+--------+------+\n",
      "|    3|2016-01-12 18:44:...|  2|Autobiographer|   false|    23|\n",
      "|    3|2016-01-12 18:44:...|  3|Autobiographer|   false|    22|\n",
      "|    3|2016-01-12 18:44:...|  4|Autobiographer|   false|    21|\n",
      "|    3|2016-01-12 18:44:...|  5|Autobiographer|   false|    20|\n",
      "|    3|2016-01-12 18:44:...|  6|Autobiographer|   false|    19|\n",
      "|    3|2016-01-12 18:44:...|  7|Autobiographer|   false|    18|\n",
      "|    3|2016-01-12 18:44:...|  8|Autobiographer|   false|    17|\n",
      "|    3|2016-01-12 18:44:...|  9|Autobiographer|   false|    16|\n",
      "|    3|2016-01-12 18:44:...| 10|Autobiographer|   false|    15|\n",
      "|    3|2016-01-12 18:44:...| 11|Autobiographer|   false|    14|\n",
      "|    3|2016-01-12 18:44:...| 12|Autobiographer|   false|    13|\n",
      "|    3|2016-01-12 18:44:...| 13|Autobiographer|   false|    12|\n",
      "|    3|2016-01-12 18:44:...| 14|Autobiographer|   false|    11|\n",
      "|    3|2016-01-12 18:44:...| 15|Autobiographer|   false|    10|\n",
      "|    3|2016-01-12 18:44:...| 16|Autobiographer|   false|     9|\n",
      "|    3|2016-01-12 18:44:...| 17|Autobiographer|   false|     8|\n",
      "|    3|2016-01-12 18:44:...| 18|Autobiographer|   false|     7|\n",
      "|    3|2016-01-12 18:44:...| 19|Autobiographer|   false|     6|\n",
      "|    3|2016-01-12 18:44:...| 20|Autobiographer|   false|     5|\n",
      "|    3|2016-01-12 18:44:...| 21|Autobiographer|   false|     4|\n",
      "+-----+--------------------+---+--------------+--------+------+\n",
      "only showing top 20 rows"
     ]
    }
   ],
   "source": [
    "Badges_DF = Badges_df.select([f.col(colnames).alias(colnames.replace('_', '')) for colnames in Badges_df.columns])\n",
    "Badges_DF.show()"
   ]
  },
  {
   "cell_type": "markdown",
   "id": "192f16a6",
   "metadata": {},
   "source": [
    "#### b) Comments"
   ]
  },
  {
   "cell_type": "code",
   "execution_count": 13,
   "id": "fe086520",
   "metadata": {
    "scrolled": true
   },
   "outputs": [
    {
     "data": {
      "application/vnd.jupyter.widget-view+json": {
       "model_id": "",
       "version_major": 2,
       "version_minor": 0
      },
      "text/plain": [
       "FloatProgress(value=0.0, bar_style='info', description='Progress:', layout=Layout(height='25px', width='50%'),…"
      ]
     },
     "metadata": {},
     "output_type": "display_data"
    },
    {
     "name": "stdout",
     "output_type": "stream",
     "text": [
      "+--------------+--------------------+---+------+-----+--------------------+---------------+------+\n",
      "|ContentLicense|        CreationDate| Id|PostId|Score|                Text|UserDisplayName|UserId|\n",
      "+--------------+--------------------+---+------+-----+--------------------+---------------+------+\n",
      "|  CC BY-SA 3.0|2016-01-12 18:47:...|  1|     1|    4|Did I just place ...|           null|    23|\n",
      "|  CC BY-SA 3.0|2016-01-12 19:01:...|  2|     3|    1|I think it would ...|           null|    10|\n",
      "|  CC BY-SA 3.0|2016-01-12 19:42:...|  3|     1|    1|What are you look...|           null|    26|\n",
      "|  CC BY-SA 3.0|2016-01-12 19:42:...|  4|    21|    9|It is worth notin...|           null|    36|\n",
      "|  CC BY-SA 3.0|2016-01-12 19:44:...|  5|     5|    7|I think this is t...|           null|    36|\n",
      "|  CC BY-SA 3.0|2016-01-12 19:44:...|  6|    21|    0|Note that this pa...|           null|    46|\n",
      "|  CC BY-SA 3.0|2016-01-12 19:45:...|  7|     5|    1|I'm voting to clo...|           null|    17|\n",
      "|  CC BY-SA 3.0|2016-01-12 19:55:...|  9|     1|    1|@TomvanderZanden ...|           null|    16|\n",
      "|  CC BY-SA 3.0|2016-01-12 19:55:...| 10|    33|    0|Other than it wil...|           null|    23|\n",
      "|  CC BY-SA 3.0|2016-01-12 19:57:...| 11|     5|    4|@1337joe: I disag...|           null|    58|\n",
      "|  CC BY-SA 3.0|2016-01-12 20:00:...| 12|    38|    4|Note: I believe t...|           null|    36|\n",
      "|  CC BY-SA 3.0|2016-01-12 20:03:...| 13|    33|    0|They can still se...|           null|    20|\n",
      "|  CC BY-SA 3.0|2016-01-12 20:06:...| 14|    40|    0|Did you look on g...|           null|    26|\n",
      "|  CC BY-SA 3.0|2016-01-12 20:07:...| 16|    40|    3|The answer to thi...|           null|    16|\n",
      "|  CC BY-SA 3.0|2016-01-12 20:12:...| 19|     2|    7|You should probab...|           null|    26|\n",
      "|  CC BY-SA 3.0|2016-01-12 20:19:...| 20|     3|    1|There's a \"in ord...|           null|    64|\n",
      "|  CC BY-SA 3.0|2016-01-12 20:29:...| 22|    54|    1|What printing tec...|           null|    48|\n",
      "|  CC BY-SA 3.0|2016-01-12 20:32:...| 23|    40|    2|I agree with @Ada...|           null|    60|\n",
      "|  CC BY-SA 3.0|2016-01-12 20:33:...| 24|    58|    0|This depends too ...|           null|    26|\n",
      "|  CC BY-SA 3.0|2016-01-12 20:34:...| 25|    40|    0|@deltree Consider...|           null|    16|\n",
      "+--------------+--------------------+---+------+-----+--------------------+---------------+------+\n",
      "only showing top 20 rows"
     ]
    }
   ],
   "source": [
    "Comments_DF = Comments_df.select([f.col(colnames).alias(colnames.replace('_', '')) for colnames in Comments_df.columns])\n",
    "Comments_DF.show()"
   ]
  },
  {
   "cell_type": "markdown",
   "id": "4a6ae811",
   "metadata": {},
   "source": [
    "#### c) PostHistory"
   ]
  },
  {
   "cell_type": "code",
   "execution_count": 14,
   "id": "95d4fc30",
   "metadata": {
    "scrolled": true
   },
   "outputs": [
    {
     "data": {
      "application/vnd.jupyter.widget-view+json": {
       "model_id": "",
       "version_major": 2,
       "version_minor": 0
      },
      "text/plain": [
       "FloatProgress(value=0.0, bar_style='info', description='Progress:', layout=Layout(height='25px', width='50%'),…"
      ]
     },
     "metadata": {},
     "output_type": "display_data"
    },
    {
     "name": "stdout",
     "output_type": "stream",
     "text": [
      "-RECORD 0---------------------------------\n",
      " Comment           | null                 \n",
      " ContentLicense    | CC BY-SA 3.0         \n",
      " CreationDate      | 2016-01-12 18:45:... \n",
      " Id                | 1                    \n",
      " PostHistoryTypeId | 2                    \n",
      " PostId            | 1                    \n",
      " RevisionGUID      | 6deffe8b-79c7-467... \n",
      " Text              | When I've printed... \n",
      " UserDisplayName   | null                 \n",
      " UserId            | 16                   \n",
      "-RECORD 1---------------------------------\n",
      " Comment           | null                 \n",
      " ContentLicense    | CC BY-SA 3.0         \n",
      " CreationDate      | 2016-01-12 18:45:... \n",
      " Id                | 2                    \n",
      " PostHistoryTypeId | 1                    \n",
      " PostId            | 1                    \n",
      " RevisionGUID      | 6deffe8b-79c7-467... \n",
      " Text              | How to obtain hig... \n",
      " UserDisplayName   | null                 \n",
      " UserId            | 16                   \n",
      "-RECORD 2---------------------------------\n",
      " Comment           | null                 \n",
      " ContentLicense    | CC BY-SA 3.0         \n",
      " CreationDate      | 2016-01-12 18:45:... \n",
      " Id                | 3                    \n",
      " PostHistoryTypeId | 3                    \n",
      " PostId            | 1                    \n",
      " RevisionGUID      | 6deffe8b-79c7-467... \n",
      " Text              | <resolution><spee... \n",
      " UserDisplayName   | null                 \n",
      " UserId            | 16                   \n",
      "only showing top 3 rows"
     ]
    }
   ],
   "source": [
    "PostHistory_DF = PostHistory_df.select([f.col(colnames).alias(colnames.replace('_', '')) for colnames in PostHistory_df.columns])\n",
    "PostHistory_DF.show(3, vertical=True)"
   ]
  },
  {
   "cell_type": "markdown",
   "id": "be43d25f",
   "metadata": {},
   "source": [
    "#### d) PostLinks"
   ]
  },
  {
   "cell_type": "code",
   "execution_count": 15,
   "id": "f9c949b7",
   "metadata": {
    "scrolled": true
   },
   "outputs": [
    {
     "data": {
      "application/vnd.jupyter.widget-view+json": {
       "model_id": "",
       "version_major": 2,
       "version_minor": 0
      },
      "text/plain": [
       "FloatProgress(value=0.0, bar_style='info', description='Progress:', layout=Layout(height='25px', width='50%'),…"
      ]
     },
     "metadata": {},
     "output_type": "display_data"
    },
    {
     "name": "stdout",
     "output_type": "stream",
     "text": [
      "+-----------------------+----+----------+------+-------------+\n",
      "|CreationDate           |Id  |LinkTypeId|PostId|RelatedPostId|\n",
      "+-----------------------+----+----------+------+-------------+\n",
      "|2016-01-12 20:16:38.26 |33  |1         |49    |2            |\n",
      "|2016-01-12 20:49:28.873|52  |1         |65    |20           |\n",
      "|2016-01-13 01:52:20.523|216 |1         |81    |49           |\n",
      "|2016-01-13 17:11:36.973|357 |1         |199   |6            |\n",
      "|2016-01-13 20:41:04.5  |381 |1         |211   |147          |\n",
      "|2016-01-13 20:41:04.5  |382 |1         |211   |181          |\n",
      "|2016-01-13 20:59:21.28 |388 |1         |215   |78           |\n",
      "|2016-01-14 07:27:32.037|449 |1         |239   |84           |\n",
      "|2016-01-15 13:05:05.66 |504 |1         |269   |264          |\n",
      "|2016-01-15 16:33:07.33 |513 |1         |271   |61           |\n",
      "|2016-01-19 19:52:06.613|639 |1         |334   |54           |\n",
      "|2016-01-25 12:37:40.963|722 |1         |388   |233          |\n",
      "|2016-01-25 15:29:29.957|737 |1         |383   |233          |\n",
      "|2016-01-25 21:10:07.99 |738 |1         |389   |352          |\n",
      "|2016-01-26 17:45:57.233|771 |1         |402   |394          |\n",
      "|2016-01-26 17:45:57.233|772 |1         |402   |389          |\n",
      "|2016-02-02 13:54:25.443|900 |1         |410   |5            |\n",
      "|2016-02-03 14:05:25.093|1012|1         |458   |331          |\n",
      "|2016-02-07 16:14:25.517|1180|1         |343   |518          |\n",
      "|2016-02-08 07:26:35.527|1185|1         |522   |454          |\n",
      "+-----------------------+----+----------+------+-------------+\n",
      "only showing top 20 rows"
     ]
    }
   ],
   "source": [
    "PostLinks_DF = PostLinks_df.select([f.col(colnames).alias(colnames.replace('_', '')) for colnames in PostLinks_df.columns])\n",
    "PostLinks_DF.show(truncate=False)"
   ]
  },
  {
   "cell_type": "markdown",
   "id": "3479dac6",
   "metadata": {},
   "source": [
    "#### e) Posts"
   ]
  },
  {
   "cell_type": "code",
   "execution_count": 16,
   "id": "bd37933f",
   "metadata": {
    "scrolled": true
   },
   "outputs": [
    {
     "data": {
      "application/vnd.jupyter.widget-view+json": {
       "model_id": "",
       "version_major": 2,
       "version_minor": 0
      },
      "text/plain": [
       "FloatProgress(value=0.0, bar_style='info', description='Progress:', layout=Layout(height='25px', width='50%'),…"
      ]
     },
     "metadata": {},
     "output_type": "display_data"
    },
    {
     "name": "stdout",
     "output_type": "stream",
     "text": [
      "-RECORD 0--------------------------------------------------------------------------------------------------------------------------------------------------------------------------------------------------------------------------------------------------------------------------------------------------------------------------------------------------------------------------------------------------------------------------------------------------------------------------\n",
      " AcceptedAnswerId      | 51                                                                                                                                                                                                                                                                                                                                                                                                                                                        \n",
      " AnswerCount           | 2                                                                                                                                                                                                                                                                                                                                                                                                                                                         \n",
      " Body                  | <p>When I've printed an object I've had to choose between high resolution and quick prints.  What techniques or technologies can I use or deploy to speed up my high resolution prints?</p>\\n                                                                                                                                                                                                                                                             \n",
      " ClosedDate            | null                                                                                                                                                                                                                                                                                                                                                                                                                                                      \n",
      " CommentCount          | 6                                                                                                                                                                                                                                                                                                                                                                                                                                                         \n",
      " CommunityOwnedDate    | null                                                                                                                                                                                                                                                                                                                                                                                                                                                      \n",
      " ContentLicense        | CC BY-SA 3.0                                                                                                                                                                                                                                                                                                                                                                                                                                              \n",
      " CreationDate          | 2016-01-12 18:45:19.963                                                                                                                                                                                                                                                                                                                                                                                                                                   \n",
      " FavoriteCount         | null                                                                                                                                                                                                                                                                                                                                                                                                                                                      \n",
      " Id                    | 1                                                                                                                                                                                                                                                                                                                                                                                                                                                         \n",
      " LastActivityDate      | 2017-10-31 02:31:08.56                                                                                                                                                                                                                                                                                                                                                                                                                                    \n",
      " LastEditDate          | null                                                                                                                                                                                                                                                                                                                                                                                                                                                      \n",
      " LastEditorDisplayName | null                                                                                                                                                                                                                                                                                                                                                                                                                                                      \n",
      " LastEditorUserId      | null                                                                                                                                                                                                                                                                                                                                                                                                                                                      \n",
      " OwnerDisplayName      | null                                                                                                                                                                                                                                                                                                                                                                                                                                                      \n",
      " OwnerUserId           | 16                                                                                                                                                                                                                                                                                                                                                                                                                                                        \n",
      " ParentId              | null                                                                                                                                                                                                                                                                                                                                                                                                                                                      \n",
      " PostTypeId            | 1                                                                                                                                                                                                                                                                                                                                                                                                                                                         \n",
      " Score                 | 10                                                                                                                                                                                                                                                                                                                                                                                                                                                        \n",
      " Tags                  | <resolution><speed><quality>                                                                                                                                                                                                                                                                                                                                                                                                                              \n",
      " Title                 | How to obtain high resolution prints in a shorter period of time?                                                                                                                                                                                                                                                                                                                                                                                         \n",
      " ViewCount             | 409                                                                                                                                                                                                                                                                                                                                                                                                                                                       \n",
      "-RECORD 1--------------------------------------------------------------------------------------------------------------------------------------------------------------------------------------------------------------------------------------------------------------------------------------------------------------------------------------------------------------------------------------------------------------------------------------------------------------------------\n",
      " AcceptedAnswerId      | 12                                                                                                                                                                                                                                                                                                                                                                                                                                                        \n",
      " AnswerCount           | 4                                                                                                                                                                                                                                                                                                                                                                                                                                                         \n",
      " Body                  | <p>I would like to buy a 3D printer, but I'm concerned about the health risks that are associated with its operation. Some groups of scientists say it can be <a href=\"http://www.techworld.com/news/personal-tech/scientists-warn-of-3d-printing-health-effects-as-tech-hits-high-street-3460992/\">harmful</a> for humans.</p>\\n\\n<p>What do I need to consider before buying a 3D printer if I care about my health? Are there any safe printers?</p>\\n \n",
      " ClosedDate            | null                                                                                                                                                                                                                                                                                                                                                                                                                                                      \n",
      " CommentCount          | 1                                                                                                                                                                                                                                                                                                                                                                                                                                                         \n",
      " CommunityOwnedDate    | null                                                                                                                                                                                                                                                                                                                                                                                                                                                      \n",
      " ContentLicense        | CC BY-SA 3.0                                                                                                                                                                                                                                                                                                                                                                                                                                              \n",
      " CreationDate          | 2016-01-12 18:45:51.287                                                                                                                                                                                                                                                                                                                                                                                                                                   \n",
      " FavoriteCount         | null                                                                                                                                                                                                                                                                                                                                                                                                                                                      \n",
      " Id                    | 2                                                                                                                                                                                                                                                                                                                                                                                                                                                         \n",
      " LastActivityDate      | 2019-06-10 23:18:34.19                                                                                                                                                                                                                                                                                                                                                                                                                                    \n",
      " LastEditDate          | 2016-11-15 16:16:11.163                                                                                                                                                                                                                                                                                                                                                                                                                                   \n",
      " LastEditorDisplayName | null                                                                                                                                                                                                                                                                                                                                                                                                                                                      \n",
      " LastEditorUserId      | 334                                                                                                                                                                                                                                                                                                                                                                                                                                                       \n",
      " OwnerDisplayName      | null                                                                                                                                                                                                                                                                                                                                                                                                                                                      \n",
      " OwnerUserId           | 20                                                                                                                                                                                                                                                                                                                                                                                                                                                        \n",
      " ParentId              | null                                                                                                                                                                                                                                                                                                                                                                                                                                                      \n",
      " PostTypeId            | 1                                                                                                                                                                                                                                                                                                                                                                                                                                                         \n",
      " Score                 | 33                                                                                                                                                                                                                                                                                                                                                                                                                                                        \n",
      " Tags                  | <print-material><safety><health>                                                                                                                                                                                                                                                                                                                                                                                                                          \n",
      " Title                 | Is 3D printing safe for your health?                                                                                                                                                                                                                                                                                                                                                                                                                      \n",
      " ViewCount             | 7149                                                                                                                                                                                                                                                                                                                                                                                                                                                      \n",
      "-RECORD 2--------------------------------------------------------------------------------------------------------------------------------------------------------------------------------------------------------------------------------------------------------------------------------------------------------------------------------------------------------------------------------------------------------------------------------------------------------------------------\n",
      " AcceptedAnswerId      | 152                                                                                                                                                                                                                                                                                                                                                                                                                                                       \n",
      " AnswerCount           | 3                                                                                                                                                                                                                                                                                                                                                                                                                                                         \n",
      " Body                  | <p>I know the minimum layer height will effect how detailed of an item you can print and the amount of time it takes to print something, but is it necessary to have an extremely low minimum layer height if you plan to print only larger objects?</p>\\n                                                                                                                                                                                                \n",
      " ClosedDate            | null                                                                                                                                                                                                                                                                                                                                                                                                                                                      \n",
      " CommentCount          | 5                                                                                                                                                                                                                                                                                                                                                                                                                                                         \n",
      " CommunityOwnedDate    | null                                                                                                                                                                                                                                                                                                                                                                                                                                                      \n",
      " ContentLicense        | CC BY-SA 3.0                                                                                                                                                                                                                                                                                                                                                                                                                                              \n",
      " CreationDate          | 2016-01-12 18:46:22.083                                                                                                                                                                                                                                                                                                                                                                                                                                   \n",
      " FavoriteCount         | null                                                                                                                                                                                                                                                                                                                                                                                                                                                      \n",
      " Id                    | 3                                                                                                                                                                                                                                                                                                                                                                                                                                                         \n",
      " LastActivityDate      | 2016-09-19 15:41:06.537                                                                                                                                                                                                                                                                                                                                                                                                                                   \n",
      " LastEditDate          | 2016-01-12 22:00:36.347                                                                                                                                                                                                                                                                                                                                                                                                                                   \n",
      " LastEditorDisplayName | null                                                                                                                                                                                                                                                                                                                                                                                                                                                      \n",
      " LastEditorUserId      | 11                                                                                                                                                                                                                                                                                                                                                                                                                                                        \n",
      " OwnerDisplayName      | null                                                                                                                                                                                                                                                                                                                                                                                                                                                      \n",
      " OwnerUserId           | 11                                                                                                                                                                                                                                                                                                                                                                                                                                                        \n",
      " ParentId              | null                                                                                                                                                                                                                                                                                                                                                                                                                                                      \n",
      " PostTypeId            | 1                                                                                                                                                                                                                                                                                                                                                                                                                                                         \n",
      " Score                 | 18                                                                                                                                                                                                                                                                                                                                                                                                                                                        \n",
      " Tags                  | <quality><resolution>                                                                                                                                                                                                                                                                                                                                                                                                                                     \n",
      " Title                 | How important is the minimum layer height on a 3d printer?                                                                                                                                                                                                                                                                                                                                                                                                \n",
      " ViewCount             | 2670                                                                                                                                                                                                                                                                                                                                                                                                                                                      \n",
      "only showing top 3 rows"
     ]
    }
   ],
   "source": [
    "Posts_DF = Posts_df.select([f.col(colnames).alias(colnames.replace('_', '')) for colnames in Posts_df.columns])\n",
    "Posts_DF.show(3, vertical=True, truncate=False)"
   ]
  },
  {
   "cell_type": "markdown",
   "id": "99bcc3df",
   "metadata": {},
   "source": [
    "#### f) Tags"
   ]
  },
  {
   "cell_type": "code",
   "execution_count": 17,
   "id": "5ebdcb14",
   "metadata": {
    "scrolled": true
   },
   "outputs": [
    {
     "data": {
      "application/vnd.jupyter.widget-view+json": {
       "model_id": "",
       "version_major": 2,
       "version_minor": 0
      },
      "text/plain": [
       "FloatProgress(value=0.0, bar_style='info', description='Progress:', layout=Layout(height='25px', width='50%'),…"
      ]
     },
     "metadata": {},
     "output_type": "display_data"
    },
    {
     "name": "stdout",
     "output_type": "stream",
     "text": [
      "+-----+-------------+------------+---+------------------+----------+\n",
      "|Count|ExcerptPostId|CreationDate| Id|           TagName|WikiPostId|\n",
      "+-----+-------------+------------+---+------------------+----------+\n",
      "|   27|          434|        null|  1|        resolution|       433|\n",
      "|   48|          112|        null|  2|             speed|       111|\n",
      "|   38|          114|        null|  3|           quality|       113|\n",
      "|   14|          120|        null|  4|            health|       119|\n",
      "|   60|          489|        null|  6|          material|       488|\n",
      "|  103|          287|        null|  7|               fdm|       286|\n",
      "|  285|            8|        null|  8|          filament|         7|\n",
      "|   55|          428|        null|  9|          makerbot|       427|\n",
      "|   23|         7059|        null| 10|             color|      7058|\n",
      "|    5|        10078|        null| 11|          outdoors|     10077|\n",
      "|   28|          812|        null| 13|           surface|       811|\n",
      "|    9|         3690|        null| 15|       metal-parts|      3689|\n",
      "|   91|          535|        null| 17|support-structures|       534|\n",
      "|   25|          126|        null| 18|             rafts|       125|\n",
      "|    7|          128|        null| 21|             brims|       127|\n",
      "|   64|          185|        null| 22|            reprap|       184|\n",
      "|    9|         7054|        null| 25|              cost|      7053|\n",
      "|    6|         null|        null| 26|        estimation|      null|\n",
      "|   61|          436|        null| 27|   desktop-printer|       435|\n",
      "|   31|          481|        null| 28|       dual-nozzle|       480|\n",
      "+-----+-------------+------------+---+------------------+----------+\n",
      "only showing top 20 rows"
     ]
    }
   ],
   "source": [
    "Tags_DF = Tags_df.select([f.col(colnames).alias(colnames.replace('_', '')) for colnames in Tags_df.columns])\n",
    "Tags_DF.show()"
   ]
  },
  {
   "cell_type": "markdown",
   "id": "991b0941",
   "metadata": {},
   "source": [
    "#### g) Users"
   ]
  },
  {
   "cell_type": "code",
   "execution_count": 18,
   "id": "b42f761e",
   "metadata": {
    "scrolled": false
   },
   "outputs": [
    {
     "data": {
      "application/vnd.jupyter.widget-view+json": {
       "model_id": "",
       "version_major": 2,
       "version_minor": 0
      },
      "text/plain": [
       "FloatProgress(value=0.0, bar_style='info', description='Progress:', layout=Layout(height='25px', width='50%'),…"
      ]
     },
     "metadata": {},
     "output_type": "display_data"
    },
    {
     "name": "stdout",
     "output_type": "stream",
     "text": [
      "-RECORD 0--------------------------------------------------------------------------------------------------------------------------------------------------------------------------------------------------------------------------------------------------------------------------------------------------------------------------------------------------------------------------------------------------------------------------------------------------------------------------------------------------------------------------------------------------------------------------------------------------------------------------------------------------------------------------------------\n",
      " AboutMe        | <p>Hi, I'm not really a person.</p>\\r\\n<p>I'm a background process that helps keep this site clean!</p>\\r\\n<p>I do things like</p>\\r\\n<ul>\\r\\n<li>Randomly poke old unanswered questions every hour so they get some attention</li>\\r\\n<li>Own community questions and answers so nobody gets unnecessary reputation from them</li>\\r\\n<li>Own downvotes on spam/evil posts that get permanently deleted</li>\\r\\n<li>Own suggested edits from anonymous users</li>\\r\\n<li><a href=\"http://meta.stackoverflow.com/a/92006\">Remove abandoned questions</a></li>\\r\\n</ul>                                                                                                       \n",
      " AccountId      | -1                                                                                                                                                                                                                                                                                                                                                                                                                                                                                                                                                                                                                                                                           \n",
      " CreationDate   | 2016-01-11 22:16:10.83                                                                                                                                                                                                                                                                                                                                                                                                                                                                                                                                                                                                                                                       \n",
      " DisplayName    | Community                                                                                                                                                                                                                                                                                                                                                                                                                                                                                                                                                                                                                                                                    \n",
      " DownVotes      | 3585                                                                                                                                                                                                                                                                                                                                                                                                                                                                                                                                                                                                                                                                         \n",
      " Id             | -1                                                                                                                                                                                                                                                                                                                                                                                                                                                                                                                                                                                                                                                                           \n",
      " LastAccessDate | 2016-01-11 22:16:10.83                                                                                                                                                                                                                                                                                                                                                                                                                                                                                                                                                                                                                                                       \n",
      " Location       | on the server farm                                                                                                                                                                                                                                                                                                                                                                                                                                                                                                                                                                                                                                                           \n",
      " Reputation     | 1                                                                                                                                                                                                                                                                                                                                                                                                                                                                                                                                                                                                                                                                            \n",
      " UpVotes        | 51                                                                                                                                                                                                                                                                                                                                                                                                                                                                                                                                                                                                                                                                           \n",
      " Views          | 160                                                                                                                                                                                                                                                                                                                                                                                                                                                                                                                                                                                                                                                                          \n",
      " WebsiteUrl     | null                                                                                                                                                                                                                                                                                                                                                                                                                                                                                                                                                                                                                                                                         \n",
      "-RECORD 1--------------------------------------------------------------------------------------------------------------------------------------------------------------------------------------------------------------------------------------------------------------------------------------------------------------------------------------------------------------------------------------------------------------------------------------------------------------------------------------------------------------------------------------------------------------------------------------------------------------------------------------------------------------------------------------\n",
      " AboutMe        | <p><a href=\"http://blog.stackoverflow.com/2010/04/welcome-stack-overflow-valued-associate-00005/\">Stack Exchange Valued Associate #00005</a></p>\\n\\n<p>I was the Director of Community Development for the Stack Overflow Network for 10 years (<strong>120 million</strong> visitors per month!)</p>\\n\\n<p><strong>CURRENTLY LOOKING FOR A NEW ADVENTURE:</strong></p>\\n\\n<p>If anyone is looking to develop their brand's online community with someone who has a heck of a track record in innovative product and feature design, let's talk!</p>\\n\\n<p>&#114;&#99;&#97;&#114;&#116;&#97;&#105;&#110;&#111;&#64;&#121;&#97;&#104;&#111;&#111;&#46;&#99;&#111;&#109;</p>\\n \n",
      " AccountId      | 34933                                                                                                                                                                                                                                                                                                                                                                                                                                                                                                                                                                                                                                                                        \n",
      " CreationDate   | 2016-01-12 18:02:28.7                                                                                                                                                                                                                                                                                                                                                                                                                                                                                                                                                                                                                                                        \n",
      " DisplayName    | Robert Cartaino                                                                                                                                                                                                                                                                                                                                                                                                                                                                                                                                                                                                                                                              \n",
      " DownVotes      | 14                                                                                                                                                                                                                                                                                                                                                                                                                                                                                                                                                                                                                                                                           \n",
      " Id             | 1                                                                                                                                                                                                                                                                                                                                                                                                                                                                                                                                                                                                                                                                            \n",
      " LastAccessDate | 2019-06-06 21:50:12.023                                                                                                                                                                                                                                                                                                                                                                                                                                                                                                                                                                                                                                                      \n",
      " Location       | Palm Bay, FL                                                                                                                                                                                                                                                                                                                                                                                                                                                                                                                                                                                                                                                                 \n",
      " Reputation     | 101                                                                                                                                                                                                                                                                                                                                                                                                                                                                                                                                                                                                                                                                          \n",
      " UpVotes        | 0                                                                                                                                                                                                                                                                                                                                                                                                                                                                                                                                                                                                                                                                            \n",
      " Views          | 355                                                                                                                                                                                                                                                                                                                                                                                                                                                                                                                                                                                                                                                                          \n",
      " WebsiteUrl     | null                                                                                                                                                                                                                                                                                                                                                                                                                                                                                                                                                                                                                                                                         \n",
      "-RECORD 2--------------------------------------------------------------------------------------------------------------------------------------------------------------------------------------------------------------------------------------------------------------------------------------------------------------------------------------------------------------------------------------------------------------------------------------------------------------------------------------------------------------------------------------------------------------------------------------------------------------------------------------------------------------------------------------\n",
      " AboutMe        | <p>I am a Technical Success Manager (part of our Support Team, formerly a member of the Community Growth Team) on the Stack Exchange Network. Pleased to meet you!<br/><br/>\\nProgrammer/designer with a Computer Science degree and an electronic media degree. Enjoys gaming and does designwork as a hobby.<br/><br/>\\n&quot;Being an Alice in the world of computing can be a very problematic position.&quot;<br/><br/></p>\\n\\n                                                                                                                                                                                                                                         \n",
      " AccountId      | 102159                                                                                                                                                                                                                                                                                                                                                                                                                                                                                                                                                                                                                                                                       \n",
      " CreationDate   | 2016-01-12 18:04:23.367                                                                                                                                                                                                                                                                                                                                                                                                                                                                                                                                                                                                                                                      \n",
      " DisplayName    | 2D Printing Grace Note                                                                                                                                                                                                                                                                                                                                                                                                                                                                                                                                                                                                                                                       \n",
      " DownVotes      | 0                                                                                                                                                                                                                                                                                                                                                                                                                                                                                                                                                                                                                                                                            \n",
      " Id             | 2                                                                                                                                                                                                                                                                                                                                                                                                                                                                                                                                                                                                                                                                            \n",
      " LastAccessDate | 2017-12-27 13:05:11.077                                                                                                                                                                                                                                                                                                                                                                                                                                                                                                                                                                                                                                                      \n",
      " Location       | null                                                                                                                                                                                                                                                                                                                                                                                                                                                                                                                                                                                                                                                                         \n",
      " Reputation     | 101                                                                                                                                                                                                                                                                                                                                                                                                                                                                                                                                                                                                                                                                          \n",
      " UpVotes        | 0                                                                                                                                                                                                                                                                                                                                                                                                                                                                                                                                                                                                                                                                            \n",
      " Views          | 8                                                                                                                                                                                                                                                                                                                                                                                                                                                                                                                                                                                                                                                                            \n",
      " WebsiteUrl     | null                                                                                                                                                                                                                                                                                                                                                                                                                                                                                                                                                                                                                                                                         \n",
      "only showing top 3 rows"
     ]
    }
   ],
   "source": [
    "Users_DF = Users_df.select([f.col(colnames).alias(colnames.replace('_', '')) for colnames in Users_df.columns])\n",
    "Users_DF.show(3, vertical=True,truncate=False)"
   ]
  },
  {
   "cell_type": "markdown",
   "id": "456e1bd9",
   "metadata": {},
   "source": [
    "#### h) Votes"
   ]
  },
  {
   "cell_type": "code",
   "execution_count": 19,
   "id": "e3fa6d51",
   "metadata": {
    "scrolled": true
   },
   "outputs": [
    {
     "data": {
      "application/vnd.jupyter.widget-view+json": {
       "model_id": "",
       "version_major": 2,
       "version_minor": 0
      },
      "text/plain": [
       "FloatProgress(value=0.0, bar_style='info', description='Progress:', layout=Layout(height='25px', width='50%'),…"
      ]
     },
     "metadata": {},
     "output_type": "display_data"
    },
    {
     "name": "stdout",
     "output_type": "stream",
     "text": [
      "+------------+-------------------+---+------+------+----------+\n",
      "|BountyAmount|       CreationDate| Id|PostId|UserId|VoteTypeId|\n",
      "+------------+-------------------+---+------+------+----------+\n",
      "|        null|2016-01-12 00:00:00|  1|     1|  null|         2|\n",
      "|        null|2016-01-12 00:00:00|  2|     2|  null|         2|\n",
      "|        null|2016-01-12 00:00:00|  3|     3|  null|         2|\n",
      "|        null|2016-01-12 00:00:00|  4|     1|  null|         2|\n",
      "|        null|2016-01-12 00:00:00|  5|     2|  null|        16|\n",
      "|        null|2016-01-12 00:00:00|  6|     4|  null|         2|\n",
      "|        null|2016-01-12 00:00:00|  7|     4|  null|         2|\n",
      "|        null|2016-01-12 00:00:00|  8|     6|  null|         2|\n",
      "|        null|2016-01-12 00:00:00|  9|     2|  null|         2|\n",
      "|        null|2016-01-12 00:00:00| 10|     5|  null|         2|\n",
      "|        null|2016-01-12 00:00:00| 11|     9|  null|         2|\n",
      "|        null|2016-01-12 00:00:00| 12|     6|  null|         2|\n",
      "|        null|2016-01-12 00:00:00| 13|     6|  null|         2|\n",
      "|        null|2016-01-12 00:00:00| 14|    10|  null|         2|\n",
      "|        null|2016-01-12 00:00:00| 15|    10|  null|         2|\n",
      "|        null|2016-01-12 00:00:00| 16|     2|  null|         2|\n",
      "|        null|2016-01-12 00:00:00| 17|     9|  null|         2|\n",
      "|        null|2016-01-12 00:00:00| 18|     5|  null|         2|\n",
      "|        null|2016-01-12 00:00:00| 19|     3|  null|         2|\n",
      "|        null|2016-01-12 00:00:00| 20|     4|  null|         2|\n",
      "+------------+-------------------+---+------+------+----------+\n",
      "only showing top 20 rows"
     ]
    }
   ],
   "source": [
    "Votes_DF = Votes_df.select([f.col(colnames).alias(colnames.replace('_', '')) for colnames in Votes_df.columns])\n",
    "Votes_DF.show()"
   ]
  },
  {
   "cell_type": "markdown",
   "id": "e443c05d",
   "metadata": {},
   "source": [
    "#### 3.2. Clean text columns"
   ]
  },
  {
   "cell_type": "markdown",
   "id": "6a654e4b",
   "metadata": {},
   "source": [
    "#### a) Badges_DF - no cleaning needed"
   ]
  },
  {
   "cell_type": "markdown",
   "id": "4a1b55e9",
   "metadata": {},
   "source": [
    "#### b) Comments_DF"
   ]
  },
  {
   "cell_type": "markdown",
   "id": "1819dd04",
   "metadata": {},
   "source": [
    "##### - clean text columns from multiple spaces, special characters, newline characters etc."
   ]
  },
  {
   "cell_type": "code",
   "execution_count": 20,
   "id": "cf632806",
   "metadata": {},
   "outputs": [
    {
     "data": {
      "application/vnd.jupyter.widget-view+json": {
       "model_id": "",
       "version_major": 2,
       "version_minor": 0
      },
      "text/plain": [
       "FloatProgress(value=0.0, bar_style='info', description='Progress:', layout=Layout(height='25px', width='50%'),…"
      ]
     },
     "metadata": {},
     "output_type": "display_data"
    }
   ],
   "source": [
    "# remove or replace multiple blank spaces, newline, carriage return and special characters \n",
    "\n",
    "Comments_DF_clean = Comments_DF.withColumn(\"Text\",f.regexp_replace(\"Text\",\" +\",\" \"))"
   ]
  },
  {
   "cell_type": "code",
   "execution_count": 21,
   "id": "73e6541e",
   "metadata": {
    "scrolled": true
   },
   "outputs": [
    {
     "data": {
      "application/vnd.jupyter.widget-view+json": {
       "model_id": "",
       "version_major": 2,
       "version_minor": 0
      },
      "text/plain": [
       "FloatProgress(value=0.0, bar_style='info', description='Progress:', layout=Layout(height='25px', width='50%'),…"
      ]
     },
     "metadata": {},
     "output_type": "display_data"
    },
    {
     "name": "stdout",
     "output_type": "stream",
     "text": [
      "0"
     ]
    }
   ],
   "source": [
    "# count records with multiple blank spaces after cleaning\n",
    "\n",
    "Comments_DF_clean.where(Comments_DF_clean.Text.like(\"%  %\")).count()"
   ]
  },
  {
   "cell_type": "code",
   "execution_count": 22,
   "id": "9c9bba50",
   "metadata": {
    "scrolled": true
   },
   "outputs": [
    {
     "data": {
      "application/vnd.jupyter.widget-view+json": {
       "model_id": "",
       "version_major": 2,
       "version_minor": 0
      },
      "text/plain": [
       "FloatProgress(value=0.0, bar_style='info', description='Progress:', layout=Layout(height='25px', width='50%'),…"
      ]
     },
     "metadata": {},
     "output_type": "display_data"
    },
    {
     "name": "stdout",
     "output_type": "stream",
     "text": [
      "-RECORD 0-------------------------------------------------------------------------------------------------------------------------------------------------------------------------------------------------------------------------------------------------------------------------------------------------------------------------------------------------------------------------------------------------------------------------------------------------------------------------------------------------\n",
      " ContentLicense  | CC BY-SA 3.0                                                                                                                                                                                                                                                                                                                                                                                                                                                                           \n",
      " CreationDate    | 2016-01-12 18:47:12.573                                                                                                                                                                                                                                                                                                                                                                                                                                                                \n",
      " Id              | 1                                                                                                                                                                                                                                                                                                                                                                                                                                                                                      \n",
      " PostId          | 1                                                                                                                                                                                                                                                                                                                                                                                                                                                                                      \n",
      " Score           | 4                                                                                                                                                                                                                                                                                                                                                                                                                                                                                      \n",
      " Text            | Did I just place the first upvote? Congrats on getting this site off the ground!                                                                                                                                                                                                                                                                                                                                                                                                       \n",
      " UserDisplayName | null                                                                                                                                                                                                                                                                                                                                                                                                                                                                                   \n",
      " UserId          | 23                                                                                                                                                                                                                                                                                                                                                                                                                                                                                     \n",
      "-RECORD 1-------------------------------------------------------------------------------------------------------------------------------------------------------------------------------------------------------------------------------------------------------------------------------------------------------------------------------------------------------------------------------------------------------------------------------------------------------------------------------------------------\n",
      " ContentLicense  | CC BY-SA 3.0                                                                                                                                                                                                                                                                                                                                                                                                                                                                           \n",
      " CreationDate    | 2016-01-12 19:01:35.18                                                                                                                                                                                                                                                                                                                                                                                                                                                                 \n",
      " Id              | 2                                                                                                                                                                                                                                                                                                                                                                                                                                                                                      \n",
      " PostId          | 3                                                                                                                                                                                                                                                                                                                                                                                                                                                                                      \n",
      " Score           | 1                                                                                                                                                                                                                                                                                                                                                                                                                                                                                      \n",
      " Text            | I think it would be a good idea to specify what type of 3D printer you are talking about. Layer sizes can very a lot between different technologies and printing materials. On top of that, the application plays an important role. There's no general answer to the question how small a layer should be. I suggest changing this question to ask how to know what layer thickness to use and what influences that decision. That would be a canonical question an much more useful. \n",
      " UserDisplayName | null                                                                                                                                                                                                                                                                                                                                                                                                                                                                                   \n",
      " UserId          | 10                                                                                                                                                                                                                                                                                                                                                                                                                                                                                     \n",
      "-RECORD 2-------------------------------------------------------------------------------------------------------------------------------------------------------------------------------------------------------------------------------------------------------------------------------------------------------------------------------------------------------------------------------------------------------------------------------------------------------------------------------------------------\n",
      " ContentLicense  | CC BY-SA 3.0                                                                                                                                                                                                                                                                                                                                                                                                                                                                           \n",
      " CreationDate    | 2016-01-12 19:42:08.613                                                                                                                                                                                                                                                                                                                                                                                                                                                                \n",
      " Id              | 3                                                                                                                                                                                                                                                                                                                                                                                                                                                                                      \n",
      " PostId          | 1                                                                                                                                                                                                                                                                                                                                                                                                                                                                                      \n",
      " Score           | 1                                                                                                                                                                                                                                                                                                                                                                                                                                                                                      \n",
      " Text            | What are you looking for in an answer? You are basically asking how to make your car drive faster while using less fuel.                                                                                                                                                                                                                                                                                                                                                               \n",
      " UserDisplayName | null                                                                                                                                                                                                                                                                                                                                                                                                                                                                                   \n",
      " UserId          | 26                                                                                                                                                                                                                                                                                                                                                                                                                                                                                     \n",
      "only showing top 3 rows"
     ]
    }
   ],
   "source": [
    "Comments_DF_clean.show(3, vertical=True,truncate=False)"
   ]
  },
  {
   "cell_type": "markdown",
   "id": "e95c5ea7",
   "metadata": {},
   "source": [
    "#### - removing unnecesarry columns and records with NULL values in crucial columns"
   ]
  },
  {
   "cell_type": "code",
   "execution_count": 23,
   "id": "b19da405",
   "metadata": {},
   "outputs": [
    {
     "data": {
      "application/vnd.jupyter.widget-view+json": {
       "model_id": "",
       "version_major": 2,
       "version_minor": 0
      },
      "text/plain": [
       "FloatProgress(value=0.0, bar_style='info', description='Progress:', layout=Layout(height='25px', width='50%'),…"
      ]
     },
     "metadata": {},
     "output_type": "display_data"
    }
   ],
   "source": [
    "# remove rows where UserId has NULL values\n",
    "\n",
    "Comments_DF_clean2=Comments_DF_clean.dropna(subset=\"UserId\")"
   ]
  },
  {
   "cell_type": "code",
   "execution_count": 24,
   "id": "5b5c2962",
   "metadata": {},
   "outputs": [
    {
     "data": {
      "application/vnd.jupyter.widget-view+json": {
       "model_id": "",
       "version_major": 2,
       "version_minor": 0
      },
      "text/plain": [
       "FloatProgress(value=0.0, bar_style='info', description='Progress:', layout=Layout(height='25px', width='50%'),…"
      ]
     },
     "metadata": {},
     "output_type": "display_data"
    }
   ],
   "source": [
    "# remove column UserDisplayName\n",
    "Comments_DF_clean3=Comments_DF_clean2.drop(\"UserDisplayName\")"
   ]
  },
  {
   "cell_type": "code",
   "execution_count": 25,
   "id": "c41d26d5",
   "metadata": {},
   "outputs": [
    {
     "data": {
      "application/vnd.jupyter.widget-view+json": {
       "model_id": "",
       "version_major": 2,
       "version_minor": 0
      },
      "text/plain": [
       "FloatProgress(value=0.0, bar_style='info', description='Progress:', layout=Layout(height='25px', width='50%'),…"
      ]
     },
     "metadata": {},
     "output_type": "display_data"
    },
    {
     "name": "stdout",
     "output_type": "stream",
     "text": [
      "+--------------+--------------------+---+------+-----+--------------------+------+\n",
      "|ContentLicense|        CreationDate| Id|PostId|Score|                Text|UserId|\n",
      "+--------------+--------------------+---+------+-----+--------------------+------+\n",
      "|  CC BY-SA 3.0|2016-01-12 18:47:...|  1|     1|    4|Did I just place ...|    23|\n",
      "|  CC BY-SA 3.0|2016-01-12 19:01:...|  2|     3|    1|I think it would ...|    10|\n",
      "|  CC BY-SA 3.0|2016-01-12 19:42:...|  3|     1|    1|What are you look...|    26|\n",
      "|  CC BY-SA 3.0|2016-01-12 19:42:...|  4|    21|    9|It is worth notin...|    36|\n",
      "|  CC BY-SA 3.0|2016-01-12 19:44:...|  5|     5|    7|I think this is t...|    36|\n",
      "|  CC BY-SA 3.0|2016-01-12 19:44:...|  6|    21|    0|Note that this pa...|    46|\n",
      "|  CC BY-SA 3.0|2016-01-12 19:45:...|  7|     5|    1|I'm voting to clo...|    17|\n",
      "|  CC BY-SA 3.0|2016-01-12 19:55:...|  9|     1|    1|@TomvanderZanden ...|    16|\n",
      "|  CC BY-SA 3.0|2016-01-12 19:55:...| 10|    33|    0|Other than it wil...|    23|\n",
      "|  CC BY-SA 3.0|2016-01-12 19:57:...| 11|     5|    4|@1337joe: I disag...|    58|\n",
      "|  CC BY-SA 3.0|2016-01-12 20:00:...| 12|    38|    4|Note: I believe t...|    36|\n",
      "|  CC BY-SA 3.0|2016-01-12 20:03:...| 13|    33|    0|They can still se...|    20|\n",
      "|  CC BY-SA 3.0|2016-01-12 20:06:...| 14|    40|    0|Did you look on g...|    26|\n",
      "|  CC BY-SA 3.0|2016-01-12 20:07:...| 16|    40|    3|The answer to thi...|    16|\n",
      "|  CC BY-SA 3.0|2016-01-12 20:12:...| 19|     2|    7|You should probab...|    26|\n",
      "|  CC BY-SA 3.0|2016-01-12 20:19:...| 20|     3|    1|There's a \"in ord...|    64|\n",
      "|  CC BY-SA 3.0|2016-01-12 20:29:...| 22|    54|    1|What printing tec...|    48|\n",
      "|  CC BY-SA 3.0|2016-01-12 20:32:...| 23|    40|    2|I agree with @Ada...|    60|\n",
      "|  CC BY-SA 3.0|2016-01-12 20:33:...| 24|    58|    0|This depends too ...|    26|\n",
      "|  CC BY-SA 3.0|2016-01-12 20:34:...| 25|    40|    0|@deltree Consider...|    16|\n",
      "+--------------+--------------------+---+------+-----+--------------------+------+\n",
      "only showing top 20 rows"
     ]
    }
   ],
   "source": [
    "Comments_DF_clean3.show()"
   ]
  },
  {
   "cell_type": "markdown",
   "id": "c5d13f79",
   "metadata": {},
   "source": [
    "#### c) PostHistory_DF"
   ]
  },
  {
   "cell_type": "markdown",
   "id": "4d69ce91",
   "metadata": {},
   "source": [
    "##### - clean text columns from multiple spaces, special characters, newline characters etc."
   ]
  },
  {
   "cell_type": "code",
   "execution_count": 26,
   "id": "916d38fd",
   "metadata": {},
   "outputs": [
    {
     "data": {
      "application/vnd.jupyter.widget-view+json": {
       "model_id": "",
       "version_major": 2,
       "version_minor": 0
      },
      "text/plain": [
       "FloatProgress(value=0.0, bar_style='info', description='Progress:', layout=Layout(height='25px', width='50%'),…"
      ]
     },
     "metadata": {},
     "output_type": "display_data"
    },
    {
     "name": "stdout",
     "output_type": "stream",
     "text": [
      "14952"
     ]
    }
   ],
   "source": [
    "# count records with multiple blank spaces\n",
    "\n",
    "PostHistory_DF.where(PostHistory_DF.Text.like(\"%  %\")).count()"
   ]
  },
  {
   "cell_type": "code",
   "execution_count": 27,
   "id": "aaf7b6be",
   "metadata": {},
   "outputs": [
    {
     "data": {
      "application/vnd.jupyter.widget-view+json": {
       "model_id": "",
       "version_major": 2,
       "version_minor": 0
      },
      "text/plain": [
       "FloatProgress(value=0.0, bar_style='info', description='Progress:', layout=Layout(height='25px', width='50%'),…"
      ]
     },
     "metadata": {},
     "output_type": "display_data"
    }
   ],
   "source": [
    "# remove newline characters, carriage return characters and replace multiple blank spaces with just one space\n",
    "\n",
    "PostHistory_DF_clean = PostHistory_DF.withColumn(\"Text\",f.regexp_replace(\"Text\",\" +\",\" \"))"
   ]
  },
  {
   "cell_type": "code",
   "execution_count": 28,
   "id": "1ade0b74",
   "metadata": {},
   "outputs": [
    {
     "data": {
      "application/vnd.jupyter.widget-view+json": {
       "model_id": "",
       "version_major": 2,
       "version_minor": 0
      },
      "text/plain": [
       "FloatProgress(value=0.0, bar_style='info', description='Progress:', layout=Layout(height='25px', width='50%'),…"
      ]
     },
     "metadata": {},
     "output_type": "display_data"
    },
    {
     "name": "stdout",
     "output_type": "stream",
     "text": [
      "0"
     ]
    }
   ],
   "source": [
    "# count records with multiple blank spaces after cleaning\n",
    "\n",
    "PostHistory_DF_clean.where(PostHistory_DF_clean.Text.like(\"%  %\")).count()"
   ]
  },
  {
   "cell_type": "markdown",
   "id": "8f929c79",
   "metadata": {},
   "source": [
    "#### -removing unnecesarry columns and records with NULL values in crucial columns"
   ]
  },
  {
   "cell_type": "code",
   "execution_count": 29,
   "id": "8c2d4f15",
   "metadata": {
    "scrolled": true
   },
   "outputs": [
    {
     "data": {
      "application/vnd.jupyter.widget-view+json": {
       "model_id": "",
       "version_major": 2,
       "version_minor": 0
      },
      "text/plain": [
       "FloatProgress(value=0.0, bar_style='info', description='Progress:', layout=Layout(height='25px', width='50%'),…"
      ]
     },
     "metadata": {},
     "output_type": "display_data"
    },
    {
     "name": "stdout",
     "output_type": "stream",
     "text": [
      "-RECORD 0------------------------------------------------------------------------------------------------------------------------------------------------------------------------------------------------\n",
      " Comment           | null                                                                                                                                                                                \n",
      " ContentLicense    | CC BY-SA 3.0                                                                                                                                                                        \n",
      " CreationDate      | 2016-01-12 18:45:19.963                                                                                                                                                             \n",
      " Id                | 1                                                                                                                                                                                   \n",
      " PostHistoryTypeId | 2                                                                                                                                                                                   \n",
      " PostId            | 1                                                                                                                                                                                   \n",
      " RevisionGUID      | 6deffe8b-79c7-467b-a173-a3497b4fb476                                                                                                                                                \n",
      " Text              | When I've printed an object I've had to choose between high resolution and quick prints. What techniques or technologies can I use or deploy to speed up my high resolution prints? \n",
      " UserId            | 16                                                                                                                                                                                  \n",
      "-RECORD 1------------------------------------------------------------------------------------------------------------------------------------------------------------------------------------------------\n",
      " Comment           | null                                                                                                                                                                                \n",
      " ContentLicense    | CC BY-SA 3.0                                                                                                                                                                        \n",
      " CreationDate      | 2016-01-12 18:45:19.963                                                                                                                                                             \n",
      " Id                | 2                                                                                                                                                                                   \n",
      " PostHistoryTypeId | 1                                                                                                                                                                                   \n",
      " PostId            | 1                                                                                                                                                                                   \n",
      " RevisionGUID      | 6deffe8b-79c7-467b-a173-a3497b4fb476                                                                                                                                                \n",
      " Text              | How to obtain high resolution prints in a shorter period of time?                                                                                                                   \n",
      " UserId            | 16                                                                                                                                                                                  \n",
      "-RECORD 2------------------------------------------------------------------------------------------------------------------------------------------------------------------------------------------------\n",
      " Comment           | null                                                                                                                                                                                \n",
      " ContentLicense    | CC BY-SA 3.0                                                                                                                                                                        \n",
      " CreationDate      | 2016-01-12 18:45:19.963                                                                                                                                                             \n",
      " Id                | 3                                                                                                                                                                                   \n",
      " PostHistoryTypeId | 3                                                                                                                                                                                   \n",
      " PostId            | 1                                                                                                                                                                                   \n",
      " RevisionGUID      | 6deffe8b-79c7-467b-a173-a3497b4fb476                                                                                                                                                \n",
      " Text              | <resolution><speed><quality>                                                                                                                                                        \n",
      " UserId            | 16                                                                                                                                                                                  \n",
      "only showing top 3 rows"
     ]
    }
   ],
   "source": [
    "PostHistory_DF_clean2=PostHistory_DF_clean.dropna(subset=\"UserId\")\n",
    "PostHistory_DF_clean3=PostHistory_DF_clean2.drop(\"UserDisplayName\")\n",
    "PostHistory_DF_clean3.show(3,vertical=True,truncate=False)"
   ]
  },
  {
   "cell_type": "markdown",
   "id": "72568b3f",
   "metadata": {},
   "source": [
    "#### d) PostLinks_DF - no cleaning needed"
   ]
  },
  {
   "cell_type": "code",
   "execution_count": 30,
   "id": "d93a0bdd",
   "metadata": {},
   "outputs": [
    {
     "data": {
      "application/vnd.jupyter.widget-view+json": {
       "model_id": "",
       "version_major": 2,
       "version_minor": 0
      },
      "text/plain": [
       "FloatProgress(value=0.0, bar_style='info', description='Progress:', layout=Layout(height='25px', width='50%'),…"
      ]
     },
     "metadata": {},
     "output_type": "display_data"
    },
    {
     "name": "stdout",
     "output_type": "stream",
     "text": [
      "0"
     ]
    }
   ],
   "source": [
    "# check on NULL values \n",
    "\n",
    "PostLinks_DF.where(PostLinks_DF.CreationDate.isNull()).count()"
   ]
  },
  {
   "cell_type": "code",
   "execution_count": 31,
   "id": "c98e6bbc",
   "metadata": {},
   "outputs": [
    {
     "data": {
      "application/vnd.jupyter.widget-view+json": {
       "model_id": "",
       "version_major": 2,
       "version_minor": 0
      },
      "text/plain": [
       "FloatProgress(value=0.0, bar_style='info', description='Progress:', layout=Layout(height='25px', width='50%'),…"
      ]
     },
     "metadata": {},
     "output_type": "display_data"
    },
    {
     "name": "stdout",
     "output_type": "stream",
     "text": [
      "0"
     ]
    }
   ],
   "source": [
    "PostLinks_DF.where(PostLinks_DF.Id.isNull()).count()"
   ]
  },
  {
   "cell_type": "code",
   "execution_count": 32,
   "id": "c93f97b5",
   "metadata": {},
   "outputs": [
    {
     "data": {
      "application/vnd.jupyter.widget-view+json": {
       "model_id": "",
       "version_major": 2,
       "version_minor": 0
      },
      "text/plain": [
       "FloatProgress(value=0.0, bar_style='info', description='Progress:', layout=Layout(height='25px', width='50%'),…"
      ]
     },
     "metadata": {},
     "output_type": "display_data"
    },
    {
     "name": "stdout",
     "output_type": "stream",
     "text": [
      "0"
     ]
    }
   ],
   "source": [
    "PostLinks_DF.where(PostLinks_DF.LinkTypeId.isNull()).count()"
   ]
  },
  {
   "cell_type": "code",
   "execution_count": 33,
   "id": "b464290c",
   "metadata": {},
   "outputs": [
    {
     "data": {
      "application/vnd.jupyter.widget-view+json": {
       "model_id": "",
       "version_major": 2,
       "version_minor": 0
      },
      "text/plain": [
       "FloatProgress(value=0.0, bar_style='info', description='Progress:', layout=Layout(height='25px', width='50%'),…"
      ]
     },
     "metadata": {},
     "output_type": "display_data"
    },
    {
     "name": "stdout",
     "output_type": "stream",
     "text": [
      "0"
     ]
    }
   ],
   "source": [
    "PostLinks_DF.where(PostLinks_DF.PostId.isNull()).count()"
   ]
  },
  {
   "cell_type": "code",
   "execution_count": 34,
   "id": "4e864daf",
   "metadata": {},
   "outputs": [
    {
     "data": {
      "application/vnd.jupyter.widget-view+json": {
       "model_id": "",
       "version_major": 2,
       "version_minor": 0
      },
      "text/plain": [
       "FloatProgress(value=0.0, bar_style='info', description='Progress:', layout=Layout(height='25px', width='50%'),…"
      ]
     },
     "metadata": {},
     "output_type": "display_data"
    },
    {
     "name": "stdout",
     "output_type": "stream",
     "text": [
      "0"
     ]
    }
   ],
   "source": [
    "PostLinks_DF.where(PostLinks_DF.PostId.isNull()).count()"
   ]
  },
  {
   "cell_type": "code",
   "execution_count": 35,
   "id": "b4c3a35f",
   "metadata": {},
   "outputs": [
    {
     "data": {
      "application/vnd.jupyter.widget-view+json": {
       "model_id": "",
       "version_major": 2,
       "version_minor": 0
      },
      "text/plain": [
       "FloatProgress(value=0.0, bar_style='info', description='Progress:', layout=Layout(height='25px', width='50%'),…"
      ]
     },
     "metadata": {},
     "output_type": "display_data"
    },
    {
     "name": "stdout",
     "output_type": "stream",
     "text": [
      "0"
     ]
    }
   ],
   "source": [
    "PostLinks_DF.where(PostLinks_DF.RelatedPostId.isNull()).count()"
   ]
  },
  {
   "cell_type": "markdown",
   "id": "02d84116",
   "metadata": {},
   "source": [
    "#### e) Posts_DF "
   ]
  },
  {
   "cell_type": "markdown",
   "id": "48361aa2",
   "metadata": {},
   "source": [
    "#### - remove \"<\" and \">\" and replace \"><\" with \",\""
   ]
  },
  {
   "cell_type": "code",
   "execution_count": 36,
   "id": "702eae16",
   "metadata": {},
   "outputs": [
    {
     "data": {
      "application/vnd.jupyter.widget-view+json": {
       "model_id": "",
       "version_major": 2,
       "version_minor": 0
      },
      "text/plain": [
       "FloatProgress(value=0.0, bar_style='info', description='Progress:', layout=Layout(height='25px', width='50%'),…"
      ]
     },
     "metadata": {},
     "output_type": "display_data"
    }
   ],
   "source": [
    "Posts_DF_clean=Posts_DF.withColumn(\"Tags\",f.regexp_replace(\"Tags\",\"><\",\",\")) \\\n",
    "                       .withColumn(\"Tags\",f.regexp_replace(\"Tags\",\"^<\",\"\")) \\\n",
    "                       .withColumn(\"Tags\",f.regexp_replace(\"Tags\",\">$\",\"\"))"
   ]
  },
  {
   "cell_type": "markdown",
   "id": "7f1846e6",
   "metadata": {},
   "source": [
    "#### - replace multiple blank spaces with just one space, remove newline and special characters "
   ]
  },
  {
   "cell_type": "code",
   "execution_count": 37,
   "id": "1bb422b2",
   "metadata": {},
   "outputs": [
    {
     "data": {
      "application/vnd.jupyter.widget-view+json": {
       "model_id": "",
       "version_major": 2,
       "version_minor": 0
      },
      "text/plain": [
       "FloatProgress(value=0.0, bar_style='info', description='Progress:', layout=Layout(height='25px', width='50%'),…"
      ]
     },
     "metadata": {},
     "output_type": "display_data"
    }
   ],
   "source": [
    "Posts_DF_clean2=Posts_DF_clean.withColumn(\"Body\",f.regexp_replace(\"Body\",\" +\",\" \"))\\\n",
    "                              .withColumn(\"Body\",f.regexp_replace(\"Body\",\"<.*?>\",\"\"))\\\n",
    "                              .withColumn(\"Body\",f.regexp_replace(\"Body\",\"\\n\",\"\"))\\\n",
    "                              .withColumn(\"Title\",f.regexp_replace(\"Title\",\" +\",\" \"))\\\n",
    "                              .withColumn(\"Title\",f.regexp_replace(\"Title\",\"<.*?>\",\"\"))\\\n",
    "                              .withColumn(\"Title\",f.regexp_replace(\"Title\",\"\\n\",\"\"))"
   ]
  },
  {
   "cell_type": "code",
   "execution_count": 38,
   "id": "c99ce44a",
   "metadata": {},
   "outputs": [
    {
     "data": {
      "application/vnd.jupyter.widget-view+json": {
       "model_id": "",
       "version_major": 2,
       "version_minor": 0
      },
      "text/plain": [
       "FloatProgress(value=0.0, bar_style='info', description='Progress:', layout=Layout(height='25px', width='50%'),…"
      ]
     },
     "metadata": {},
     "output_type": "display_data"
    },
    {
     "name": "stdout",
     "output_type": "stream",
     "text": [
      "-RECORD 0--------------------------------------------------------------------------------------------------------------------------------------------------------------------------------------------------------------------------------------------------------------------------------------------------------------------------------------------------------------------------------------------------------------------------------------------------------------------------------------------------------------------------------------------------------------------------------------------------------------------------------------------------------------------------------------------------------------------------------------------------------------------------------------------------------------------------------------------------------------------------------------------------------------------------------------------------------------------------------------------------------------------------------------------------------------------------------------------------------------------------------------------------------------------------------------------------------------------------------------------------------\n",
      " AcceptedAnswerId      | 51                                                                                                                                                                                                                                                                                                                                                                                                                                                                                                                                                                                                                                                                                                                                                                                                                                                                                                                                                                                                                                                                                                                                                                                                                                      \n",
      " AnswerCount           | 2                                                                                                                                                                                                                                                                                                                                                                                                                                                                                                                                                                                                                                                                                                                                                                                                                                                                                                                                                                                                                                                                                                                                                                                                                                       \n",
      " Body                  | When I've printed an object I've had to choose between high resolution and quick prints. What techniques or technologies can I use or deploy to speed up my high resolution prints?                                                                                                                                                                                                                                                                                                                                                                                                                                                                                                                                                                                                                                                                                                                                                                                                                                                                                                                                                                                                                                                     \n",
      " ClosedDate            | null                                                                                                                                                                                                                                                                                                                                                                                                                                                                                                                                                                                                                                                                                                                                                                                                                                                                                                                                                                                                                                                                                                                                                                                                                                    \n",
      " CommentCount          | 6                                                                                                                                                                                                                                                                                                                                                                                                                                                                                                                                                                                                                                                                                                                                                                                                                                                                                                                                                                                                                                                                                                                                                                                                                                       \n",
      " CommunityOwnedDate    | null                                                                                                                                                                                                                                                                                                                                                                                                                                                                                                                                                                                                                                                                                                                                                                                                                                                                                                                                                                                                                                                                                                                                                                                                                                    \n",
      " ContentLicense        | CC BY-SA 3.0                                                                                                                                                                                                                                                                                                                                                                                                                                                                                                                                                                                                                                                                                                                                                                                                                                                                                                                                                                                                                                                                                                                                                                                                                            \n",
      " CreationDate          | 2016-01-12 18:45:19.963                                                                                                                                                                                                                                                                                                                                                                                                                                                                                                                                                                                                                                                                                                                                                                                                                                                                                                                                                                                                                                                                                                                                                                                                                 \n",
      " FavoriteCount         | null                                                                                                                                                                                                                                                                                                                                                                                                                                                                                                                                                                                                                                                                                                                                                                                                                                                                                                                                                                                                                                                                                                                                                                                                                                    \n",
      " Id                    | 1                                                                                                                                                                                                                                                                                                                                                                                                                                                                                                                                                                                                                                                                                                                                                                                                                                                                                                                                                                                                                                                                                                                                                                                                                                       \n",
      " LastActivityDate      | 2017-10-31 02:31:08.56                                                                                                                                                                                                                                                                                                                                                                                                                                                                                                                                                                                                                                                                                                                                                                                                                                                                                                                                                                                                                                                                                                                                                                                                                  \n",
      " LastEditDate          | null                                                                                                                                                                                                                                                                                                                                                                                                                                                                                                                                                                                                                                                                                                                                                                                                                                                                                                                                                                                                                                                                                                                                                                                                                                    \n",
      " LastEditorDisplayName | null                                                                                                                                                                                                                                                                                                                                                                                                                                                                                                                                                                                                                                                                                                                                                                                                                                                                                                                                                                                                                                                                                                                                                                                                                                    \n",
      " LastEditorUserId      | null                                                                                                                                                                                                                                                                                                                                                                                                                                                                                                                                                                                                                                                                                                                                                                                                                                                                                                                                                                                                                                                                                                                                                                                                                                    \n",
      " OwnerDisplayName      | null                                                                                                                                                                                                                                                                                                                                                                                                                                                                                                                                                                                                                                                                                                                                                                                                                                                                                                                                                                                                                                                                                                                                                                                                                                    \n",
      " OwnerUserId           | 16                                                                                                                                                                                                                                                                                                                                                                                                                                                                                                                                                                                                                                                                                                                                                                                                                                                                                                                                                                                                                                                                                                                                                                                                                                      \n",
      " ParentId              | null                                                                                                                                                                                                                                                                                                                                                                                                                                                                                                                                                                                                                                                                                                                                                                                                                                                                                                                                                                                                                                                                                                                                                                                                                                    \n",
      " PostTypeId            | 1                                                                                                                                                                                                                                                                                                                                                                                                                                                                                                                                                                                                                                                                                                                                                                                                                                                                                                                                                                                                                                                                                                                                                                                                                                       \n",
      " Score                 | 10                                                                                                                                                                                                                                                                                                                                                                                                                                                                                                                                                                                                                                                                                                                                                                                                                                                                                                                                                                                                                                                                                                                                                                                                                                      \n",
      " Tags                  | resolution,speed,quality                                                                                                                                                                                                                                                                                                                                                                                                                                                                                                                                                                                                                                                                                                                                                                                                                                                                                                                                                                                                                                                                                                                                                                                                                \n",
      " Title                 | How to obtain high resolution prints in a shorter period of time?                                                                                                                                                                                                                                                                                                                                                                                                                                                                                                                                                                                                                                                                                                                                                                                                                                                                                                                                                                                                                                                                                                                                                                       \n",
      " ViewCount             | 409                                                                                                                                                                                                                                                                                                                                                                                                                                                                                                                                                                                                                                                                                                                                                                                                                                                                                                                                                                                                                                                                                                                                                                                                                                     \n",
      "-RECORD 1--------------------------------------------------------------------------------------------------------------------------------------------------------------------------------------------------------------------------------------------------------------------------------------------------------------------------------------------------------------------------------------------------------------------------------------------------------------------------------------------------------------------------------------------------------------------------------------------------------------------------------------------------------------------------------------------------------------------------------------------------------------------------------------------------------------------------------------------------------------------------------------------------------------------------------------------------------------------------------------------------------------------------------------------------------------------------------------------------------------------------------------------------------------------------------------------------------------------------------------------------------\n",
      " AcceptedAnswerId      | 12                                                                                                                                                                                                                                                                                                                                                                                                                                                                                                                                                                                                                                                                                                                                                                                                                                                                                                                                                                                                                                                                                                                                                                                                                                      \n",
      " AnswerCount           | 4                                                                                                                                                                                                                                                                                                                                                                                                                                                                                                                                                                                                                                                                                                                                                                                                                                                                                                                                                                                                                                                                                                                                                                                                                                       \n",
      " Body                  | I would like to buy a 3D printer, but I'm concerned about the health risks that are associated with its operation. Some groups of scientists say it can be harmful for humans.What do I need to consider before buying a 3D printer if I care about my health? Are there any safe printers?                                                                                                                                                                                                                                                                                                                                                                                                                                                                                                                                                                                                                                                                                                                                                                                                                                                                                                                                             \n",
      " ClosedDate            | null                                                                                                                                                                                                                                                                                                                                                                                                                                                                                                                                                                                                                                                                                                                                                                                                                                                                                                                                                                                                                                                                                                                                                                                                                                    \n",
      " CommentCount          | 1                                                                                                                                                                                                                                                                                                                                                                                                                                                                                                                                                                                                                                                                                                                                                                                                                                                                                                                                                                                                                                                                                                                                                                                                                                       \n",
      " CommunityOwnedDate    | null                                                                                                                                                                                                                                                                                                                                                                                                                                                                                                                                                                                                                                                                                                                                                                                                                                                                                                                                                                                                                                                                                                                                                                                                                                    \n",
      " ContentLicense        | CC BY-SA 3.0                                                                                                                                                                                                                                                                                                                                                                                                                                                                                                                                                                                                                                                                                                                                                                                                                                                                                                                                                                                                                                                                                                                                                                                                                            \n",
      " CreationDate          | 2016-01-12 18:45:51.287                                                                                                                                                                                                                                                                                                                                                                                                                                                                                                                                                                                                                                                                                                                                                                                                                                                                                                                                                                                                                                                                                                                                                                                                                 \n",
      " FavoriteCount         | null                                                                                                                                                                                                                                                                                                                                                                                                                                                                                                                                                                                                                                                                                                                                                                                                                                                                                                                                                                                                                                                                                                                                                                                                                                    \n",
      " Id                    | 2                                                                                                                                                                                                                                                                                                                                                                                                                                                                                                                                                                                                                                                                                                                                                                                                                                                                                                                                                                                                                                                                                                                                                                                                                                       \n",
      " LastActivityDate      | 2019-06-10 23:18:34.19                                                                                                                                                                                                                                                                                                                                                                                                                                                                                                                                                                                                                                                                                                                                                                                                                                                                                                                                                                                                                                                                                                                                                                                                                  \n",
      " LastEditDate          | 2016-11-15 16:16:11.163                                                                                                                                                                                                                                                                                                                                                                                                                                                                                                                                                                                                                                                                                                                                                                                                                                                                                                                                                                                                                                                                                                                                                                                                                 \n",
      " LastEditorDisplayName | null                                                                                                                                                                                                                                                                                                                                                                                                                                                                                                                                                                                                                                                                                                                                                                                                                                                                                                                                                                                                                                                                                                                                                                                                                                    \n",
      " LastEditorUserId      | 334                                                                                                                                                                                                                                                                                                                                                                                                                                                                                                                                                                                                                                                                                                                                                                                                                                                                                                                                                                                                                                                                                                                                                                                                                                     \n",
      " OwnerDisplayName      | null                                                                                                                                                                                                                                                                                                                                                                                                                                                                                                                                                                                                                                                                                                                                                                                                                                                                                                                                                                                                                                                                                                                                                                                                                                    \n",
      " OwnerUserId           | 20                                                                                                                                                                                                                                                                                                                                                                                                                                                                                                                                                                                                                                                                                                                                                                                                                                                                                                                                                                                                                                                                                                                                                                                                                                      \n",
      " ParentId              | null                                                                                                                                                                                                                                                                                                                                                                                                                                                                                                                                                                                                                                                                                                                                                                                                                                                                                                                                                                                                                                                                                                                                                                                                                                    \n",
      " PostTypeId            | 1                                                                                                                                                                                                                                                                                                                                                                                                                                                                                                                                                                                                                                                                                                                                                                                                                                                                                                                                                                                                                                                                                                                                                                                                                                       \n",
      " Score                 | 33                                                                                                                                                                                                                                                                                                                                                                                                                                                                                                                                                                                                                                                                                                                                                                                                                                                                                                                                                                                                                                                                                                                                                                                                                                      \n",
      " Tags                  | print-material,safety,health                                                                                                                                                                                                                                                                                                                                                                                                                                                                                                                                                                                                                                                                                                                                                                                                                                                                                                                                                                                                                                                                                                                                                                                                            \n",
      " Title                 | Is 3D printing safe for your health?                                                                                                                                                                                                                                                                                                                                                                                                                                                                                                                                                                                                                                                                                                                                                                                                                                                                                                                                                                                                                                                                                                                                                                                                    \n",
      " ViewCount             | 7149                                                                                                                                                                                                                                                                                                                                                                                                                                                                                                                                                                                                                                                                                                                                                                                                                                                                                                                                                                                                                                                                                                                                                                                                                                    \n",
      "-RECORD 2--------------------------------------------------------------------------------------------------------------------------------------------------------------------------------------------------------------------------------------------------------------------------------------------------------------------------------------------------------------------------------------------------------------------------------------------------------------------------------------------------------------------------------------------------------------------------------------------------------------------------------------------------------------------------------------------------------------------------------------------------------------------------------------------------------------------------------------------------------------------------------------------------------------------------------------------------------------------------------------------------------------------------------------------------------------------------------------------------------------------------------------------------------------------------------------------------------------------------------------------------------\n",
      " AcceptedAnswerId      | 152                                                                                                                                                                                                                                                                                                                                                                                                                                                                                                                                                                                                                                                                                                                                                                                                                                                                                                                                                                                                                                                                                                                                                                                                                                     \n",
      " AnswerCount           | 3                                                                                                                                                                                                                                                                                                                                                                                                                                                                                                                                                                                                                                                                                                                                                                                                                                                                                                                                                                                                                                                                                                                                                                                                                                       \n",
      " Body                  | I know the minimum layer height will effect how detailed of an item you can print and the amount of time it takes to print something, but is it necessary to have an extremely low minimum layer height if you plan to print only larger objects?                                                                                                                                                                                                                                                                                                                                                                                                                                                                                                                                                                                                                                                                                                                                                                                                                                                                                                                                                                                       \n",
      " ClosedDate            | null                                                                                                                                                                                                                                                                                                                                                                                                                                                                                                                                                                                                                                                                                                                                                                                                                                                                                                                                                                                                                                                                                                                                                                                                                                    \n",
      " CommentCount          | 5                                                                                                                                                                                                                                                                                                                                                                                                                                                                                                                                                                                                                                                                                                                                                                                                                                                                                                                                                                                                                                                                                                                                                                                                                                       \n",
      " CommunityOwnedDate    | null                                                                                                                                                                                                                                                                                                                                                                                                                                                                                                                                                                                                                                                                                                                                                                                                                                                                                                                                                                                                                                                                                                                                                                                                                                    \n",
      " ContentLicense        | CC BY-SA 3.0                                                                                                                                                                                                                                                                                                                                                                                                                                                                                                                                                                                                                                                                                                                                                                                                                                                                                                                                                                                                                                                                                                                                                                                                                            \n",
      " CreationDate          | 2016-01-12 18:46:22.083                                                                                                                                                                                                                                                                                                                                                                                                                                                                                                                                                                                                                                                                                                                                                                                                                                                                                                                                                                                                                                                                                                                                                                                                                 \n",
      " FavoriteCount         | null                                                                                                                                                                                                                                                                                                                                                                                                                                                                                                                                                                                                                                                                                                                                                                                                                                                                                                                                                                                                                                                                                                                                                                                                                                    \n",
      " Id                    | 3                                                                                                                                                                                                                                                                                                                                                                                                                                                                                                                                                                                                                                                                                                                                                                                                                                                                                                                                                                                                                                                                                                                                                                                                                                       \n",
      " LastActivityDate      | 2016-09-19 15:41:06.537                                                                                                                                                                                                                                                                                                                                                                                                                                                                                                                                                                                                                                                                                                                                                                                                                                                                                                                                                                                                                                                                                                                                                                                                                 \n",
      " LastEditDate          | 2016-01-12 22:00:36.347                                                                                                                                                                                                                                                                                                                                                                                                                                                                                                                                                                                                                                                                                                                                                                                                                                                                                                                                                                                                                                                                                                                                                                                                                 \n",
      " LastEditorDisplayName | null                                                                                                                                                                                                                                                                                                                                                                                                                                                                                                                                                                                                                                                                                                                                                                                                                                                                                                                                                                                                                                                                                                                                                                                                                                    \n",
      " LastEditorUserId      | 11                                                                                                                                                                                                                                                                                                                                                                                                                                                                                                                                                                                                                                                                                                                                                                                                                                                                                                                                                                                                                                                                                                                                                                                                                                      \n",
      " OwnerDisplayName      | null                                                                                                                                                                                                                                                                                                                                                                                                                                                                                                                                                                                                                                                                                                                                                                                                                                                                                                                                                                                                                                                                                                                                                                                                                                    \n",
      " OwnerUserId           | 11                                                                                                                                                                                                                                                                                                                                                                                                                                                                                                                                                                                                                                                                                                                                                                                                                                                                                                                                                                                                                                                                                                                                                                                                                                      \n",
      " ParentId              | null                                                                                                                                                                                                                                                                                                                                                                                                                                                                                                                                                                                                                                                                                                                                                                                                                                                                                                                                                                                                                                                                                                                                                                                                                                    \n",
      " PostTypeId            | 1                                                                                                                                                                                                                                                                                                                                                                                                                                                                                                                                                                                                                                                                                                                                                                                                                                                                                                                                                                                                                                                                                                                                                                                                                                       \n",
      " Score                 | 18                                                                                                                                                                                                                                                                                                                                                                                                                                                                                                                                                                                                                                                                                                                                                                                                                                                                                                                                                                                                                                                                                                                                                                                                                                      \n",
      " Tags                  | quality,resolution                                                                                                                                                                                                                                                                                                                                                                                                                                                                                                                                                                                                                                                                                                                                                                                                                                                                                                                                                                                                                                                                                                                                                                                                                      \n",
      " Title                 | How important is the minimum layer height on a 3d printer?                                                                                                                                                                                                                                                                                                                                                                                                                                                                                                                                                                                                                                                                                                                                                                                                                                                                                                                                                                                                                                                                                                                                                                              \n",
      " ViewCount             | 2670                                                                                                                                                                                                                                                                                                                                                                                                                                                                                                                                                                                                                                                                                                                                                                                                                                                                                                                                                                                                                                                                                                                                                                                                                                    \n",
      "-RECORD 3--------------------------------------------------------------------------------------------------------------------------------------------------------------------------------------------------------------------------------------------------------------------------------------------------------------------------------------------------------------------------------------------------------------------------------------------------------------------------------------------------------------------------------------------------------------------------------------------------------------------------------------------------------------------------------------------------------------------------------------------------------------------------------------------------------------------------------------------------------------------------------------------------------------------------------------------------------------------------------------------------------------------------------------------------------------------------------------------------------------------------------------------------------------------------------------------------------------------------------------------------------\n",
      " AcceptedAnswerId      | 1289                                                                                                                                                                                                                                                                                                                                                                                                                                                                                                                                                                                                                                                                                                                                                                                                                                                                                                                                                                                                                                                                                                                                                                                                                                    \n",
      " AnswerCount           | 4                                                                                                                                                                                                                                                                                                                                                                                                                                                                                                                                                                                                                                                                                                                                                                                                                                                                                                                                                                                                                                                                                                                                                                                                                                       \n",
      " Body                  | Plastic is used in 3D FDM/FFF printing partly because it had a wide temperature range for its glass state - where it can be flowed with some force, but won't flow due only to gravity.Most metals have a very narrow, or non-existant, glass state. They transition from solid to liquid with almost no flowable-but-not-liquid state.Are there any metals or alloys that display a glass transition state?                                                                                                                                                                                                                                                                                                                                                                                                                                                                                                                                                                                                                                                                                                                                                                                                                            \n",
      " ClosedDate            | null                                                                                                                                                                                                                                                                                                                                                                                                                                                                                                                                                                                                                                                                                                                                                                                                                                                                                                                                                                                                                                                                                                                                                                                                                                    \n",
      " CommentCount          | 0                                                                                                                                                                                                                                                                                                                                                                                                                                                                                                                                                                                                                                                                                                                                                                                                                                                                                                                                                                                                                                                                                                                                                                                                                                       \n",
      " CommunityOwnedDate    | null                                                                                                                                                                                                                                                                                                                                                                                                                                                                                                                                                                                                                                                                                                                                                                                                                                                                                                                                                                                                                                                                                                                                                                                                                                    \n",
      " ContentLicense        | CC BY-SA 3.0                                                                                                                                                                                                                                                                                                                                                                                                                                                                                                                                                                                                                                                                                                                                                                                                                                                                                                                                                                                                                                                                                                                                                                                                                            \n",
      " CreationDate          | 2016-01-12 18:50:55.973                                                                                                                                                                                                                                                                                                                                                                                                                                                                                                                                                                                                                                                                                                                                                                                                                                                                                                                                                                                                                                                                                                                                                                                                                 \n",
      " FavoriteCount         | null                                                                                                                                                                                                                                                                                                                                                                                                                                                                                                                                                                                                                                                                                                                                                                                                                                                                                                                                                                                                                                                                                                                                                                                                                                    \n",
      " Id                    | 4                                                                                                                                                                                                                                                                                                                                                                                                                                                                                                                                                                                                                                                                                                                                                                                                                                                                                                                                                                                                                                                                                                                                                                                                                                       \n",
      " LastActivityDate      | 2016-06-10 13:32:20.493                                                                                                                                                                                                                                                                                                                                                                                                                                                                                                                                                                                                                                                                                                                                                                                                                                                                                                                                                                                                                                                                                                                                                                                                                 \n",
      " LastEditDate          | 2016-06-09 02:10:35.89                                                                                                                                                                                                                                                                                                                                                                                                                                                                                                                                                                                                                                                                                                                                                                                                                                                                                                                                                                                                                                                                                                                                                                                                                  \n",
      " LastEditorDisplayName | null                                                                                                                                                                                                                                                                                                                                                                                                                                                                                                                                                                                                                                                                                                                                                                                                                                                                                                                                                                                                                                                                                                                                                                                                                                    \n",
      " LastEditorUserId      | 98                                                                                                                                                                                                                                                                                                                                                                                                                                                                                                                                                                                                                                                                                                                                                                                                                                                                                                                                                                                                                                                                                                                                                                                                                                      \n",
      " OwnerDisplayName      | null                                                                                                                                                                                                                                                                                                                                                                                                                                                                                                                                                                                                                                                                                                                                                                                                                                                                                                                                                                                                                                                                                                                                                                                                                                    \n",
      " OwnerUserId           | 16                                                                                                                                                                                                                                                                                                                                                                                                                                                                                                                                                                                                                                                                                                                                                                                                                                                                                                                                                                                                                                                                                                                                                                                                                                      \n",
      " ParentId              | null                                                                                                                                                                                                                                                                                                                                                                                                                                                                                                                                                                                                                                                                                                                                                                                                                                                                                                                                                                                                                                                                                                                                                                                                                                    \n",
      " PostTypeId            | 1                                                                                                                                                                                                                                                                                                                                                                                                                                                                                                                                                                                                                                                                                                                                                                                                                                                                                                                                                                                                                                                                                                                                                                                                                                       \n",
      " Score                 | 17                                                                                                                                                                                                                                                                                                                                                                                                                                                                                                                                                                                                                                                                                                                                                                                                                                                                                                                                                                                                                                                                                                                                                                                                                                      \n",
      " Tags                  | fdm,material,print-material,metal-parts                                                                                                                                                                                                                                                                                                                                                                                                                                                                                                                                                                                                                                                                                                                                                                                                                                                                                                                                                                                                                                                                                                                                                                                                 \n",
      " Title                 | Are there any metals that exhibit a large glass state?                                                                                                                                                                                                                                                                                                                                                                                                                                                                                                                                                                                                                                                                                                                                                                                                                                                                                                                                                                                                                                                                                                                                                                                  \n",
      " ViewCount             | 376                                                                                                                                                                                                                                                                                                                                                                                                                                                                                                                                                                                                                                                                                                                                                                                                                                                                                                                                                                                                                                                                                                                                                                                                                                     \n",
      "-RECORD 4--------------------------------------------------------------------------------------------------------------------------------------------------------------------------------------------------------------------------------------------------------------------------------------------------------------------------------------------------------------------------------------------------------------------------------------------------------------------------------------------------------------------------------------------------------------------------------------------------------------------------------------------------------------------------------------------------------------------------------------------------------------------------------------------------------------------------------------------------------------------------------------------------------------------------------------------------------------------------------------------------------------------------------------------------------------------------------------------------------------------------------------------------------------------------------------------------------------------------------------------------------\n",
      " AcceptedAnswerId      | 77                                                                                                                                                                                                                                                                                                                                                                                                                                                                                                                                                                                                                                                                                                                                                                                                                                                                                                                                                                                                                                                                                                                                                                                                                                      \n",
      " AnswerCount           | 5                                                                                                                                                                                                                                                                                                                                                                                                                                                                                                                                                                                                                                                                                                                                                                                                                                                                                                                                                                                                                                                                                                                                                                                                                                       \n",
      " Body                  | What are the main differences when using ABS over PLA and vice versa?                                                                                                                                                                                                                                                                                                                                                                                                                                                                                                                                                                                                                                                                                                                                                                                                                                                                                                                                                                                                                                                                                                                                                                   \n",
      " ClosedDate            | null                                                                                                                                                                                                                                                                                                                                                                                                                                                                                                                                                                                                                                                                                                                                                                                                                                                                                                                                                                                                                                                                                                                                                                                                                                    \n",
      " CommentCount          | 5                                                                                                                                                                                                                                                                                                                                                                                                                                                                                                                                                                                                                                                                                                                                                                                                                                                                                                                                                                                                                                                                                                                                                                                                                                       \n",
      " CommunityOwnedDate    | null                                                                                                                                                                                                                                                                                                                                                                                                                                                                                                                                                                                                                                                                                                                                                                                                                                                                                                                                                                                                                                                                                                                                                                                                                                    \n",
      " ContentLicense        | CC BY-SA 3.0                                                                                                                                                                                                                                                                                                                                                                                                                                                                                                                                                                                                                                                                                                                                                                                                                                                                                                                                                                                                                                                                                                                                                                                                                            \n",
      " CreationDate          | 2016-01-12 18:53:53.623                                                                                                                                                                                                                                                                                                                                                                                                                                                                                                                                                                                                                                                                                                                                                                                                                                                                                                                                                                                                                                                                                                                                                                                                                 \n",
      " FavoriteCount         | null                                                                                                                                                                                                                                                                                                                                                                                                                                                                                                                                                                                                                                                                                                                                                                                                                                                                                                                                                                                                                                                                                                                                                                                                                                    \n",
      " Id                    | 5                                                                                                                                                                                                                                                                                                                                                                                                                                                                                                                                                                                                                                                                                                                                                                                                                                                                                                                                                                                                                                                                                                                                                                                                                                       \n",
      " LastActivityDate      | 2017-08-02 09:49:07.263                                                                                                                                                                                                                                                                                                                                                                                                                                                                                                                                                                                                                                                                                                                                                                                                                                                                                                                                                                                                                                                                                                                                                                                                                 \n",
      " LastEditDate          | 2016-01-15 17:02:37.707                                                                                                                                                                                                                                                                                                                                                                                                                                                                                                                                                                                                                                                                                                                                                                                                                                                                                                                                                                                                                                                                                                                                                                                                                 \n",
      " LastEditorDisplayName | null                                                                                                                                                                                                                                                                                                                                                                                                                                                                                                                                                                                                                                                                                                                                                                                                                                                                                                                                                                                                                                                                                                                                                                                                                                    \n",
      " LastEditorUserId      | 20                                                                                                                                                                                                                                                                                                                                                                                                                                                                                                                                                                                                                                                                                                                                                                                                                                                                                                                                                                                                                                                                                                                                                                                                                                      \n",
      " OwnerDisplayName      | null                                                                                                                                                                                                                                                                                                                                                                                                                                                                                                                                                                                                                                                                                                                                                                                                                                                                                                                                                                                                                                                                                                                                                                                                                                    \n",
      " OwnerUserId           | 11                                                                                                                                                                                                                                                                                                                                                                                                                                                                                                                                                                                                                                                                                                                                                                                                                                                                                                                                                                                                                                                                                                                                                                                                                                      \n",
      " ParentId              | null                                                                                                                                                                                                                                                                                                                                                                                                                                                                                                                                                                                                                                                                                                                                                                                                                                                                                                                                                                                                                                                                                                                                                                                                                                    \n",
      " PostTypeId            | 1                                                                                                                                                                                                                                                                                                                                                                                                                                                                                                                                                                                                                                                                                                                                                                                                                                                                                                                                                                                                                                                                                                                                                                                                                                       \n",
      " Score                 | 40                                                                                                                                                                                                                                                                                                                                                                                                                                                                                                                                                                                                                                                                                                                                                                                                                                                                                                                                                                                                                                                                                                                                                                                                                                      \n",
      " Tags                  | filament,abs,fdm,pla                                                                                                                                                                                                                                                                                                                                                                                                                                                                                                                                                                                                                                                                                                                                                                                                                                                                                                                                                                                                                                                                                                                                                                                                                    \n",
      " Title                 | How is PLA different from ABS material?                                                                                                                                                                                                                                                                                                                                                                                                                                                                                                                                                                                                                                                                                                                                                                                                                                                                                                                                                                                                                                                                                                                                                                                                 \n",
      " ViewCount             | 3952                                                                                                                                                                                                                                                                                                                                                                                                                                                                                                                                                                                                                                                                                                                                                                                                                                                                                                                                                                                                                                                                                                                                                                                                                                    \n",
      "-RECORD 5--------------------------------------------------------------------------------------------------------------------------------------------------------------------------------------------------------------------------------------------------------------------------------------------------------------------------------------------------------------------------------------------------------------------------------------------------------------------------------------------------------------------------------------------------------------------------------------------------------------------------------------------------------------------------------------------------------------------------------------------------------------------------------------------------------------------------------------------------------------------------------------------------------------------------------------------------------------------------------------------------------------------------------------------------------------------------------------------------------------------------------------------------------------------------------------------------------------------------------------------------------\n",
      " AcceptedAnswerId      | 27                                                                                                                                                                                                                                                                                                                                                                                                                                                                                                                                                                                                                                                                                                                                                                                                                                                                                                                                                                                                                                                                                                                                                                                                                                      \n",
      " AnswerCount           | 5                                                                                                                                                                                                                                                                                                                                                                                                                                                                                                                                                                                                                                                                                                                                                                                                                                                                                                                                                                                                                                                                                                                                                                                                                                       \n",
      " Body                  | My MakerBot printer supports only two filaments at the same time.What are techniques to print objects with more than two colors for one object?                                                                                                                                                                                                                                                                                                                                                                                                                                                                                                                                                                                                                                                                                                                                                                                                                                                                                                                                                                                                                                                                                         \n",
      " ClosedDate            | null                                                                                                                                                                                                                                                                                                                                                                                                                                                                                                                                                                                                                                                                                                                                                                                                                                                                                                                                                                                                                                                                                                                                                                                                                                    \n",
      " CommentCount          | 0                                                                                                                                                                                                                                                                                                                                                                                                                                                                                                                                                                                                                                                                                                                                                                                                                                                                                                                                                                                                                                                                                                                                                                                                                                       \n",
      " CommunityOwnedDate    | null                                                                                                                                                                                                                                                                                                                                                                                                                                                                                                                                                                                                                                                                                                                                                                                                                                                                                                                                                                                                                                                                                                                                                                                                                                    \n",
      " ContentLicense        | CC BY-SA 3.0                                                                                                                                                                                                                                                                                                                                                                                                                                                                                                                                                                                                                                                                                                                                                                                                                                                                                                                                                                                                                                                                                                                                                                                                                            \n",
      " CreationDate          | 2016-01-12 18:57:13.35                                                                                                                                                                                                                                                                                                                                                                                                                                                                                                                                                                                                                                                                                                                                                                                                                                                                                                                                                                                                                                                                                                                                                                                                                  \n",
      " FavoriteCount         | null                                                                                                                                                                                                                                                                                                                                                                                                                                                                                                                                                                                                                                                                                                                                                                                                                                                                                                                                                                                                                                                                                                                                                                                                                                    \n",
      " Id                    | 6                                                                                                                                                                                                                                                                                                                                                                                                                                                                                                                                                                                                                                                                                                                                                                                                                                                                                                                                                                                                                                                                                                                                                                                                                                       \n",
      " LastActivityDate      | 2018-09-16 12:35:19.097                                                                                                                                                                                                                                                                                                                                                                                                                                                                                                                                                                                                                                                                                                                                                                                                                                                                                                                                                                                                                                                                                                                                                                                                                 \n",
      " LastEditDate          | 2018-09-16 12:35:19.097                                                                                                                                                                                                                                                                                                                                                                                                                                                                                                                                                                                                                                                                                                                                                                                                                                                                                                                                                                                                                                                                                                                                                                                                                 \n",
      " LastEditorDisplayName | null                                                                                                                                                                                                                                                                                                                                                                                                                                                                                                                                                                                                                                                                                                                                                                                                                                                                                                                                                                                                                                                                                                                                                                                                                                    \n",
      " LastEditorUserId      | 8884                                                                                                                                                                                                                                                                                                                                                                                                                                                                                                                                                                                                                                                                                                                                                                                                                                                                                                                                                                                                                                                                                                                                                                                                                                    \n",
      " OwnerDisplayName      | null                                                                                                                                                                                                                                                                                                                                                                                                                                                                                                                                                                                                                                                                                                                                                                                                                                                                                                                                                                                                                                                                                                                                                                                                                                    \n",
      " OwnerUserId           | 20                                                                                                                                                                                                                                                                                                                                                                                                                                                                                                                                                                                                                                                                                                                                                                                                                                                                                                                                                                                                                                                                                                                                                                                                                                      \n",
      " ParentId              | null                                                                                                                                                                                                                                                                                                                                                                                                                                                                                                                                                                                                                                                                                                                                                                                                                                                                                                                                                                                                                                                                                                                                                                                                                                    \n",
      " PostTypeId            | 1                                                                                                                                                                                                                                                                                                                                                                                                                                                                                                                                                                                                                                                                                                                                                                                                                                                                                                                                                                                                                                                                                                                                                                                                                                       \n",
      " Score                 | 11                                                                                                                                                                                                                                                                                                                                                                                                                                                                                                                                                                                                                                                                                                                                                                                                                                                                                                                                                                                                                                                                                                                                                                                                                                      \n",
      " Tags                  | filament,makerbot,dual-nozzle,color                                                                                                                                                                                                                                                                                                                                                                                                                                                                                                                                                                                                                                                                                                                                                                                                                                                                                                                                                                                                                                                                                                                                                                                                     \n",
      " Title                 | Multi-color printing with desktop 3D printer?                                                                                                                                                                                                                                                                                                                                                                                                                                                                                                                                                                                                                                                                                                                                                                                                                                                                                                                                                                                                                                                                                                                                                                                           \n",
      " ViewCount             | 620                                                                                                                                                                                                                                                                                                                                                                                                                                                                                                                                                                                                                                                                                                                                                                                                                                                                                                                                                                                                                                                                                                                                                                                                                                     \n",
      "-RECORD 6--------------------------------------------------------------------------------------------------------------------------------------------------------------------------------------------------------------------------------------------------------------------------------------------------------------------------------------------------------------------------------------------------------------------------------------------------------------------------------------------------------------------------------------------------------------------------------------------------------------------------------------------------------------------------------------------------------------------------------------------------------------------------------------------------------------------------------------------------------------------------------------------------------------------------------------------------------------------------------------------------------------------------------------------------------------------------------------------------------------------------------------------------------------------------------------------------------------------------------------------------------\n",
      " AcceptedAnswerId      | null                                                                                                                                                                                                                                                                                                                                                                                                                                                                                                                                                                                                                                                                                                                                                                                                                                                                                                                                                                                                                                                                                                                                                                                                                                    \n",
      " AnswerCount           | null                                                                                                                                                                                                                                                                                                                                                                                                                                                                                                                                                                                                                                                                                                                                                                                                                                                                                                                                                                                                                                                                                                                                                                                                                                    \n",
      " Body                  | Filament is the plastic strands used as the print material for 3d printers. The most common types are PLA and ABS. There are also other types of filament that used other types of plastics as well as other materials.                                                                                                                                                                                                                                                                                                                                                                                                                                                                                                                                                                                                                                                                                                                                                                                                                                                                                                                                                                                                                 \n",
      " ClosedDate            | null                                                                                                                                                                                                                                                                                                                                                                                                                                                                                                                                                                                                                                                                                                                                                                                                                                                                                                                                                                                                                                                                                                                                                                                                                                    \n",
      " CommentCount          | 0                                                                                                                                                                                                                                                                                                                                                                                                                                                                                                                                                                                                                                                                                                                                                                                                                                                                                                                                                                                                                                                                                                                                                                                                                                       \n",
      " CommunityOwnedDate    | null                                                                                                                                                                                                                                                                                                                                                                                                                                                                                                                                                                                                                                                                                                                                                                                                                                                                                                                                                                                                                                                                                                                                                                                                                                    \n",
      " ContentLicense        | CC BY-SA 3.0                                                                                                                                                                                                                                                                                                                                                                                                                                                                                                                                                                                                                                                                                                                                                                                                                                                                                                                                                                                                                                                                                                                                                                                                                            \n",
      " CreationDate          | 2016-01-12 18:57:48.103                                                                                                                                                                                                                                                                                                                                                                                                                                                                                                                                                                                                                                                                                                                                                                                                                                                                                                                                                                                                                                                                                                                                                                                                                 \n",
      " FavoriteCount         | null                                                                                                                                                                                                                                                                                                                                                                                                                                                                                                                                                                                                                                                                                                                                                                                                                                                                                                                                                                                                                                                                                                                                                                                                                                    \n",
      " Id                    | 7                                                                                                                                                                                                                                                                                                                                                                                                                                                                                                                                                                                                                                                                                                                                                                                                                                                                                                                                                                                                                                                                                                                                                                                                                                       \n",
      " LastActivityDate      | 2016-01-15 17:04:10.283                                                                                                                                                                                                                                                                                                                                                                                                                                                                                                                                                                                                                                                                                                                                                                                                                                                                                                                                                                                                                                                                                                                                                                                                                 \n",
      " LastEditDate          | 2016-01-15 17:04:10.283                                                                                                                                                                                                                                                                                                                                                                                                                                                                                                                                                                                                                                                                                                                                                                                                                                                                                                                                                                                                                                                                                                                                                                                                                 \n",
      " LastEditorDisplayName | null                                                                                                                                                                                                                                                                                                                                                                                                                                                                                                                                                                                                                                                                                                                                                                                                                                                                                                                                                                                                                                                                                                                                                                                                                                    \n",
      " LastEditorUserId      | 11                                                                                                                                                                                                                                                                                                                                                                                                                                                                                                                                                                                                                                                                                                                                                                                                                                                                                                                                                                                                                                                                                                                                                                                                                                      \n",
      " OwnerDisplayName      | null                                                                                                                                                                                                                                                                                                                                                                                                                                                                                                                                                                                                                                                                                                                                                                                                                                                                                                                                                                                                                                                                                                                                                                                                                                    \n",
      " OwnerUserId           | 11                                                                                                                                                                                                                                                                                                                                                                                                                                                                                                                                                                                                                                                                                                                                                                                                                                                                                                                                                                                                                                                                                                                                                                                                                                      \n",
      " ParentId              | null                                                                                                                                                                                                                                                                                                                                                                                                                                                                                                                                                                                                                                                                                                                                                                                                                                                                                                                                                                                                                                                                                                                                                                                                                                    \n",
      " PostTypeId            | 5                                                                                                                                                                                                                                                                                                                                                                                                                                                                                                                                                                                                                                                                                                                                                                                                                                                                                                                                                                                                                                                                                                                                                                                                                                       \n",
      " Score                 | 0                                                                                                                                                                                                                                                                                                                                                                                                                                                                                                                                                                                                                                                                                                                                                                                                                                                                                                                                                                                                                                                                                                                                                                                                                                       \n",
      " Tags                  | null                                                                                                                                                                                                                                                                                                                                                                                                                                                                                                                                                                                                                                                                                                                                                                                                                                                                                                                                                                                                                                                                                                                                                                                                                                    \n",
      " Title                 | null                                                                                                                                                                                                                                                                                                                                                                                                                                                                                                                                                                                                                                                                                                                                                                                                                                                                                                                                                                                                                                                                                                                                                                                                                                    \n",
      " ViewCount             | null                                                                                                                                                                                                                                                                                                                                                                                                                                                                                                                                                                                                                                                                                                                                                                                                                                                                                                                                                                                                                                                                                                                                                                                                                                    \n",
      "-RECORD 7--------------------------------------------------------------------------------------------------------------------------------------------------------------------------------------------------------------------------------------------------------------------------------------------------------------------------------------------------------------------------------------------------------------------------------------------------------------------------------------------------------------------------------------------------------------------------------------------------------------------------------------------------------------------------------------------------------------------------------------------------------------------------------------------------------------------------------------------------------------------------------------------------------------------------------------------------------------------------------------------------------------------------------------------------------------------------------------------------------------------------------------------------------------------------------------------------------------------------------------------------------\n",
      " AcceptedAnswerId      | null                                                                                                                                                                                                                                                                                                                                                                                                                                                                                                                                                                                                                                                                                                                                                                                                                                                                                                                                                                                                                                                                                                                                                                                                                                    \n",
      " AnswerCount           | null                                                                                                                                                                                                                                                                                                                                                                                                                                                                                                                                                                                                                                                                                                                                                                                                                                                                                                                                                                                                                                                                                                                                                                                                                                    \n",
      " Body                  | For questions related to different filaments used as the print material.                                                                                                                                                                                                                                                                                                                                                                                                                                                                                                                                                                                                                                                                                                                                                                                                                                                                                                                                                                                                                                                                                                                                                                \n",
      " ClosedDate            | null                                                                                                                                                                                                                                                                                                                                                                                                                                                                                                                                                                                                                                                                                                                                                                                                                                                                                                                                                                                                                                                                                                                                                                                                                                    \n",
      " CommentCount          | 0                                                                                                                                                                                                                                                                                                                                                                                                                                                                                                                                                                                                                                                                                                                                                                                                                                                                                                                                                                                                                                                                                                                                                                                                                                       \n",
      " CommunityOwnedDate    | null                                                                                                                                                                                                                                                                                                                                                                                                                                                                                                                                                                                                                                                                                                                                                                                                                                                                                                                                                                                                                                                                                                                                                                                                                                    \n",
      " ContentLicense        | CC BY-SA 3.0                                                                                                                                                                                                                                                                                                                                                                                                                                                                                                                                                                                                                                                                                                                                                                                                                                                                                                                                                                                                                                                                                                                                                                                                                            \n",
      " CreationDate          | 2016-01-12 18:57:48.103                                                                                                                                                                                                                                                                                                                                                                                                                                                                                                                                                                                                                                                                                                                                                                                                                                                                                                                                                                                                                                                                                                                                                                                                                 \n",
      " FavoriteCount         | null                                                                                                                                                                                                                                                                                                                                                                                                                                                                                                                                                                                                                                                                                                                                                                                                                                                                                                                                                                                                                                                                                                                                                                                                                                    \n",
      " Id                    | 8                                                                                                                                                                                                                                                                                                                                                                                                                                                                                                                                                                                                                                                                                                                                                                                                                                                                                                                                                                                                                                                                                                                                                                                                                                       \n",
      " LastActivityDate      | 2016-01-15 17:04:07.18                                                                                                                                                                                                                                                                                                                                                                                                                                                                                                                                                                                                                                                                                                                                                                                                                                                                                                                                                                                                                                                                                                                                                                                                                  \n",
      " LastEditDate          | 2016-01-15 17:04:07.18                                                                                                                                                                                                                                                                                                                                                                                                                                                                                                                                                                                                                                                                                                                                                                                                                                                                                                                                                                                                                                                                                                                                                                                                                  \n",
      " LastEditorDisplayName | null                                                                                                                                                                                                                                                                                                                                                                                                                                                                                                                                                                                                                                                                                                                                                                                                                                                                                                                                                                                                                                                                                                                                                                                                                                    \n",
      " LastEditorUserId      | 11                                                                                                                                                                                                                                                                                                                                                                                                                                                                                                                                                                                                                                                                                                                                                                                                                                                                                                                                                                                                                                                                                                                                                                                                                                      \n",
      " OwnerDisplayName      | null                                                                                                                                                                                                                                                                                                                                                                                                                                                                                                                                                                                                                                                                                                                                                                                                                                                                                                                                                                                                                                                                                                                                                                                                                                    \n",
      " OwnerUserId           | 11                                                                                                                                                                                                                                                                                                                                                                                                                                                                                                                                                                                                                                                                                                                                                                                                                                                                                                                                                                                                                                                                                                                                                                                                                                      \n",
      " ParentId              | null                                                                                                                                                                                                                                                                                                                                                                                                                                                                                                                                                                                                                                                                                                                                                                                                                                                                                                                                                                                                                                                                                                                                                                                                                                    \n",
      " PostTypeId            | 4                                                                                                                                                                                                                                                                                                                                                                                                                                                                                                                                                                                                                                                                                                                                                                                                                                                                                                                                                                                                                                                                                                                                                                                                                                       \n",
      " Score                 | 0                                                                                                                                                                                                                                                                                                                                                                                                                                                                                                                                                                                                                                                                                                                                                                                                                                                                                                                                                                                                                                                                                                                                                                                                                                       \n",
      " Tags                  | null                                                                                                                                                                                                                                                                                                                                                                                                                                                                                                                                                                                                                                                                                                                                                                                                                                                                                                                                                                                                                                                                                                                                                                                                                                    \n",
      " Title                 | null                                                                                                                                                                                                                                                                                                                                                                                                                                                                                                                                                                                                                                                                                                                                                                                                                                                                                                                                                                                                                                                                                                                                                                                                                                    \n",
      " ViewCount             | null                                                                                                                                                                                                                                                                                                                                                                                                                                                                                                                                                                                                                                                                                                                                                                                                                                                                                                                                                                                                                                                                                                                                                                                                                                    \n",
      "-RECORD 8--------------------------------------------------------------------------------------------------------------------------------------------------------------------------------------------------------------------------------------------------------------------------------------------------------------------------------------------------------------------------------------------------------------------------------------------------------------------------------------------------------------------------------------------------------------------------------------------------------------------------------------------------------------------------------------------------------------------------------------------------------------------------------------------------------------------------------------------------------------------------------------------------------------------------------------------------------------------------------------------------------------------------------------------------------------------------------------------------------------------------------------------------------------------------------------------------------------------------------------------------------\n",
      " AcceptedAnswerId      | null                                                                                                                                                                                                                                                                                                                                                                                                                                                                                                                                                                                                                                                                                                                                                                                                                                                                                                                                                                                                                                                                                                                                                                                                                                    \n",
      " AnswerCount           | null                                                                                                                                                                                                                                                                                                                                                                                                                                                                                                                                                                                                                                                                                                                                                                                                                                                                                                                                                                                                                                                                                                                                                                                                                                    \n",
      " Body                  | Almost all 3D printers have issues that could cause health problems.FDM/FFF printers heat plastic to a temperature that may cause it to off-gas, and these byproducts may not be healthy.SLA printers often use epoxies that may off-gas, or may be somewhat toxic prior to being cured.Powder based printers can also off-gas, in addition to the powder itself presenting a possible hazard.Many hobbyist and small companies dance around the problem, and suggest that the machines always be used in well ventillated areas. Professional machines often have filters and ventillation systems built in.Rather than trying to find a \"perfectly safe\" 3D printer, spend some time deciding what you want to use one for, find printers suitable for your use, and expect that you'll need to provide reasonable ventilation for almost any printer. Plan your installation for that, and you should be able to make any printer safe for your required use.If, however, you plan on setting up a printer farm with many printers, and plan to have yourself or others spend significant time operating them, I suggest you work with a health and safety professional and have them identify possible hazards and plan mitigation. \n",
      " ClosedDate            | null                                                                                                                                                                                                                                                                                                                                                                                                                                                                                                                                                                                                                                                                                                                                                                                                                                                                                                                                                                                                                                                                                                                                                                                                                                    \n",
      " CommentCount          | 2                                                                                                                                                                                                                                                                                                                                                                                                                                                                                                                                                                                                                                                                                                                                                                                                                                                                                                                                                                                                                                                                                                                                                                                                                                       \n",
      " CommunityOwnedDate    | null                                                                                                                                                                                                                                                                                                                                                                                                                                                                                                                                                                                                                                                                                                                                                                                                                                                                                                                                                                                                                                                                                                                                                                                                                                    \n",
      " ContentLicense        | CC BY-SA 3.0                                                                                                                                                                                                                                                                                                                                                                                                                                                                                                                                                                                                                                                                                                                                                                                                                                                                                                                                                                                                                                                                                                                                                                                                                            \n",
      " CreationDate          | 2016-01-12 18:58:04.41                                                                                                                                                                                                                                                                                                                                                                                                                                                                                                                                                                                                                                                                                                                                                                                                                                                                                                                                                                                                                                                                                                                                                                                                                  \n",
      " FavoriteCount         | null                                                                                                                                                                                                                                                                                                                                                                                                                                                                                                                                                                                                                                                                                                                                                                                                                                                                                                                                                                                                                                                                                                                                                                                                                                    \n",
      " Id                    | 9                                                                                                                                                                                                                                                                                                                                                                                                                                                                                                                                                                                                                                                                                                                                                                                                                                                                                                                                                                                                                                                                                                                                                                                                                                       \n",
      " LastActivityDate      | 2016-01-12 18:58:04.41                                                                                                                                                                                                                                                                                                                                                                                                                                                                                                                                                                                                                                                                                                                                                                                                                                                                                                                                                                                                                                                                                                                                                                                                                  \n",
      " LastEditDate          | null                                                                                                                                                                                                                                                                                                                                                                                                                                                                                                                                                                                                                                                                                                                                                                                                                                                                                                                                                                                                                                                                                                                                                                                                                                    \n",
      " LastEditorDisplayName | null                                                                                                                                                                                                                                                                                                                                                                                                                                                                                                                                                                                                                                                                                                                                                                                                                                                                                                                                                                                                                                                                                                                                                                                                                                    \n",
      " LastEditorUserId      | null                                                                                                                                                                                                                                                                                                                                                                                                                                                                                                                                                                                                                                                                                                                                                                                                                                                                                                                                                                                                                                                                                                                                                                                                                                    \n",
      " OwnerDisplayName      | null                                                                                                                                                                                                                                                                                                                                                                                                                                                                                                                                                                                                                                                                                                                                                                                                                                                                                                                                                                                                                                                                                                                                                                                                                                    \n",
      " OwnerUserId           | 16                                                                                                                                                                                                                                                                                                                                                                                                                                                                                                                                                                                                                                                                                                                                                                                                                                                                                                                                                                                                                                                                                                                                                                                                                                      \n",
      " ParentId              | 2                                                                                                                                                                                                                                                                                                                                                                                                                                                                                                                                                                                                                                                                                                                                                                                                                                                                                                                                                                                                                                                                                                                                                                                                                                       \n",
      " PostTypeId            | 2                                                                                                                                                                                                                                                                                                                                                                                                                                                                                                                                                                                                                                                                                                                                                                                                                                                                                                                                                                                                                                                                                                                                                                                                                                       \n",
      " Score                 | 18                                                                                                                                                                                                                                                                                                                                                                                                                                                                                                                                                                                                                                                                                                                                                                                                                                                                                                                                                                                                                                                                                                                                                                                                                                      \n",
      " Tags                  | null                                                                                                                                                                                                                                                                                                                                                                                                                                                                                                                                                                                                                                                                                                                                                                                                                                                                                                                                                                                                                                                                                                                                                                                                                                    \n",
      " Title                 | null                                                                                                                                                                                                                                                                                                                                                                                                                                                                                                                                                                                                                                                                                                                                                                                                                                                                                                                                                                                                                                                                                                                                                                                                                                    \n",
      " ViewCount             | null                                                                                                                                                                                                                                                                                                                                                                                                                                                                                                                                                                                                                                                                                                                                                                                                                                                                                                                                                                                                                                                                                                                                                                                                                                    \n",
      "-RECORD 9--------------------------------------------------------------------------------------------------------------------------------------------------------------------------------------------------------------------------------------------------------------------------------------------------------------------------------------------------------------------------------------------------------------------------------------------------------------------------------------------------------------------------------------------------------------------------------------------------------------------------------------------------------------------------------------------------------------------------------------------------------------------------------------------------------------------------------------------------------------------------------------------------------------------------------------------------------------------------------------------------------------------------------------------------------------------------------------------------------------------------------------------------------------------------------------------------------------------------------------------------------\n",
      " AcceptedAnswerId      | null                                                                                                                                                                                                                                                                                                                                                                                                                                                                                                                                                                                                                                                                                                                                                                                                                                                                                                                                                                                                                                                                                                                                                                                                                                    \n",
      " AnswerCount           | 6                                                                                                                                                                                                                                                                                                                                                                                                                                                                                                                                                                                                                                                                                                                                                                                                                                                                                                                                                                                                                                                                                                                                                                                                                                       \n",
      " Body                  | I'd like to print modifications for my bird feeder, both to patch over the hail damage from last summer and to try to deter the neighborhood squirrels. I have an FDM printer (and experience with nylon, ABS, and PLA, though don't restrict answers to those if there's something else that's better), what kind of filament would stand up best to daily exposure to sun, rain, snow, etc?                                                                                                                                                                                                                                                                                                                                                                                                                                                                                                                                                                                                                                                                                                                                                                                                                                           \n",
      " ClosedDate            | null                                                                                                                                                                                                                                                                                                                                                                                                                                                                                                                                                                                                                                                                                                                                                                                                                                                                                                                                                                                                                                                                                                                                                                                                                                    \n",
      " CommentCount          | 2                                                                                                                                                                                                                                                                                                                                                                                                                                                                                                                                                                                                                                                                                                                                                                                                                                                                                                                                                                                                                                                                                                                                                                                                                                       \n",
      " CommunityOwnedDate    | null                                                                                                                                                                                                                                                                                                                                                                                                                                                                                                                                                                                                                                                                                                                                                                                                                                                                                                                                                                                                                                                                                                                                                                                                                                    \n",
      " ContentLicense        | CC BY-SA 4.0                                                                                                                                                                                                                                                                                                                                                                                                                                                                                                                                                                                                                                                                                                                                                                                                                                                                                                                                                                                                                                                                                                                                                                                                                            \n",
      " CreationDate          | 2016-01-12 18:59:34.417                                                                                                                                                                                                                                                                                                                                                                                                                                                                                                                                                                                                                                                                                                                                                                                                                                                                                                                                                                                                                                                                                                                                                                                                                 \n",
      " FavoriteCount         | null                                                                                                                                                                                                                                                                                                                                                                                                                                                                                                                                                                                                                                                                                                                                                                                                                                                                                                                                                                                                                                                                                                                                                                                                                                    \n",
      " Id                    | 10                                                                                                                                                                                                                                                                                                                                                                                                                                                                                                                                                                                                                                                                                                                                                                                                                                                                                                                                                                                                                                                                                                                                                                                                                                      \n",
      " LastActivityDate      | 2021-11-23 11:36:11.04                                                                                                                                                                                                                                                                                                                                                                                                                                                                                                                                                                                                                                                                                                                                                                                                                                                                                                                                                                                                                                                                                                                                                                                                                  \n",
      " LastEditDate          | 2021-11-23 11:36:11.04                                                                                                                                                                                                                                                                                                                                                                                                                                                                                                                                                                                                                                                                                                                                                                                                                                                                                                                                                                                                                                                                                                                                                                                                                  \n",
      " LastEditorDisplayName | null                                                                                                                                                                                                                                                                                                                                                                                                                                                                                                                                                                                                                                                                                                                                                                                                                                                                                                                                                                                                                                                                                                                                                                                                                                    \n",
      " LastEditorUserId      | 5740                                                                                                                                                                                                                                                                                                                                                                                                                                                                                                                                                                                                                                                                                                                                                                                                                                                                                                                                                                                                                                                                                                                                                                                                                                    \n",
      " OwnerDisplayName      | null                                                                                                                                                                                                                                                                                                                                                                                                                                                                                                                                                                                                                                                                                                                                                                                                                                                                                                                                                                                                                                                                                                                                                                                                                                    \n",
      " OwnerUserId           | 17                                                                                                                                                                                                                                                                                                                                                                                                                                                                                                                                                                                                                                                                                                                                                                                                                                                                                                                                                                                                                                                                                                                                                                                                                                      \n",
      " ParentId              | null                                                                                                                                                                                                                                                                                                                                                                                                                                                                                                                                                                                                                                                                                                                                                                                                                                                                                                                                                                                                                                                                                                                                                                                                                                    \n",
      " PostTypeId            | 1                                                                                                                                                                                                                                                                                                                                                                                                                                                                                                                                                                                                                                                                                                                                                                                                                                                                                                                                                                                                                                                                                                                                                                                                                                       \n",
      " Score                 | 16                                                                                                                                                                                                                                                                                                                                                                                                                                                                                                                                                                                                                                                                                                                                                                                                                                                                                                                                                                                                                                                                                                                                                                                                                                      \n",
      " Tags                  | material,fdm,outdoors                                                                                                                                                                                                                                                                                                                                                                                                                                                                                                                                                                                                                                                                                                                                                                                                                                                                                                                                                                                                                                                                                                                                                                                                                   \n",
      " Title                 | 3D printing for outdoor use: \"What types of filament are most weather resistant?\"                                                                                                                                                                                                                                                                                                                                                                                                                                                                                                                                                                                                                                                                                                                                                                                                                                                                                                                                                                                                                                                                                                                                                       \n",
      " ViewCount             | 13690                                                                                                                                                                                                                                                                                                                                                                                                                                                                                                                                                                                                                                                                                                                                                                                                                                                                                                                                                                                                                                                                                                                                                                                                                                   \n",
      "only showing top 10 rows"
     ]
    }
   ],
   "source": [
    "Posts_DF_clean2.show(10, vertical=True,truncate=False)"
   ]
  },
  {
   "cell_type": "markdown",
   "id": "d1756bba",
   "metadata": {},
   "source": [
    "#### f) Tags_DF"
   ]
  },
  {
   "cell_type": "code",
   "execution_count": 39,
   "id": "2f22a8b7",
   "metadata": {},
   "outputs": [
    {
     "data": {
      "application/vnd.jupyter.widget-view+json": {
       "model_id": "",
       "version_major": 2,
       "version_minor": 0
      },
      "text/plain": [
       "FloatProgress(value=0.0, bar_style='info', description='Progress:', layout=Layout(height='25px', width='50%'),…"
      ]
     },
     "metadata": {},
     "output_type": "display_data"
    }
   ],
   "source": [
    "# checking on NULL values"
   ]
  },
  {
   "cell_type": "code",
   "execution_count": 40,
   "id": "1d3752b3",
   "metadata": {},
   "outputs": [
    {
     "data": {
      "application/vnd.jupyter.widget-view+json": {
       "model_id": "",
       "version_major": 2,
       "version_minor": 0
      },
      "text/plain": [
       "FloatProgress(value=0.0, bar_style='info', description='Progress:', layout=Layout(height='25px', width='50%'),…"
      ]
     },
     "metadata": {},
     "output_type": "display_data"
    },
    {
     "name": "stdout",
     "output_type": "stream",
     "text": [
      "424"
     ]
    }
   ],
   "source": [
    "# count all rows\n",
    "\n",
    "Tags_DF.count()"
   ]
  },
  {
   "cell_type": "code",
   "execution_count": 41,
   "id": "10c3ea9e",
   "metadata": {},
   "outputs": [
    {
     "data": {
      "application/vnd.jupyter.widget-view+json": {
       "model_id": "",
       "version_major": 2,
       "version_minor": 0
      },
      "text/plain": [
       "FloatProgress(value=0.0, bar_style='info', description='Progress:', layout=Layout(height='25px', width='50%'),…"
      ]
     },
     "metadata": {},
     "output_type": "display_data"
    },
    {
     "name": "stdout",
     "output_type": "stream",
     "text": [
      "424"
     ]
    }
   ],
   "source": [
    "# count all rows with CreationDate NULL values\n",
    "\n",
    "Tags_DF.where(Tags_DF.CreationDate.isNull()).count()"
   ]
  },
  {
   "cell_type": "code",
   "execution_count": 42,
   "id": "2948ef35",
   "metadata": {},
   "outputs": [
    {
     "data": {
      "application/vnd.jupyter.widget-view+json": {
       "model_id": "",
       "version_major": 2,
       "version_minor": 0
      },
      "text/plain": [
       "FloatProgress(value=0.0, bar_style='info', description='Progress:', layout=Layout(height='25px', width='50%'),…"
      ]
     },
     "metadata": {},
     "output_type": "display_data"
    },
    {
     "name": "stdout",
     "output_type": "stream",
     "text": [
      "+-----+-------------+---+------------------+----------+\n",
      "|Count|ExcerptPostId| Id|           TagName|WikiPostId|\n",
      "+-----+-------------+---+------------------+----------+\n",
      "|   27|          434|  1|        resolution|       433|\n",
      "|   48|          112|  2|             speed|       111|\n",
      "|   38|          114|  3|           quality|       113|\n",
      "|   14|          120|  4|            health|       119|\n",
      "|   60|          489|  6|          material|       488|\n",
      "|  103|          287|  7|               fdm|       286|\n",
      "|  285|            8|  8|          filament|         7|\n",
      "|   55|          428|  9|          makerbot|       427|\n",
      "|   23|         7059| 10|             color|      7058|\n",
      "|    5|        10078| 11|          outdoors|     10077|\n",
      "|   28|          812| 13|           surface|       811|\n",
      "|    9|         3690| 15|       metal-parts|      3689|\n",
      "|   91|          535| 17|support-structures|       534|\n",
      "|   25|          126| 18|             rafts|       125|\n",
      "|    7|          128| 21|             brims|       127|\n",
      "|   64|          185| 22|            reprap|       184|\n",
      "|    9|         7054| 25|              cost|      7053|\n",
      "|    6|         null| 26|        estimation|      null|\n",
      "|   61|          436| 27|   desktop-printer|       435|\n",
      "|   31|          481| 28|       dual-nozzle|       480|\n",
      "+-----+-------------+---+------------------+----------+\n",
      "only showing top 20 rows"
     ]
    }
   ],
   "source": [
    "# remove column CreationDate\n",
    "\n",
    "Tags_DFclean=Tags_DF.drop(\"CreationDate\")\n",
    "Tags_DFclean.show()"
   ]
  },
  {
   "cell_type": "markdown",
   "id": "8d94ca7d",
   "metadata": {},
   "source": [
    "#### g) Users_DF"
   ]
  },
  {
   "cell_type": "markdown",
   "id": "24482abf",
   "metadata": {},
   "source": [
    "#### - replace multiple blank spaces with just one space, remove newline and special characters"
   ]
  },
  {
   "cell_type": "code",
   "execution_count": 43,
   "id": "6c3d72e4",
   "metadata": {},
   "outputs": [
    {
     "data": {
      "application/vnd.jupyter.widget-view+json": {
       "model_id": "",
       "version_major": 2,
       "version_minor": 0
      },
      "text/plain": [
       "FloatProgress(value=0.0, bar_style='info', description='Progress:', layout=Layout(height='25px', width='50%'),…"
      ]
     },
     "metadata": {},
     "output_type": "display_data"
    },
    {
     "name": "stdout",
     "output_type": "stream",
     "text": [
      "-RECORD 0-------------------------------------------------------------------------------------------------------------------------------------------------------------------------------------------------------------------------------------------------------------------------------------------------------------------------------------------------------------------------------------------------------------------------------------------------------------------------------------------------------------------------------------------------------------------------------------------------------------------------------------------------------------------------------------------------------------------------------------------------------------------------------------------------------------------------------------------------------------------------------------------------------------------------------------------------------------------------------\n",
      " AboutMe        | Hi, I'm not really a person.I'm a background process that helps keep this site clean!I do things likeRandomly poke old unanswered questions every hour so they get some attentionOwn community questions and answers so nobody gets unnecessary reputation from themOwn downvotes on spam/evil posts that get permanently deletedOwn suggested edits from anonymous usersRemove abandoned questions                                                                                                                                                                                                                                                                                                                                                                                                                                                                                                                                                                   \n",
      " AccountId      | -1                                                                                                                                                                                                                                                                                                                                                                                                                                                                                                                                                                                                                                                                                                                                                                                                                                                                                                                                                                    \n",
      " CreationDate   | 2016-01-11 22:16:10.83                                                                                                                                                                                                                                                                                                                                                                                                                                                                                                                                                                                                                                                                                                                                                                                                                                                                                                                                                \n",
      " DisplayName    | Community                                                                                                                                                                                                                                                                                                                                                                                                                                                                                                                                                                                                                                                                                                                                                                                                                                                                                                                                                             \n",
      " DownVotes      | 3585                                                                                                                                                                                                                                                                                                                                                                                                                                                                                                                                                                                                                                                                                                                                                                                                                                                                                                                                                                  \n",
      " Id             | -1                                                                                                                                                                                                                                                                                                                                                                                                                                                                                                                                                                                                                                                                                                                                                                                                                                                                                                                                                                    \n",
      " LastAccessDate | 2016-01-11 22:16:10.83                                                                                                                                                                                                                                                                                                                                                                                                                                                                                                                                                                                                                                                                                                                                                                                                                                                                                                                                                \n",
      " Location       | on the server farm                                                                                                                                                                                                                                                                                                                                                                                                                                                                                                                                                                                                                                                                                                                                                                                                                                                                                                                                                    \n",
      " Reputation     | 1                                                                                                                                                                                                                                                                                                                                                                                                                                                                                                                                                                                                                                                                                                                                                                                                                                                                                                                                                                     \n",
      " UpVotes        | 51                                                                                                                                                                                                                                                                                                                                                                                                                                                                                                                                                                                                                                                                                                                                                                                                                                                                                                                                                                    \n",
      " Views          | 160                                                                                                                                                                                                                                                                                                                                                                                                                                                                                                                                                                                                                                                                                                                                                                                                                                                                                                                                                                   \n",
      " WebsiteUrl     | null                                                                                                                                                                                                                                                                                                                                                                                                                                                                                                                                                                                                                                                                                                                                                                                                                                                                                                                                                                  \n",
      "-RECORD 1-------------------------------------------------------------------------------------------------------------------------------------------------------------------------------------------------------------------------------------------------------------------------------------------------------------------------------------------------------------------------------------------------------------------------------------------------------------------------------------------------------------------------------------------------------------------------------------------------------------------------------------------------------------------------------------------------------------------------------------------------------------------------------------------------------------------------------------------------------------------------------------------------------------------------------------------------------------------------------\n",
      " AboutMe        | Stack Exchange Valued Associate #00005I was the Director of Community Development for the Stack Overflow Network for 10 years (120 million visitors per month!)CURRENTLY LOOKING FOR A NEW ADVENTURE:If anyone is looking to develop their brand's online community with someone who has a heck of a track record in innovative product and feature design, let's talk!&#114;&#99;&#97;&#114;&#116;&#97;&#105;&#110;&#111;&#64;&#121;&#97;&#104;&#111;&#111;&#46;&#99;&#111;&#109;                                                                                                                                                                                                                                                                                                                                                                                                                                                                                    \n",
      " AccountId      | 34933                                                                                                                                                                                                                                                                                                                                                                                                                                                                                                                                                                                                                                                                                                                                                                                                                                                                                                                                                                 \n",
      " CreationDate   | 2016-01-12 18:02:28.7                                                                                                                                                                                                                                                                                                                                                                                                                                                                                                                                                                                                                                                                                                                                                                                                                                                                                                                                                 \n",
      " DisplayName    | Robert Cartaino                                                                                                                                                                                                                                                                                                                                                                                                                                                                                                                                                                                                                                                                                                                                                                                                                                                                                                                                                       \n",
      " DownVotes      | 14                                                                                                                                                                                                                                                                                                                                                                                                                                                                                                                                                                                                                                                                                                                                                                                                                                                                                                                                                                    \n",
      " Id             | 1                                                                                                                                                                                                                                                                                                                                                                                                                                                                                                                                                                                                                                                                                                                                                                                                                                                                                                                                                                     \n",
      " LastAccessDate | 2019-06-06 21:50:12.023                                                                                                                                                                                                                                                                                                                                                                                                                                                                                                                                                                                                                                                                                                                                                                                                                                                                                                                                               \n",
      " Location       | Palm Bay, FL                                                                                                                                                                                                                                                                                                                                                                                                                                                                                                                                                                                                                                                                                                                                                                                                                                                                                                                                                          \n",
      " Reputation     | 101                                                                                                                                                                                                                                                                                                                                                                                                                                                                                                                                                                                                                                                                                                                                                                                                                                                                                                                                                                   \n",
      " UpVotes        | 0                                                                                                                                                                                                                                                                                                                                                                                                                                                                                                                                                                                                                                                                                                                                                                                                                                                                                                                                                                     \n",
      " Views          | 355                                                                                                                                                                                                                                                                                                                                                                                                                                                                                                                                                                                                                                                                                                                                                                                                                                                                                                                                                                   \n",
      " WebsiteUrl     | null                                                                                                                                                                                                                                                                                                                                                                                                                                                                                                                                                                                                                                                                                                                                                                                                                                                                                                                                                                  \n",
      "-RECORD 2-------------------------------------------------------------------------------------------------------------------------------------------------------------------------------------------------------------------------------------------------------------------------------------------------------------------------------------------------------------------------------------------------------------------------------------------------------------------------------------------------------------------------------------------------------------------------------------------------------------------------------------------------------------------------------------------------------------------------------------------------------------------------------------------------------------------------------------------------------------------------------------------------------------------------------------------------------------------------------\n",
      " AboutMe        | I am a Technical Success Manager (part of our Support Team, formerly a member of the Community Growth Team) on the Stack Exchange Network. Pleased to meet you!Programmer/designer with a Computer Science degree and an electronic media degree. Enjoys gaming and does designwork as a hobby.&quot;Being an Alice in the world of computing can be a very problematic position.&quot;                                                                                                                                                                                                                                                                                                                                                                                                                                                                                                                                                                               \n",
      " AccountId      | 102159                                                                                                                                                                                                                                                                                                                                                                                                                                                                                                                                                                                                                                                                                                                                                                                                                                                                                                                                                                \n",
      " CreationDate   | 2016-01-12 18:04:23.367                                                                                                                                                                                                                                                                                                                                                                                                                                                                                                                                                                                                                                                                                                                                                                                                                                                                                                                                               \n",
      " DisplayName    | 2D Printing Grace Note                                                                                                                                                                                                                                                                                                                                                                                                                                                                                                                                                                                                                                                                                                                                                                                                                                                                                                                                                \n",
      " DownVotes      | 0                                                                                                                                                                                                                                                                                                                                                                                                                                                                                                                                                                                                                                                                                                                                                                                                                                                                                                                                                                     \n",
      " Id             | 2                                                                                                                                                                                                                                                                                                                                                                                                                                                                                                                                                                                                                                                                                                                                                                                                                                                                                                                                                                     \n",
      " LastAccessDate | 2017-12-27 13:05:11.077                                                                                                                                                                                                                                                                                                                                                                                                                                                                                                                                                                                                                                                                                                                                                                                                                                                                                                                                               \n",
      " Location       | null                                                                                                                                                                                                                                                                                                                                                                                                                                                                                                                                                                                                                                                                                                                                                                                                                                                                                                                                                                  \n",
      " Reputation     | 101                                                                                                                                                                                                                                                                                                                                                                                                                                                                                                                                                                                                                                                                                                                                                                                                                                                                                                                                                                   \n",
      " UpVotes        | 0                                                                                                                                                                                                                                                                                                                                                                                                                                                                                                                                                                                                                                                                                                                                                                                                                                                                                                                                                                     \n",
      " Views          | 8                                                                                                                                                                                                                                                                                                                                                                                                                                                                                                                                                                                                                                                                                                                                                                                                                                                                                                                                                                     \n",
      " WebsiteUrl     | null                                                                                                                                                                                                                                                                                                                                                                                                                                                                                                                                                                                                                                                                                                                                                                                                                                                                                                                                                                  \n",
      "-RECORD 3-------------------------------------------------------------------------------------------------------------------------------------------------------------------------------------------------------------------------------------------------------------------------------------------------------------------------------------------------------------------------------------------------------------------------------------------------------------------------------------------------------------------------------------------------------------------------------------------------------------------------------------------------------------------------------------------------------------------------------------------------------------------------------------------------------------------------------------------------------------------------------------------------------------------------------------------------------------------------------\n",
      " AboutMe        | I work for Stack Overflow as a Senior Product Support Specialist.                                                                                                                                                                                                                                                                                                                                                                                                                                                                                                                                                                                                                                                                                                                                                                                                                                                                                                     \n",
      " AccountId      | 89201                                                                                                                                                                                                                                                                                                                                                                                                                                                                                                                                                                                                                                                                                                                                                                                                                                                                                                                                                                 \n",
      " CreationDate   | 2016-01-12 18:04:39.963                                                                                                                                                                                                                                                                                                                                                                                                                                                                                                                                                                                                                                                                                                                                                                                                                                                                                                                                               \n",
      " DisplayName    | animuson                                                                                                                                                                                                                                                                                                                                                                                                                                                                                                                                                                                                                                                                                                                                                                                                                                                                                                                                                              \n",
      " DownVotes      | 0                                                                                                                                                                                                                                                                                                                                                                                                                                                                                                                                                                                                                                                                                                                                                                                                                                                                                                                                                                     \n",
      " Id             | 3                                                                                                                                                                                                                                                                                                                                                                                                                                                                                                                                                                                                                                                                                                                                                                                                                                                                                                                                                                     \n",
      " LastAccessDate | 2022-10-25 15:37:31.277                                                                                                                                                                                                                                                                                                                                                                                                                                                                                                                                                                                                                                                                                                                                                                                                                                                                                                                                               \n",
      " Location       | United States                                                                                                                                                                                                                                                                                                                                                                                                                                                                                                                                                                                                                                                                                                                                                                                                                                                                                                                                                         \n",
      " Reputation     | 101                                                                                                                                                                                                                                                                                                                                                                                                                                                                                                                                                                                                                                                                                                                                                                                                                                                                                                                                                                   \n",
      " UpVotes        | 0                                                                                                                                                                                                                                                                                                                                                                                                                                                                                                                                                                                                                                                                                                                                                                                                                                                                                                                                                                     \n",
      " Views          | 7                                                                                                                                                                                                                                                                                                                                                                                                                                                                                                                                                                                                                                                                                                                                                                                                                                                                                                                                                                     \n",
      " WebsiteUrl     | https://animuson.me                                                                                                                                                                                                                                                                                                                                                                                                                                                                                                                                                                                                                                                                                                                                                                                                                                                                                                                                                   \n",
      "-RECORD 4-------------------------------------------------------------------------------------------------------------------------------------------------------------------------------------------------------------------------------------------------------------------------------------------------------------------------------------------------------------------------------------------------------------------------------------------------------------------------------------------------------------------------------------------------------------------------------------------------------------------------------------------------------------------------------------------------------------------------------------------------------------------------------------------------------------------------------------------------------------------------------------------------------------------------------------------------------------------------------\n",
      " AboutMe        | Developer at Stack Overflow focusing on public Q&amp;A. Russian Canadian working in the American idiom.Once upon a time:community manager at Stack Overflowelected moderator on Stack Overflow and Software Engineeringdesktop software developer ¯\\_(ツ)_/¯Email me a link to your favorite Wikipedia article: adam@stackoverflow.com.                                                                                                                                                                                                                                                                                                                                                                                                                                                                                                                                                                                                                               \n",
      " AccountId      | 37099                                                                                                                                                                                                                                                                                                                                                                                                                                                                                                                                                                                                                                                                                                                                                                                                                                                                                                                                                                 \n",
      " CreationDate   | 2016-01-12 18:05:36.12                                                                                                                                                                                                                                                                                                                                                                                                                                                                                                                                                                                                                                                                                                                                                                                                                                                                                                                                                \n",
      " DisplayName    | Adam Lear                                                                                                                                                                                                                                                                                                                                                                                                                                                                                                                                                                                                                                                                                                                                                                                                                                                                                                                                                             \n",
      " DownVotes      | 0                                                                                                                                                                                                                                                                                                                                                                                                                                                                                                                                                                                                                                                                                                                                                                                                                                                                                                                                                                     \n",
      " Id             | 4                                                                                                                                                                                                                                                                                                                                                                                                                                                                                                                                                                                                                                                                                                                                                                                                                                                                                                                                                                     \n",
      " LastAccessDate | 2022-08-18 18:33:07.973                                                                                                                                                                                                                                                                                                                                                                                                                                                                                                                                                                                                                                                                                                                                                                                                                                                                                                                                               \n",
      " Location       | New York, NY                                                                                                                                                                                                                                                                                                                                                                                                                                                                                                                                                                                                                                                                                                                                                                                                                                                                                                                                                          \n",
      " Reputation     | 101                                                                                                                                                                                                                                                                                                                                                                                                                                                                                                                                                                                                                                                                                                                                                                                                                                                                                                                                                                   \n",
      " UpVotes        | 0                                                                                                                                                                                                                                                                                                                                                                                                                                                                                                                                                                                                                                                                                                                                                                                                                                                                                                                                                                     \n",
      " Views          | 5                                                                                                                                                                                                                                                                                                                                                                                                                                                                                                                                                                                                                                                                                                                                                                                                                                                                                                                                                                     \n",
      " WebsiteUrl     | null                                                                                                                                                                                                                                                                                                                                                                                                                                                                                                                                                                                                                                                                                                                                                                                                                                                                                                                                                                  \n",
      "-RECORD 5-------------------------------------------------------------------------------------------------------------------------------------------------------------------------------------------------------------------------------------------------------------------------------------------------------------------------------------------------------------------------------------------------------------------------------------------------------------------------------------------------------------------------------------------------------------------------------------------------------------------------------------------------------------------------------------------------------------------------------------------------------------------------------------------------------------------------------------------------------------------------------------------------------------------------------------------------------------------------------\n",
      " AboutMe        | Developer Advocate at EDBStack Exchange no longer employs me as a Community Manager. I maintain an office on chat. (Please ignore the meta cruft.)Mercy and truth are met together; righteousness and peace have kissed each other.I write about my experience as a community manager at jlericson.com. You can read about what I've done over the years in my curriculum vitae.On a personal note, I'm married and have three children. Our oldest son loves school, friends, games, and music. Two of my children happen to have been born on the same day. I sometimes write about that experience. My wife loves taking care of people as a registered nurse and an all around wonderful person.Don't have time for a full review of something? Why not try my 5-second reviews?I once wrote for Eschewmenical, which was an experiment of Christianity Stack Exchange. For a lot more writing about the Bible, see my Biblical Hermeneutics posts.               \n",
      " AccountId      | 1083                                                                                                                                                                                                                                                                                                                                                                                                                                                                                                                                                                                                                                                                                                                                                                                                                                                                                                                                                                  \n",
      " CreationDate   | 2016-01-12 18:07:17.827                                                                                                                                                                                                                                                                                                                                                                                                                                                                                                                                                                                                                                                                                                                                                                                                                                                                                                                                               \n",
      " DisplayName    | Jon Ericson                                                                                                                                                                                                                                                                                                                                                                                                                                                                                                                                                                                                                                                                                                                                                                                                                                                                                                                                                           \n",
      " DownVotes      | 0                                                                                                                                                                                                                                                                                                                                                                                                                                                                                                                                                                                                                                                                                                                                                                                                                                                                                                                                                                     \n",
      " Id             | 5                                                                                                                                                                                                                                                                                                                                                                                                                                                                                                                                                                                                                                                                                                                                                                                                                                                                                                                                                                     \n",
      " LastAccessDate | 2019-08-17 01:42:34.047                                                                                                                                                                                                                                                                                                                                                                                                                                                                                                                                                                                                                                                                                                                                                                                                                                                                                                                                               \n",
      " Location       | Downtown Burbank                                                                                                                                                                                                                                                                                                                                                                                                                                                                                                                                                                                                                                                                                                                                                                                                                                                                                                                                                      \n",
      " Reputation     | 101                                                                                                                                                                                                                                                                                                                                                                                                                                                                                                                                                                                                                                                                                                                                                                                                                                                                                                                                                                   \n",
      " UpVotes        | 0                                                                                                                                                                                                                                                                                                                                                                                                                                                                                                                                                                                                                                                                                                                                                                                                                                                                                                                                                                     \n",
      " Views          | 15                                                                                                                                                                                                                                                                                                                                                                                                                                                                                                                                                                                                                                                                                                                                                                                                                                                                                                                                                                    \n",
      " WebsiteUrl     | https://jlericson.com/                                                                                                                                                                                                                                                                                                                                                                                                                                                                                                                                                                                                                                                                                                                                                                                                                                                                                                                                                \n",
      "-RECORD 6-------------------------------------------------------------------------------------------------------------------------------------------------------------------------------------------------------------------------------------------------------------------------------------------------------------------------------------------------------------------------------------------------------------------------------------------------------------------------------------------------------------------------------------------------------------------------------------------------------------------------------------------------------------------------------------------------------------------------------------------------------------------------------------------------------------------------------------------------------------------------------------------------------------------------------------------------------------------------------\n",
      " AboutMe        | Principal Design Director at Microsoft for Developer / IT websites. Former Creative Director of product at Stack Overflow / Stack ExchangePreviously at Indiana University and Studio Science.                                                                                                                                                                                                                                                                                                                                                                                                                                                                                                                                                                                                                                                                                                                                                                        \n",
      " AccountId      | 5128683                                                                                                                                                                                                                                                                                                                                                                                                                                                                                                                                                                                                                                                                                                                                                                                                                                                                                                                                                               \n",
      " CreationDate   | 2016-01-12 18:07:22.123                                                                                                                                                                                                                                                                                                                                                                                                                                                                                                                                                                                                                                                                                                                                                                                                                                                                                                                                               \n",
      " DisplayName    | Kurtis Beavers                                                                                                                                                                                                                                                                                                                                                                                                                                                                                                                                                                                                                                                                                                                                                                                                                                                                                                                                                        \n",
      " DownVotes      | 0                                                                                                                                                                                                                                                                                                                                                                                                                                                                                                                                                                                                                                                                                                                                                                                                                                                                                                                                                                     \n",
      " Id             | 6                                                                                                                                                                                                                                                                                                                                                                                                                                                                                                                                                                                                                                                                                                                                                                                                                                                                                                                                                                     \n",
      " LastAccessDate | 2016-01-13 00:17:04.343                                                                                                                                                                                                                                                                                                                                                                                                                                                                                                                                                                                                                                                                                                                                                                                                                                                                                                                                               \n",
      " Location       | Bloomington, IN, United States                                                                                                                                                                                                                                                                                                                                                                                                                                                                                                                                                                                                                                                                                                                                                                                                                                                                                                                                        \n",
      " Reputation     | 101                                                                                                                                                                                                                                                                                                                                                                                                                                                                                                                                                                                                                                                                                                                                                                                                                                                                                                                                                                   \n",
      " UpVotes        | 0                                                                                                                                                                                                                                                                                                                                                                                                                                                                                                                                                                                                                                                                                                                                                                                                                                                                                                                                                                     \n",
      " Views          | 2                                                                                                                                                                                                                                                                                                                                                                                                                                                                                                                                                                                                                                                                                                                                                                                                                                                                                                                                                                     \n",
      " WebsiteUrl     | http://www.kurtisbeavers.com                                                                                                                                                                                                                                                                                                                                                                                                                                                                                                                                                                                                                                                                                                                                                                                                                                                                                                                                          \n",
      "-RECORD 7-------------------------------------------------------------------------------------------------------------------------------------------------------------------------------------------------------------------------------------------------------------------------------------------------------------------------------------------------------------------------------------------------------------------------------------------------------------------------------------------------------------------------------------------------------------------------------------------------------------------------------------------------------------------------------------------------------------------------------------------------------------------------------------------------------------------------------------------------------------------------------------------------------------------------------------------------------------------------------\n",
      " AboutMe        | Well, fancy seeing you here!I work for EDB, assisting a bunch of really skilled people share their PostgreSQL expertise and experience with the world.Before that, I worked here - at Stack Overflow / Stack Exchange. Here, my duties also involved helping a bunch of really skilled people share their knowledge. So you might encounter some posts from me which provide guidance and advice for the folks using this network of Q&amp;A sites.I tend to write as though I know what I'm writing about... And sometimes I do... But, you should always use your own judgement: question everything, read the links to supporting materials, and draw your own conclusions. I'm usually happy to discuss anything I've written, so don't hesitate to raise concerns or point out when something is unclear!Whatsoever thy hand findeth to do, do it with thy might; for there is no work, nor device, nor knowledge, nor wisdom, in the grave, whither thou goest. \n",
      " AccountId      | 620                                                                                                                                                                                                                                                                                                                                                                                                                                                                                                                                                                                                                                                                                                                                                                                                                                                                                                                                                                   \n",
      " CreationDate   | 2016-01-12 18:10:13.41                                                                                                                                                                                                                                                                                                                                                                                                                                                                                                                                                                                                                                                                                                                                                                                                                                                                                                                                                \n",
      " DisplayName    | Shog9                                                                                                                                                                                                                                                                                                                                                                                                                                                                                                                                                                                                                                                                                                                                                                                                                                                                                                                                                                 \n",
      " DownVotes      | 0                                                                                                                                                                                                                                                                                                                                                                                                                                                                                                                                                                                                                                                                                                                                                                                                                                                                                                                                                                     \n",
      " Id             | 7                                                                                                                                                                                                                                                                                                                                                                                                                                                                                                                                                                                                                                                                                                                                                                                                                                                                                                                                                                     \n",
      " LastAccessDate | 2020-01-06 23:34:00.317                                                                                                                                                                                                                                                                                                                                                                                                                                                                                                                                                                                                                                                                                                                                                                                                                                                                                                                                               \n",
      " Location       | Frontier, WA, USA                                                                                                                                                                                                                                                                                                                                                                                                                                                                                                                                                                                                                                                                                                                                                                                                                                                                                                                                                     \n",
      " Reputation     | 101                                                                                                                                                                                                                                                                                                                                                                                                                                                                                                                                                                                                                                                                                                                                                                                                                                                                                                                                                                   \n",
      " UpVotes        | 0                                                                                                                                                                                                                                                                                                                                                                                                                                                                                                                                                                                                                                                                                                                                                                                                                                                                                                                                                                     \n",
      " Views          | 2                                                                                                                                                                                                                                                                                                                                                                                                                                                                                                                                                                                                                                                                                                                                                                                                                                                                                                                                                                     \n",
      " WebsiteUrl     | http://shog9.com                                                                                                                                                                                                                                                                                                                                                                                                                                                                                                                                                                                                                                                                                                                                                                                                                                                                                                                                                      \n",
      "-RECORD 8-------------------------------------------------------------------------------------------------------------------------------------------------------------------------------------------------------------------------------------------------------------------------------------------------------------------------------------------------------------------------------------------------------------------------------------------------------------------------------------------------------------------------------------------------------------------------------------------------------------------------------------------------------------------------------------------------------------------------------------------------------------------------------------------------------------------------------------------------------------------------------------------------------------------------------------------------------------------------------\n",
      " AboutMe        | Thinker, tinkerer, problem-solver, writer, traveler. Product manager emerita, Stack Overflow.                                                                                                                                                                                                                                                                                                                                                                                                                                                                                                                                                                                                                                                                                                                                                                                                                                                                         \n",
      " AccountId      | 463263                                                                                                                                                                                                                                                                                                                                                                                                                                                                                                                                                                                                                                                                                                                                                                                                                                                                                                                                                                \n",
      " CreationDate   | 2016-01-12 18:12:51.083                                                                                                                                                                                                                                                                                                                                                                                                                                                                                                                                                                                                                                                                                                                                                                                                                                                                                                                                               \n",
      " DisplayName    | Laura                                                                                                                                                                                                                                                                                                                                                                                                                                                                                                                                                                                                                                                                                                                                                                                                                                                                                                                                                                 \n",
      " DownVotes      | 0                                                                                                                                                                                                                                                                                                                                                                                                                                                                                                                                                                                                                                                                                                                                                                                                                                                                                                                                                                     \n",
      " Id             | 8                                                                                                                                                                                                                                                                                                                                                                                                                                                                                                                                                                                                                                                                                                                                                                                                                                                                                                                                                                     \n",
      " LastAccessDate | 2016-01-12 18:12:51.083                                                                                                                                                                                                                                                                                                                                                                                                                                                                                                                                                                                                                                                                                                                                                                                                                                                                                                                                               \n",
      " Location       | New York, United States                                                                                                                                                                                                                                                                                                                                                                                                                                                                                                                                                                                                                                                                                                                                                                                                                                                                                                                                               \n",
      " Reputation     | 101                                                                                                                                                                                                                                                                                                                                                                                                                                                                                                                                                                                                                                                                                                                                                                                                                                                                                                                                                                   \n",
      " UpVotes        | 0                                                                                                                                                                                                                                                                                                                                                                                                                                                                                                                                                                                                                                                                                                                                                                                                                                                                                                                                                                     \n",
      " Views          | 1                                                                                                                                                                                                                                                                                                                                                                                                                                                                                                                                                                                                                                                                                                                                                                                                                                                                                                                                                                     \n",
      " WebsiteUrl     | null                                                                                                                                                                                                                                                                                                                                                                                                                                                                                                                                                                                                                                                                                                                                                                                                                                                                                                                                                                  \n",
      "-RECORD 9-------------------------------------------------------------------------------------------------------------------------------------------------------------------------------------------------------------------------------------------------------------------------------------------------------------------------------------------------------------------------------------------------------------------------------------------------------------------------------------------------------------------------------------------------------------------------------------------------------------------------------------------------------------------------------------------------------------------------------------------------------------------------------------------------------------------------------------------------------------------------------------------------------------------------------------------------------------------------------\n",
      " AboutMe        | Software Developer extraordinaire?                                                                                                                                                                                                                                                                                                                                                                                                                                                                                                                                                                                                                                                                                                                                                                                                                                                                                                                                    \n",
      " AccountId      | 2803755                                                                                                                                                                                                                                                                                                                                                                                                                                                                                                                                                                                                                                                                                                                                                                                                                                                                                                                                                               \n",
      " CreationDate   | 2016-01-12 18:36:48.06                                                                                                                                                                                                                                                                                                                                                                                                                                                                                                                                                                                                                                                                                                                                                                                                                                                                                                                                                \n",
      " DisplayName    | charliefox2                                                                                                                                                                                                                                                                                                                                                                                                                                                                                                                                                                                                                                                                                                                                                                                                                                                                                                                                                           \n",
      " DownVotes      | 0                                                                                                                                                                                                                                                                                                                                                                                                                                                                                                                                                                                                                                                                                                                                                                                                                                                                                                                                                                     \n",
      " Id             | 9                                                                                                                                                                                                                                                                                                                                                                                                                                                                                                                                                                                                                                                                                                                                                                                                                                                                                                                                                                     \n",
      " LastAccessDate | 2020-11-01 01:42:47.373                                                                                                                                                                                                                                                                                                                                                                                                                                                                                                                                                                                                                                                                                                                                                                                                                                                                                                                                               \n",
      " Location       | null                                                                                                                                                                                                                                                                                                                                                                                                                                                                                                                                                                                                                                                                                                                                                                                                                                                                                                                                                                  \n",
      " Reputation     | 101                                                                                                                                                                                                                                                                                                                                                                                                                                                                                                                                                                                                                                                                                                                                                                                                                                                                                                                                                                   \n",
      " UpVotes        | 4                                                                                                                                                                                                                                                                                                                                                                                                                                                                                                                                                                                                                                                                                                                                                                                                                                                                                                                                                                     \n",
      " Views          | 1                                                                                                                                                                                                                                                                                                                                                                                                                                                                                                                                                                                                                                                                                                                                                                                                                                                                                                                                                                     \n",
      " WebsiteUrl     | https://reynolds.tj                                                                                                                                                                                                                                                                                                                                                                                                                                                                                                                                                                                                                                                                                                                                                                                                                                                                                                                                                   \n",
      "only showing top 10 rows"
     ]
    }
   ],
   "source": [
    "Users_DF_clean=Users_DF.withColumn(\"AboutMe\",f.regexp_replace(\"AboutMe\",\" +\",\" \"))\\\n",
    "                              .withColumn(\"AboutMe\",f.regexp_replace(\"AboutMe\",\"<.*?>\",\"\"))\\\n",
    "                              .withColumn(\"AboutMe\",f.regexp_replace(\"AboutMe\",\"\\n\",\"\"))\\\n",
    "                              .withColumn(\"AboutMe\",f.regexp_replace(\"AboutMe\",\"\\r\",\"\"))\n",
    "\n",
    "Users_DF_clean.show(10, vertical=True,truncate=False)"
   ]
  },
  {
   "cell_type": "markdown",
   "id": "107ebc0c",
   "metadata": {},
   "source": [
    "#### h) Votes_DF"
   ]
  },
  {
   "cell_type": "code",
   "execution_count": 44,
   "id": "c4846913",
   "metadata": {},
   "outputs": [
    {
     "data": {
      "application/vnd.jupyter.widget-view+json": {
       "model_id": "",
       "version_major": 2,
       "version_minor": 0
      },
      "text/plain": [
       "FloatProgress(value=0.0, bar_style='info', description='Progress:', layout=Layout(height='25px', width='50%'),…"
      ]
     },
     "metadata": {},
     "output_type": "display_data"
    },
    {
     "name": "stdout",
     "output_type": "stream",
     "text": [
      "0"
     ]
    }
   ],
   "source": [
    "# check if there are any deleted accounts (UserId=='-1' if user is deleted)\n",
    "Votes_DF.where(Votes_DF.UserId=='-1').count()"
   ]
  },
  {
   "cell_type": "markdown",
   "id": "2316b9f0",
   "metadata": {},
   "source": [
    "#### - replace NULL values with '0' in column BountyAmount"
   ]
  },
  {
   "cell_type": "code",
   "execution_count": 45,
   "id": "f70c3acf",
   "metadata": {},
   "outputs": [
    {
     "data": {
      "application/vnd.jupyter.widget-view+json": {
       "model_id": "",
       "version_major": 2,
       "version_minor": 0
      },
      "text/plain": [
       "FloatProgress(value=0.0, bar_style='info', description='Progress:', layout=Layout(height='25px', width='50%'),…"
      ]
     },
     "metadata": {},
     "output_type": "display_data"
    },
    {
     "name": "stdout",
     "output_type": "stream",
     "text": [
      "+------------+-------------------+---+------+------+----------+\n",
      "|BountyAmount|       CreationDate| Id|PostId|UserId|VoteTypeId|\n",
      "+------------+-------------------+---+------+------+----------+\n",
      "|           0|2016-01-12 00:00:00|  1|     1|  null|         2|\n",
      "|           0|2016-01-12 00:00:00|  2|     2|  null|         2|\n",
      "|           0|2016-01-12 00:00:00|  3|     3|  null|         2|\n",
      "|           0|2016-01-12 00:00:00|  4|     1|  null|         2|\n",
      "|           0|2016-01-12 00:00:00|  5|     2|  null|        16|\n",
      "|           0|2016-01-12 00:00:00|  6|     4|  null|         2|\n",
      "|           0|2016-01-12 00:00:00|  7|     4|  null|         2|\n",
      "|           0|2016-01-12 00:00:00|  8|     6|  null|         2|\n",
      "|           0|2016-01-12 00:00:00|  9|     2|  null|         2|\n",
      "|           0|2016-01-12 00:00:00| 10|     5|  null|         2|\n",
      "|           0|2016-01-12 00:00:00| 11|     9|  null|         2|\n",
      "|           0|2016-01-12 00:00:00| 12|     6|  null|         2|\n",
      "|           0|2016-01-12 00:00:00| 13|     6|  null|         2|\n",
      "|           0|2016-01-12 00:00:00| 14|    10|  null|         2|\n",
      "|           0|2016-01-12 00:00:00| 15|    10|  null|         2|\n",
      "|           0|2016-01-12 00:00:00| 16|     2|  null|         2|\n",
      "|           0|2016-01-12 00:00:00| 17|     9|  null|         2|\n",
      "|           0|2016-01-12 00:00:00| 18|     5|  null|         2|\n",
      "|           0|2016-01-12 00:00:00| 19|     3|  null|         2|\n",
      "|           0|2016-01-12 00:00:00| 20|     4|  null|         2|\n",
      "+------------+-------------------+---+------+------+----------+\n",
      "only showing top 20 rows"
     ]
    }
   ],
   "source": [
    "Votes_DF_clean=Votes_DF.withColumn(\"BountyAmount\",Votes_DF.BountyAmount).fillna(0, subset=\"BountyAmount\")\n",
    "Votes_DF_clean.show()"
   ]
  },
  {
   "cell_type": "markdown",
   "id": "5be51389",
   "metadata": {},
   "source": [
    "### 4. Saving data in Parquet format on S3"
   ]
  },
  {
   "cell_type": "code",
   "execution_count": 46,
   "id": "76760aa0",
   "metadata": {},
   "outputs": [
    {
     "data": {
      "application/vnd.jupyter.widget-view+json": {
       "model_id": "",
       "version_major": 2,
       "version_minor": 0
      },
      "text/plain": [
       "FloatProgress(value=0.0, bar_style='info', description='Progress:', layout=Layout(height='25px', width='50%'),…"
      ]
     },
     "metadata": {},
     "output_type": "display_data"
    }
   ],
   "source": [
    "Badges_DF.write.parquet(\"s3://bigdata-parquet-data/Badges.parquet\")\n",
    "Comments_DF_clean3.write.parquet(\"s3://bigdata-parquet-data/Comments.parquet\")\n",
    "PostHistory_DF_clean3.write.parquet(\"s3://bigdata-parquet-data/PostHistory.parquet\")\n",
    "PostLinks_DF.write.parquet(\"s3://bigdata-parquet-data/PostLinks.parquet\")\n",
    "Posts_DF_clean2.write.parquet(\"s3://bigdata-parquet-data/Posts.parquet\")\n",
    "Tags_DFclean.write.parquet(\"s3://bigdata-parquet-data/Tags.parquet\")\n",
    "Users_DF_clean.write.parquet(\"s3://bigdata-parquet-data/Users.parquet\")\n",
    "Votes_DF_clean.write.parquet(\"s3://bigdata-parquet-data/Votes.parquet\")"
   ]
  }
 ],
 "metadata": {
  "kernelspec": {
   "display_name": "PySpark",
   "language": "python",
   "name": "pysparkkernel"
  },
  "language_info": {
   "codemirror_mode": {
    "name": "python",
    "version": 3
   },
   "file_extension": ".py",
   "mimetype": "text/x-python",
   "name": "pyspark",
   "pygments_lexer": "python3"
  }
 },
 "nbformat": 4,
 "nbformat_minor": 5
}
