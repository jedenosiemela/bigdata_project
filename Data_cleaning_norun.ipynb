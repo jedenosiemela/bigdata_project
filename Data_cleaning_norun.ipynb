{
 "cells": [
  {
   "cell_type": "markdown",
   "id": "f14982b9",
   "metadata": {},
   "source": [
    "# Data processing and cleaning"
   ]
  },
  {
   "cell_type": "markdown",
   "id": "539c0cdf",
   "metadata": {},
   "source": [
    "### 1. Environment setup - initialization of Spark Session, installing libraries, and modules"
   ]
  },
  {
   "cell_type": "code",
   "execution_count": null,
   "id": "4bfd9c50",
   "metadata": {
    "scrolled": true
   },
   "outputs": [],
   "source": [
    "from pyspark.sql import SparkSession\n",
    "\n",
    "spark = SparkSession.builder \\\n",
    "    .appName('DataFrame') \\\n",
    "    .master('local[*]') \\\n",
    "    .getOrCreate()"
   ]
  },
  {
   "cell_type": "code",
   "execution_count": null,
   "id": "2850d77c",
   "metadata": {
    "scrolled": true
   },
   "outputs": [],
   "source": [
    "%%configure -f\n",
    "{\"conf\": {\n",
    "    \"spark.jars.packages\": \"com.databricks:spark-xml_2.12:0.16.0\",\n",
    "    \"spark.jars\": \"https://repo1.maven.org/maven2/com/databricks/spark-xml_2.12/0.16.0/spark-xml_2.12-0.16.0.jar\"\n",
    "    }\n",
    "}"
   ]
  },
  {
   "cell_type": "code",
   "execution_count": null,
   "id": "dc2edf5f",
   "metadata": {},
   "outputs": [],
   "source": [
    "from pyspark.sql.types import IntegerType, StringType, StructType, StructField, BooleanType, TimestampType\n",
    "import pyspark.sql.functions as f"
   ]
  },
  {
   "cell_type": "markdown",
   "id": "a61db3e2",
   "metadata": {},
   "source": [
    "### 2. Creating DataFrames and imposing data schema"
   ]
  },
  {
   "cell_type": "markdown",
   "id": "1f429bf4",
   "metadata": {},
   "source": [
    "#### a) Badges"
   ]
  },
  {
   "cell_type": "code",
   "execution_count": null,
   "id": "63f2df86",
   "metadata": {
    "scrolled": true
   },
   "outputs": [],
   "source": [
    "schema_badges = StructType([StructField(\"_Class\", IntegerType()),\\\n",
    "                            StructField(\"_Date\", TimestampType()),\\\n",
    "                            StructField(\"_Id\", IntegerType()),\\\n",
    "                            StructField(\"_Name\", StringType()),\\\n",
    "                            StructField(\"_TagBased\", BooleanType()),\\\n",
    "                            StructField(\"_UserId\", IntegerType())])\n",
    "\n",
    "Badges_df = spark.read.format(\"com.databricks.spark.xml\")\\\n",
    " .option(\"rowTag\", \"row\")\\\n",
    " .option(\"charset\", \"UTF8\")\\\n",
    " .schema(schema_badges)\\\n",
    " .option(\"treatEmptyValuesAsNulls\", \"true\")\\\n",
    " .load(\"s3://bigdata-project-data-us-east-1/Badges.xml\")\n",
    "\n",
    "Badges_df.printSchema()\n",
    "Badges_df.show(truncate=False)"
   ]
  },
  {
   "cell_type": "markdown",
   "id": "87db3cad",
   "metadata": {},
   "source": [
    "#### b) Comments"
   ]
  },
  {
   "cell_type": "code",
   "execution_count": null,
   "id": "f073ac66",
   "metadata": {
    "scrolled": true
   },
   "outputs": [],
   "source": [
    "schema_comments = StructType([StructField(\"_ContentLicense\", StringType()),\\\n",
    "                            StructField(\"_CreationDate\", TimestampType()),\\\n",
    "                            StructField(\"_Id\", IntegerType()),\\\n",
    "                            StructField(\"_PostId\", IntegerType()),\\\n",
    "                            StructField(\"_Score\", IntegerType()),\\\n",
    "                            StructField(\"_Text\", StringType()),\\\n",
    "                            StructField(\"_UserDisplayName\", StringType()),\\\n",
    "                            StructField(\"_UserId\", IntegerType())])\n",
    "\n",
    "Comments_df = spark.read.format(\"com.databricks.spark.xml\")\\\n",
    " .option(\"rowTag\", \"row\")\\\n",
    " .option(\"charset\", \"UTF8\")\\\n",
    " .schema(schema_comments)\\\n",
    " .option(\"treatEmptyValuesAsNulls\", \"true\")\\\n",
    " .load(\"s3://bigdata-project-data-us-east-1/Comments.xml\")\n",
    "\n",
    "Comments_df.printSchema()\n",
    "Comments_df.show(3, vertical=True, truncate=False)"
   ]
  },
  {
   "cell_type": "markdown",
   "id": "bdc42f02",
   "metadata": {},
   "source": [
    "#### c) PostHistory"
   ]
  },
  {
   "cell_type": "code",
   "execution_count": null,
   "id": "14f872e4",
   "metadata": {
    "scrolled": true
   },
   "outputs": [],
   "source": [
    "schema_posthistory = StructType([StructField(\"_Comment\", StringType()),\\\n",
    "                            StructField(\"_ContentLicense\", StringType()),\\\n",
    "                            StructField(\"_CreationDate\", TimestampType()),\\\n",
    "                            StructField(\"_Id\", IntegerType()),\\\n",
    "                            StructField(\"_PostHistoryTypeId\", IntegerType()),\\\n",
    "                            StructField(\"_PostId\", IntegerType()),\\\n",
    "                            StructField(\"_RevisionGUID\", StringType()),\\\n",
    "                            StructField(\"_Text\", StringType()),\\\n",
    "                            StructField(\"_UserDisplayName\", StringType()),\\\n",
    "                            StructField(\"_UserId\", IntegerType())])\n",
    "\n",
    "PostHistory_df = spark.read.format(\"com.databricks.spark.xml\")\\\n",
    " .option(\"rowTag\", \"row\")\\\n",
    " .option(\"charset\", \"UTF8\")\\\n",
    " .schema(schema_posthistory)\\\n",
    " .option(\"treatEmptyValuesAsNulls\", \"true\")\\\n",
    " .load(\"s3://bigdata-project-data-us-east-1/PostHistory.xml\")\n",
    "\n",
    "PostHistory_df.printSchema()\n",
    "PostHistory_df.show(3, vertical=True)"
   ]
  },
  {
   "cell_type": "markdown",
   "id": "308ba7b3",
   "metadata": {},
   "source": [
    "#### d) PostLinks"
   ]
  },
  {
   "cell_type": "code",
   "execution_count": null,
   "id": "ad369f5e",
   "metadata": {
    "scrolled": true
   },
   "outputs": [],
   "source": [
    "schema_postlinks = StructType([StructField(\"_CreationDate\", TimestampType()),\\\n",
    "                            StructField(\"_Id\", IntegerType()),\\\n",
    "                            StructField(\"_LinkTypeId\", IntegerType()),\\\n",
    "                            StructField(\"_PostId\", IntegerType()),\\\n",
    "                            StructField(\"_RelatedPostId\", IntegerType())])\n",
    "\n",
    "PostLinks_df = spark.read.format(\"com.databricks.spark.xml\")\\\n",
    " .option(\"rowTag\", \"row\")\\\n",
    " .option(\"charset\", \"UTF8\")\\\n",
    " .schema(schema_postlinks)\\\n",
    " .option(\"treatEmptyValuesAsNulls\", \"true\")\\\n",
    " .load(\"s3://bigdata-project-data-us-east-1/PostLinks.xml\")\n",
    "\n",
    "PostLinks_df.printSchema()\n",
    "PostLinks_df.show(3, vertical=True, truncate=False)"
   ]
  },
  {
   "cell_type": "markdown",
   "id": "f14c520b",
   "metadata": {},
   "source": [
    "#### e) Posts"
   ]
  },
  {
   "cell_type": "code",
   "execution_count": null,
   "id": "dd18abc7",
   "metadata": {},
   "outputs": [],
   "source": [
    "schema_posts = StructType([StructField(\"_AcceptedAnswerId\", IntegerType()),\\\n",
    "                            StructField(\"_AnswerCount\", IntegerType()),\\\n",
    "                            StructField(\"_Body\", StringType()),\\\n",
    "                            StructField(\"_ClosedDate\", TimestampType()),\\\n",
    "                            StructField(\"_CommentCount\", IntegerType()),\\\n",
    "                            StructField(\"_CommunityOwnedDate\", TimestampType()),\\\n",
    "                            StructField(\"_ContentLicense\", StringType()),\\\n",
    "                            StructField(\"_CreationDate\", TimestampType()),\\\n",
    "                            StructField(\"_FavoriteCount\", IntegerType()),\\\n",
    "                            StructField(\"_Id\", IntegerType()),\\\n",
    "                            StructField(\"_LastActivityDate\", TimestampType()),\\\n",
    "                            StructField(\"_LastEditDate\", TimestampType()),\\\n",
    "                            StructField(\"_LastEditorDisplayName\", StringType()), \n",
    "                            StructField(\"_LastEditorUserId\", IntegerType()),\\\n",
    "                            StructField(\"_OwnerDisplayName\", StringType()),\\\n",
    "                            StructField(\"_OwnerUserId\", IntegerType()),\\\n",
    "                            StructField(\"_ParentId\", IntegerType()),\\\n",
    "                            StructField(\"_PostTypeId\", IntegerType()),\\\n",
    "                            StructField(\"_Score\", IntegerType()),\\\n",
    "                            StructField(\"_Tags\", StringType()),\\\n",
    "                            StructField(\"_Title\", StringType()),\\\n",
    "                            StructField(\"_ViewCount\", IntegerType())])\n",
    "\n",
    "Posts_df = spark.read.format(\"com.databricks.spark.xml\")\\\n",
    " .option(\"rowTag\", \"row\")\\\n",
    " .option(\"charset\", \"UTF8\")\\\n",
    " .schema(schema_posts)\\\n",
    " .option(\"treatEmptyValuesAsNulls\", \"true\")\\\n",
    " .load(\"s3://bigdata-project-data-us-east-1/Posts.xml\")\n",
    "\n",
    "Posts_df.printSchema()\n",
    "Posts_df.show(3, vertical=True, truncate=False)"
   ]
  },
  {
   "cell_type": "markdown",
   "id": "81ffe117",
   "metadata": {},
   "source": [
    "#### f) Tags"
   ]
  },
  {
   "cell_type": "code",
   "execution_count": null,
   "id": "53930912",
   "metadata": {
    "scrolled": true
   },
   "outputs": [],
   "source": [
    "schema_tags = StructType([StructField(\"_Count\", IntegerType()),\\\n",
    "                            StructField(\"_ExcerptPostId\", IntegerType()),\\\n",
    "                            StructField(\"_CreationDate\", TimestampType()),\\\n",
    "                            StructField(\"_Id\", IntegerType()),\\\n",
    "                            StructField(\"_TagName\", StringType()),\\\n",
    "                            StructField(\"_WikiPostId\", IntegerType())])\n",
    "\n",
    "Tags_df = spark.read.format(\"com.databricks.spark.xml\")\\\n",
    " .option(\"rowTag\", \"row\")\\\n",
    " .option(\"charset\", \"UTF8\")\\\n",
    " .schema(schema_tags)\\\n",
    " .option(\"treatEmptyValuesAsNulls\", \"true\")\\\n",
    " .load(\"s3://bigdata-project-data-us-east-1/Tags.xml\")\n",
    "\n",
    "Tags_df.printSchema()\n",
    "Tags_df.show(3, vertical=True)"
   ]
  },
  {
   "cell_type": "markdown",
   "id": "d45ef535",
   "metadata": {},
   "source": [
    "#### g) Users "
   ]
  },
  {
   "cell_type": "code",
   "execution_count": null,
   "id": "9ee6d3f7",
   "metadata": {
    "scrolled": true
   },
   "outputs": [],
   "source": [
    "schema_users = StructType([StructField(\"_AboutMe\", StringType()),\\\n",
    "                            StructField(\"_AccountId\", IntegerType()),\\\n",
    "                            StructField(\"_CreationDate\", TimestampType()),\\\n",
    "                            StructField(\"_DisplayName\", StringType()),\\\n",
    "                            StructField(\"_DownVotes\", IntegerType()),\\\n",
    "                            StructField(\"_Id\", IntegerType()),\\\n",
    "                            StructField(\"_LastAccessDate\", TimestampType()),\\\n",
    "                            StructField(\"_Location\", StringType()),\\\n",
    "                            StructField(\"_Reputation\", IntegerType()),\\\n",
    "                            StructField(\"_UpVotes\", IntegerType()),\\\n",
    "                            StructField(\"_Views\", IntegerType()),\\\n",
    "                            StructField(\"_WebsiteUrl\", StringType())])\n",
    "\n",
    "Users_df = spark.read.format(\"com.databricks.spark.xml\")\\\n",
    " .option(\"rowTag\", \"row\")\\\n",
    " .option(\"charset\", \"UTF8\")\\\n",
    " .schema(schema_users)\\\n",
    " .option(\"treatEmptyValuesAsNulls\", \"true\")\\\n",
    " .load(\"s3://bigdata-project-data-us-east-1/Users.xml\")\n",
    "\n",
    "Users_df.printSchema()\n",
    "Users_df.show(3, vertical=True)"
   ]
  },
  {
   "cell_type": "markdown",
   "id": "3ceadafd",
   "metadata": {},
   "source": [
    "#### h) Votes"
   ]
  },
  {
   "cell_type": "code",
   "execution_count": null,
   "id": "8dd2fad3",
   "metadata": {
    "scrolled": true
   },
   "outputs": [],
   "source": [
    "schema_votes = StructType([StructField(\"_BountyAmount\", IntegerType()),\\\n",
    "                            StructField(\"_CreationDate\", TimestampType()),\\\n",
    "                            StructField(\"_Id\", IntegerType()),\\\n",
    "                            StructField(\"_PostId\", IntegerType()),\\\n",
    "                            StructField(\"_UserId\", IntegerType()),\\\n",
    "                            StructField(\"_VoteTypeId\", IntegerType())])\n",
    "\n",
    "Votes_df = spark.read.format(\"com.databricks.spark.xml\")\\\n",
    " .option(\"rowTag\", \"row\")\\\n",
    " .option(\"charset\", \"UTF8\")\\\n",
    " .schema(schema_votes)\\\n",
    " .option(\"treatEmptyValuesAsNulls\", \"true\")\\\n",
    " .load(\"s3://bigdata-project-data-us-east-1/Votes.xml\")\n",
    "\n",
    "Votes_df.printSchema()\n",
    "Votes_df.show(3, vertical=True)"
   ]
  },
  {
   "cell_type": "markdown",
   "id": "5ca8b7d4",
   "metadata": {},
   "source": [
    "### 3. Data cleaning"
   ]
  },
  {
   "cell_type": "markdown",
   "id": "c8645404",
   "metadata": {},
   "source": [
    "#### 3.1. Clean column names"
   ]
  },
  {
   "cell_type": "markdown",
   "id": "cde34efe",
   "metadata": {},
   "source": [
    "#### a) Badges"
   ]
  },
  {
   "cell_type": "code",
   "execution_count": null,
   "id": "76e83767",
   "metadata": {},
   "outputs": [],
   "source": [
    "Badges_DF = Badges_df.select([f.col(colnames).alias(colnames.replace('_', '')) for colnames in Badges_df.columns])\n",
    "Badges_DF.show()"
   ]
  },
  {
   "cell_type": "markdown",
   "id": "192f16a6",
   "metadata": {},
   "source": [
    "#### b) Comments"
   ]
  },
  {
   "cell_type": "code",
   "execution_count": null,
   "id": "fe086520",
   "metadata": {
    "scrolled": true
   },
   "outputs": [],
   "source": [
    "Comments_DF = Comments_df.select([f.col(colnames).alias(colnames.replace('_', '')) for colnames in Comments_df.columns])\n",
    "Comments_DF.show()"
   ]
  },
  {
   "cell_type": "markdown",
   "id": "4a6ae811",
   "metadata": {},
   "source": [
    "#### c) PostHistory"
   ]
  },
  {
   "cell_type": "code",
   "execution_count": null,
   "id": "95d4fc30",
   "metadata": {
    "scrolled": true
   },
   "outputs": [],
   "source": [
    "PostHistory_DF = PostHistory_df.select([f.col(colnames).alias(colnames.replace('_', '')) for colnames in PostHistory_df.columns])\n",
    "PostHistory_DF.show(3, vertical=True)"
   ]
  },
  {
   "cell_type": "markdown",
   "id": "be43d25f",
   "metadata": {},
   "source": [
    "#### d) PostLinks"
   ]
  },
  {
   "cell_type": "code",
   "execution_count": null,
   "id": "f9c949b7",
   "metadata": {
    "scrolled": true
   },
   "outputs": [],
   "source": [
    "PostLinks_DF = PostLinks_df.select([f.col(colnames).alias(colnames.replace('_', '')) for colnames in PostLinks_df.columns])\n",
    "PostLinks_DF.show(truncate=False)"
   ]
  },
  {
   "cell_type": "markdown",
   "id": "3479dac6",
   "metadata": {},
   "source": [
    "#### e) Posts"
   ]
  },
  {
   "cell_type": "code",
   "execution_count": null,
   "id": "bd37933f",
   "metadata": {
    "scrolled": true
   },
   "outputs": [],
   "source": [
    "Posts_DF = Posts_df.select([f.col(colnames).alias(colnames.replace('_', '')) for colnames in Posts_df.columns])\n",
    "Posts_DF.show(3, vertical=True, truncate=False)"
   ]
  },
  {
   "cell_type": "markdown",
   "id": "99bcc3df",
   "metadata": {},
   "source": [
    "#### f) Tags"
   ]
  },
  {
   "cell_type": "code",
   "execution_count": null,
   "id": "5ebdcb14",
   "metadata": {
    "scrolled": true
   },
   "outputs": [],
   "source": [
    "Tags_DF = Tags_df.select([f.col(colnames).alias(colnames.replace('_', '')) for colnames in Tags_df.columns])\n",
    "Tags_DF.show()"
   ]
  },
  {
   "cell_type": "markdown",
   "id": "991b0941",
   "metadata": {},
   "source": [
    "#### g) Users"
   ]
  },
  {
   "cell_type": "code",
   "execution_count": null,
   "id": "b42f761e",
   "metadata": {
    "scrolled": false
   },
   "outputs": [],
   "source": [
    "Users_DF = Users_df.select([f.col(colnames).alias(colnames.replace('_', '')) for colnames in Users_df.columns])\n",
    "Users_DF.show(3, vertical=True,truncate=False)"
   ]
  },
  {
   "cell_type": "markdown",
   "id": "456e1bd9",
   "metadata": {},
   "source": [
    "#### h) Votes"
   ]
  },
  {
   "cell_type": "code",
   "execution_count": null,
   "id": "e3fa6d51",
   "metadata": {
    "scrolled": true
   },
   "outputs": [],
   "source": [
    "Votes_DF = Votes_df.select([f.col(colnames).alias(colnames.replace('_', '')) for colnames in Votes_df.columns])\n",
    "Votes_DF.show()"
   ]
  },
  {
   "cell_type": "markdown",
   "id": "e443c05d",
   "metadata": {},
   "source": [
    "#### 3.2. Clean text columns"
   ]
  },
  {
   "cell_type": "markdown",
   "id": "6a654e4b",
   "metadata": {},
   "source": [
    "#### a) Badges_DF - no cleaning needed"
   ]
  },
  {
   "cell_type": "markdown",
   "id": "4a1b55e9",
   "metadata": {},
   "source": [
    "#### b) Comments_DF"
   ]
  },
  {
   "cell_type": "markdown",
   "id": "1819dd04",
   "metadata": {},
   "source": [
    "##### - clean text columns from multiple spaces, special characters, newline characters etc."
   ]
  },
  {
   "cell_type": "code",
   "execution_count": null,
   "id": "941e2aca",
   "metadata": {},
   "outputs": [],
   "source": [
    "# remove or replace multiple blank spaces, newline, carriage return and special characters \n",
    "\n",
    "Comments_DF_clean = Comments_DF.withColumn(\"Text\",f.regexp_replace(\"Text\",\" +\",\" \"))"
   ]
  },
  {
   "cell_type": "code",
   "execution_count": null,
   "id": "73e6541e",
   "metadata": {
    "scrolled": true
   },
   "outputs": [],
   "source": [
    "# count records with multiple blank spaces after cleaning\n",
    "\n",
    "Comments_DF_clean.where(Comments_DF_clean.Text.like(\"%  %\")).count()"
   ]
  },
  {
   "cell_type": "code",
   "execution_count": null,
   "id": "88d0cdd6",
   "metadata": {
    "scrolled": true
   },
   "outputs": [],
   "source": [
    "Comments_DF_clean.show(3, vertical=True,truncate=False)"
   ]
  },
  {
   "cell_type": "markdown",
   "id": "e95c5ea7",
   "metadata": {},
   "source": [
    "#### - removing unnecesarry columns and records with NULL values in crucial columns"
   ]
  },
  {
   "cell_type": "code",
   "execution_count": null,
   "id": "b19da405",
   "metadata": {},
   "outputs": [],
   "source": [
    "# remove rows where UserId has NULL values\n",
    "\n",
    "Comments_DF_clean2=Comments_DF_clean.dropna(subset=\"UserId\")"
   ]
  },
  {
   "cell_type": "code",
   "execution_count": null,
   "id": "5b5c2962",
   "metadata": {},
   "outputs": [],
   "source": [
    "# remove column UserDisplayName\n",
    "Comments_DF_clean3=Comments_DF_clean2.drop(\"UserDisplayName\")"
   ]
  },
  {
   "cell_type": "code",
   "execution_count": null,
   "id": "c41d26d5",
   "metadata": {},
   "outputs": [],
   "source": [
    "Comments_DF_clean3.show()"
   ]
  },
  {
   "cell_type": "markdown",
   "id": "c5d13f79",
   "metadata": {},
   "source": [
    "#### c) PostHistory_DF"
   ]
  },
  {
   "cell_type": "markdown",
   "id": "4d69ce91",
   "metadata": {},
   "source": [
    "##### - clean text columns from multiple spaces, special characters, newline characters etc."
   ]
  },
  {
   "cell_type": "code",
   "execution_count": null,
   "id": "4d0b7300",
   "metadata": {},
   "outputs": [],
   "source": [
    "# count records with multiple blank spaces\n",
    "\n",
    "PostHistory_DF.where(PostHistory_DF.Text.like(\"%  %\")).count()"
   ]
  },
  {
   "cell_type": "code",
   "execution_count": null,
   "id": "8fa2098d",
   "metadata": {},
   "outputs": [],
   "source": [
    "# remove newline characters, carriage return characters and replace multiple blank spaces with just one space\n",
    "\n",
    "PostHistory_DF_clean = PostHistory_DF.withColumn(\"Text\",f.regexp_replace(\"Text\",\" +\",\" \"))"
   ]
  },
  {
   "cell_type": "code",
   "execution_count": null,
   "id": "886d4a7e",
   "metadata": {},
   "outputs": [],
   "source": [
    "# count records with multiple blank spaces after cleaning\n",
    "\n",
    "PostHistory_DF_clean.where(PostHistory_DF_clean.Text.like(\"%  %\")).count()"
   ]
  },
  {
   "cell_type": "markdown",
   "id": "8f929c79",
   "metadata": {},
   "source": [
    "#### -removing unnecesarry columns and records with NULL values in crucial columns"
   ]
  },
  {
   "cell_type": "code",
   "execution_count": null,
   "id": "8c2d4f15",
   "metadata": {
    "scrolled": true
   },
   "outputs": [],
   "source": [
    "PostHistory_DF_clean2=PostHistory_DF_clean.dropna(subset=\"UserId\")\n",
    "PostHistory_DF_clean3=PostHistory_DF_clean2.drop(\"UserDisplayName\")\n",
    "PostHistory_DF_clean3.show(3,vertical=True,truncate=False)"
   ]
  },
  {
   "cell_type": "markdown",
   "id": "72568b3f",
   "metadata": {},
   "source": [
    "#### d) PostLinks_DF - no cleaning needed"
   ]
  },
  {
   "cell_type": "code",
   "execution_count": null,
   "id": "d93a0bdd",
   "metadata": {},
   "outputs": [],
   "source": [
    "# check on NULL values \n",
    "\n",
    "PostLinks_DF.where(PostLinks_DF.CreationDate.isNull()).count()"
   ]
  },
  {
   "cell_type": "code",
   "execution_count": null,
   "id": "c98e6bbc",
   "metadata": {},
   "outputs": [],
   "source": [
    "PostLinks_DF.where(PostLinks_DF.Id.isNull()).count()"
   ]
  },
  {
   "cell_type": "code",
   "execution_count": null,
   "id": "c93f97b5",
   "metadata": {},
   "outputs": [],
   "source": [
    "PostLinks_DF.where(PostLinks_DF.LinkTypeId.isNull()).count()"
   ]
  },
  {
   "cell_type": "code",
   "execution_count": null,
   "id": "b464290c",
   "metadata": {},
   "outputs": [],
   "source": [
    "PostLinks_DF.where(PostLinks_DF.PostId.isNull()).count()"
   ]
  },
  {
   "cell_type": "code",
   "execution_count": null,
   "id": "4e864daf",
   "metadata": {},
   "outputs": [],
   "source": [
    "PostLinks_DF.where(PostLinks_DF.PostId.isNull()).count()"
   ]
  },
  {
   "cell_type": "code",
   "execution_count": null,
   "id": "b4c3a35f",
   "metadata": {},
   "outputs": [],
   "source": [
    "PostLinks_DF.where(PostLinks_DF.RelatedPostId.isNull()).count()"
   ]
  },
  {
   "cell_type": "markdown",
   "id": "02d84116",
   "metadata": {},
   "source": [
    "#### e) Posts_DF "
   ]
  },
  {
   "cell_type": "markdown",
   "id": "48361aa2",
   "metadata": {},
   "source": [
    "#### - remove \"<\" and \">\" and replace \"><\" with \",\""
   ]
  },
  {
   "cell_type": "code",
   "execution_count": null,
   "id": "702eae16",
   "metadata": {},
   "outputs": [],
   "source": [
    "Posts_DF_clean=Posts_DF.withColumn(\"Tags\",f.regexp_replace(\"Tags\",\"><\",\",\")) \\\n",
    "                       .withColumn(\"Tags\",f.regexp_replace(\"Tags\",\"^<\",\"\")) \\\n",
    "                       .withColumn(\"Tags\",f.regexp_replace(\"Tags\",\">$\",\"\"))"
   ]
  },
  {
   "cell_type": "markdown",
   "id": "7f1846e6",
   "metadata": {},
   "source": [
    "#### - replace multiple blank spaces with just one space, remove newline and special characters "
   ]
  },
  {
   "cell_type": "code",
   "execution_count": null,
   "id": "1bb422b2",
   "metadata": {},
   "outputs": [],
   "source": [
    "Posts_DF_clean2=Posts_DF_clean.withColumn(\"Body\",f.regexp_replace(\"Body\",\" +\",\" \"))\\\n",
    "                              .withColumn(\"Body\",f.regexp_replace(\"Body\",\"<.*?>\",\"\"))\\\n",
    "                              .withColumn(\"Body\",f.regexp_replace(\"Body\",\"\\n\",\"\"))\\\n",
    "                              .withColumn(\"Title\",f.regexp_replace(\"Title\",\" +\",\" \"))\\\n",
    "                              .withColumn(\"Title\",f.regexp_replace(\"Title\",\"<.*?>\",\"\"))\\\n",
    "                              .withColumn(\"Title\",f.regexp_replace(\"Title\",\"\\n\",\"\"))"
   ]
  },
  {
   "cell_type": "code",
   "execution_count": null,
   "id": "1a4dfd23",
   "metadata": {},
   "outputs": [],
   "source": [
    "Posts_DF_clean2.show(10, vertical=True,truncate=False)"
   ]
  },
  {
   "cell_type": "markdown",
   "id": "d1756bba",
   "metadata": {},
   "source": [
    "#### f) Tags_DF"
   ]
  },
  {
   "cell_type": "code",
   "execution_count": null,
   "id": "2f22a8b7",
   "metadata": {},
   "outputs": [],
   "source": [
    "# checking on NULL values"
   ]
  },
  {
   "cell_type": "code",
   "execution_count": null,
   "id": "1d3752b3",
   "metadata": {},
   "outputs": [],
   "source": [
    "# count all rows\n",
    "\n",
    "Tags_DF.count()"
   ]
  },
  {
   "cell_type": "code",
   "execution_count": null,
   "id": "10c3ea9e",
   "metadata": {},
   "outputs": [],
   "source": [
    "# count all rows with CreationDate NULL values\n",
    "\n",
    "Tags_DF.where(Tags_DF.CreationDate.isNull()).count()"
   ]
  },
  {
   "cell_type": "code",
   "execution_count": null,
   "id": "2948ef35",
   "metadata": {},
   "outputs": [],
   "source": [
    "# remove column CreationDate\n",
    "\n",
    "Tags_DFclean=Tags_DF.drop(\"CreationDate\")\n",
    "Tags_DFclean.show()"
   ]
  },
  {
   "cell_type": "markdown",
   "id": "8d94ca7d",
   "metadata": {},
   "source": [
    "#### g) Users_DF"
   ]
  },
  {
   "cell_type": "markdown",
   "id": "24482abf",
   "metadata": {},
   "source": [
    "#### - replace multiple blank spaces with just one space, remove newline and special characters"
   ]
  },
  {
   "cell_type": "code",
   "execution_count": null,
   "id": "6c3d72e4",
   "metadata": {},
   "outputs": [],
   "source": [
    "Users_DF_clean=Users_DF.withColumn(\"AboutMe\",f.regexp_replace(\"AboutMe\",\" +\",\" \"))\\\n",
    "                              .withColumn(\"AboutMe\",f.regexp_replace(\"AboutMe\",\"<.*?>\",\"\"))\\\n",
    "                              .withColumn(\"AboutMe\",f.regexp_replace(\"AboutMe\",\"\\n\",\"\"))\\\n",
    "                              .withColumn(\"AboutMe\",f.regexp_replace(\"AboutMe\",\"\\r\",\"\"))\n",
    "\n",
    "Users_DF_clean.show(10, vertical=True,truncate=False)"
   ]
  },
  {
   "cell_type": "markdown",
   "id": "107ebc0c",
   "metadata": {},
   "source": [
    "#### h) Votes_DF"
   ]
  },
  {
   "cell_type": "code",
   "execution_count": null,
   "id": "c4846913",
   "metadata": {},
   "outputs": [],
   "source": [
    "# check if there are any deleted accounts (UserId=='-1' if user is deleted)\n",
    "Votes_DF.where(Votes_DF.UserId=='-1').count()"
   ]
  },
  {
   "cell_type": "markdown",
   "id": "2316b9f0",
   "metadata": {},
   "source": [
    "#### - replace NULL values with '0' in column BountyAmount"
   ]
  },
  {
   "cell_type": "code",
   "execution_count": null,
   "id": "f70c3acf",
   "metadata": {},
   "outputs": [],
   "source": [
    "Votes_DF_clean=Votes_DF.withColumn(\"BountyAmount\",Votes_DF.BountyAmount).fillna(0, subset=\"BountyAmount\")\n",
    "Votes_DF_clean.show()"
   ]
  },
  {
   "cell_type": "markdown",
   "id": "5be51389",
   "metadata": {},
   "source": [
    "### 4. Saving data in Parquet format on S3"
   ]
  },
  {
   "cell_type": "code",
   "execution_count": null,
   "id": "76760aa0",
   "metadata": {},
   "outputs": [],
   "source": [
    "Badges_DF.write.parquet(\"s3://bigdata-parquet-data/Badges.parquet\")\n",
    "Comments_DF_clean3.write.parquet(\"s3://bigdata-parquet-data/Comments.parquet\")\n",
    "PostHistory_DF_clean3.write.parquet(\"s3://bigdata-parquet-data/PostHistory.parquet\")\n",
    "PostLinks_DF.write.parquet(\"s3://bigdata-parquet-data/PostLinks.parquet\")\n",
    "Posts_DF_clean2.write.parquet(\"s3://bigdata-parquet-data/Posts.parquet\")\n",
    "Tags_DFclean.write.parquet(\"s3://bigdata-parquet-data/Tags.parquet\")\n",
    "Users_DF_clean.write.parquet(\"s3://bigdata-parquet-data/Users.parquet\")\n",
    "Votes_DF_clean.write.parquet(\"s3://bigdata-parquet-data/Votes.parquet\")"
   ]
  }
 ],
 "metadata": {
  "kernelspec": {
   "display_name": "PySpark",
   "language": "python",
   "name": "pysparkkernel"
  },
  "language_info": {
   "codemirror_mode": {
    "name": "python",
    "version": 3
   },
   "file_extension": ".py",
   "mimetype": "text/x-python",
   "name": "pyspark",
   "pygments_lexer": "python3"
  }
 },
 "nbformat": 4,
 "nbformat_minor": 5
}
