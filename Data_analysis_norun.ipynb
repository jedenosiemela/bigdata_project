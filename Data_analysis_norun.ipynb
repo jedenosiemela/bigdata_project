{
 "cells": [
  {
   "cell_type": "markdown",
   "id": "bcd01040",
   "metadata": {},
   "source": [
    "# Data analysis and visualization"
   ]
  },
  {
   "cell_type": "markdown",
   "id": "a3453d5d",
   "metadata": {},
   "source": [
    "### 1. Environment setup - initialization of Spark Session, installing libraries, and modules"
   ]
  },
  {
   "cell_type": "code",
   "execution_count": null,
   "id": "e0a18d2c",
   "metadata": {
    "scrolled": true
   },
   "outputs": [],
   "source": [
    "from pyspark.sql import SparkSession\n",
    "\n",
    "spark = SparkSession.builder \\\n",
    "    .appName('DataFrame') \\\n",
    "    .master('local[*]') \\\n",
    "    .getOrCreate()"
   ]
  },
  {
   "cell_type": "code",
   "execution_count": null,
   "id": "31e208c8",
   "metadata": {
    "scrolled": false
   },
   "outputs": [],
   "source": [
    "%%configure -f\n",
    "{\n",
    "    \"conf\": {\n",
    "        \"spark.pyspark.python\": \"python3\",\n",
    "        \"spark.pyspark.virtualenv.enabled\": \"true\",\n",
    "        \"spark.pyspark.virtualenv.type\":\"native\",\n",
    "        \"spark.pyspark.virtualenv.bin.path\":\"/usr/bin/virtualenv\"\n",
    "    }\n",
    "}"
   ]
  },
  {
   "cell_type": "code",
   "execution_count": null,
   "id": "4c2dcb30",
   "metadata": {},
   "outputs": [],
   "source": [
    "sc.install_pypi_package(\"pandas==1.0.5\")\n",
    "sc.install_pypi_package(\"matplotlib\")"
   ]
  },
  {
   "cell_type": "code",
   "execution_count": null,
   "id": "c325803a",
   "metadata": {
    "scrolled": true
   },
   "outputs": [],
   "source": [
    "# list installed packages\n",
    "\n",
    "sc.list_packages()"
   ]
  },
  {
   "cell_type": "code",
   "execution_count": null,
   "id": "777fd8f3",
   "metadata": {},
   "outputs": [],
   "source": [
    "from pyspark.sql import Row\n",
    "import pyspark.sql.functions as f\n",
    "from pyspark.sql import Window\n",
    "from pyspark.sql.functions import year\n",
    "import matplotlib.pyplot as plt\n",
    "from pyspark.ml.feature import StopWordsRemover\n",
    "from pyspark.sql.functions import concat_ws"
   ]
  },
  {
   "cell_type": "markdown",
   "id": "23138282",
   "metadata": {},
   "source": [
    "### 2. Read Parquet files into DataFrames"
   ]
  },
  {
   "cell_type": "code",
   "execution_count": null,
   "id": "6ead2be7",
   "metadata": {
    "scrolled": false
   },
   "outputs": [],
   "source": [
    "Badges_DF = spark.read.parquet(\"s3://bigdata-parquet-data/Badges.parquet/\")"
   ]
  },
  {
   "cell_type": "code",
   "execution_count": null,
   "id": "91905069",
   "metadata": {},
   "outputs": [],
   "source": [
    "Comments_DF = spark.read.parquet(\"s3://bigdata-parquet-data/Comments.parquet/\")"
   ]
  },
  {
   "cell_type": "code",
   "execution_count": null,
   "id": "740ea3b8",
   "metadata": {},
   "outputs": [],
   "source": [
    "PostHistory_DF = spark.read.parquet(\"s3://bigdata-parquet-data/PostHistory.parquet/\")"
   ]
  },
  {
   "cell_type": "code",
   "execution_count": null,
   "id": "2980f4a9",
   "metadata": {},
   "outputs": [],
   "source": [
    "PostLinks_DF = spark.read.parquet(\"s3://bigdata-parquet-data/PostLinks.parquet/\")"
   ]
  },
  {
   "cell_type": "code",
   "execution_count": null,
   "id": "c2d40fa8",
   "metadata": {},
   "outputs": [],
   "source": [
    "Posts_DF = spark.read.parquet(\"s3://bigdata-parquet-data/Posts.parquet/\")"
   ]
  },
  {
   "cell_type": "code",
   "execution_count": null,
   "id": "7bf341ca",
   "metadata": {},
   "outputs": [],
   "source": [
    "Tags_DF = spark.read.parquet(\"s3://bigdata-parquet-data/Tags.parquet/\")"
   ]
  },
  {
   "cell_type": "code",
   "execution_count": null,
   "id": "8d7fefb3",
   "metadata": {},
   "outputs": [],
   "source": [
    "Users_DF = spark.read.parquet(\"s3://bigdata-parquet-data/Users.parquet/\")"
   ]
  },
  {
   "cell_type": "code",
   "execution_count": null,
   "id": "4266470d",
   "metadata": {},
   "outputs": [],
   "source": [
    "Votes_DF = spark.read.parquet(\"s3://bigdata-parquet-data/Votes.parquet/\")"
   ]
  },
  {
   "cell_type": "markdown",
   "id": "a55196d1",
   "metadata": {},
   "source": [
    "### 3. Analysis"
   ]
  },
  {
   "cell_type": "markdown",
   "id": "0a0df3d8",
   "metadata": {},
   "source": [
    "### a) number of posts over time"
   ]
  },
  {
   "cell_type": "code",
   "execution_count": null,
   "id": "beca5048",
   "metadata": {},
   "outputs": [],
   "source": [
    "# check first post creation date\n",
    "\n",
    "Posts_DF.select(\"CreationDate\").orderBy(\"CreationDate\").show(1,truncate=False)"
   ]
  },
  {
   "cell_type": "code",
   "execution_count": null,
   "id": "2423a21e",
   "metadata": {},
   "outputs": [],
   "source": [
    "# check last post creation date\n",
    "\n",
    "Posts_DF.select(\"CreationDate\").orderBy(Posts_DF.CreationDate.desc()).show(1,truncate=False)"
   ]
  },
  {
   "cell_type": "code",
   "execution_count": null,
   "id": "ec8c1cd3",
   "metadata": {
    "scrolled": true
   },
   "outputs": [],
   "source": [
    "# add new column 'CreationYear' do Posts_DF DataFrame\n",
    "\n",
    "Posts_DF2 = Posts_DF.withColumn(\"CreationYear\",year(Posts_DF.CreationDate))\n",
    "Posts_DF2.show(2,vertical=True,truncate=False)"
   ]
  },
  {
   "cell_type": "code",
   "execution_count": null,
   "id": "c3766db6",
   "metadata": {},
   "outputs": [],
   "source": [
    "# create lineplot no.1\n",
    "\n",
    "posts_count_over_time = Posts_DF2.groupBy(\"CreationYear\").count().orderBy(\"CreationYear\").toPandas()\n",
    "\n",
    "plt.clf()\n",
    "posts_count_over_time.plot(kind=\"area\",x=\"CreationYear\",y=\"count\", rot=70, color=\"c\", legend=None, figsize=(6,4))\n",
    "plt.xticks(posts_count_over_time.CreationYear)\n",
    "plt.xlim(2016, 2023)\n",
    "plt.title(\"Number of posts across time\")\n",
    "plt.xlabel(\"CreationYear\")\n",
    "plt.ylabel(\"Number of posts\")\n",
    "plt.tight_layout()\n",
    "\n",
    "%matplot plt"
   ]
  },
  {
   "cell_type": "code",
   "execution_count": null,
   "id": "bc3e5457",
   "metadata": {},
   "outputs": [],
   "source": [
    "# create lineplot no.2\n",
    "\n",
    "posts_count_over_time = Posts_DF2.groupBy(\"CreationYear\").count().orderBy(\"CreationYear\").toPandas()\n",
    "\n",
    "plt.figure(figsize=(6,4))\n",
    "plt.plot(posts_count_over_time[\"CreationYear\"], posts_count_over_time[\"count\"], color=\"c\", marker='o')\n",
    "plt.xlabel(\"CreationYear\")\n",
    "plt.ylabel(\"Number of posts\")\n",
    "plt.title(\"Number of posts across time\")\n",
    "plt.xticks(rotation=45)\n",
    "plt.tight_layout()\n",
    "plt.show()\n",
    "\n",
    "%matplot plt"
   ]
  },
  {
   "cell_type": "code",
   "execution_count": null,
   "id": "e04fcd48",
   "metadata": {},
   "outputs": [],
   "source": [
    "# count posts in each year\n",
    "\n",
    "Posts_DF2.groupBy(\"CreationYear\").count().orderBy(\"CreationYear\").show()"
   ]
  },
  {
   "cell_type": "markdown",
   "id": "0b90fd20",
   "metadata": {},
   "source": [
    "### b) forum time of 10 longest active users (from the user's creation to the last post/comment), excluding bots"
   ]
  },
  {
   "cell_type": "markdown",
   "id": "c7bcb84f",
   "metadata": {},
   "source": [
    "#### - bots detection "
   ]
  },
  {
   "cell_type": "code",
   "execution_count": null,
   "id": "54061295",
   "metadata": {},
   "outputs": [],
   "source": [
    "# check AccountId's\n",
    "\n",
    "Users_DF.select(\"AccountId\").distinct().orderBy(f.asc(\"AccountId\")).show()"
   ]
  },
  {
   "cell_type": "code",
   "execution_count": null,
   "id": "15aceaee",
   "metadata": {
    "scrolled": false
   },
   "outputs": [],
   "source": [
    "# based on aboves result, potentially AccountId== -1 is a bot, to confirm that check column \"AboutMe\" for those AccountId's\n",
    "\n",
    "Users_DF.select(\"AboutMe\").where(Users_DF.AccountId.like(\"-1\")).show(4, vertical=True,truncate=False)"
   ]
  },
  {
   "cell_type": "code",
   "execution_count": null,
   "id": "53b43ce5",
   "metadata": {},
   "outputs": [],
   "source": [
    "# check if bots are describing themselves in the most likely way (by using word \"bot\")\n",
    "\n",
    "Users_DF.select(\"AccountId\",\"AboutMe\").where(Users_DF.AboutMe.like(\"% I am bot %\")).show(truncate=False) "
   ]
  },
  {
   "cell_type": "markdown",
   "id": "cd1d48e4",
   "metadata": {},
   "source": [
    "#### - count forum time "
   ]
  },
  {
   "cell_type": "code",
   "execution_count": null,
   "id": "4c89a44b",
   "metadata": {},
   "outputs": [],
   "source": [
    "# prepare 3 DataFrames for join (rename column names and reduce columns in DataFrame) \n",
    "\n",
    "Users_DF_to_join = Users_DF.select(\"Id\",\"CreationDate\").withColumnRenamed(\"Id\",\"User_Id\")\\\n",
    "                   .withColumnRenamed(\"CreationDate\",\"User_CreationDate\")\n",
    "\n",
    "Comments_DF_to_join = Comments_DF.select(\"Id\",\"CreationDate\",\"PostId\",\"UserId\")\\\n",
    "                                 .withColumnRenamed(\"Id\",\"Comment_Id\")\\\n",
    "                                 .withColumnRenamed(\"CreationDate\",\"Comment_CreationDate\")\\\n",
    "                                 .withColumnRenamed(\"UserId\",\"Comment_UserId\")\n",
    "\n",
    "Posts_DF_to_join = Posts_DF.select(\"Id\",\"CreationDate\").withColumnRenamed(\"Id\",\"Post_Id\")\\\n",
    "                           .withColumnRenamed(\"CreationDate\",\"Post_CreationDate\")"
   ]
  },
  {
   "cell_type": "code",
   "execution_count": null,
   "id": "27e8f852",
   "metadata": {},
   "outputs": [],
   "source": [
    "# join above DataFrames into one DataFrame\n",
    "\n",
    "UCP_join_DF = Users_DF_to_join.join(Comments_DF_to_join, Users_DF_to_join.User_Id==Comments_DF_to_join.Comment_UserId)\\\n",
    "                              .join(Posts_DF_to_join, Comments_DF_to_join.PostId==Posts_DF_to_join.Post_Id)"
   ]
  },
  {
   "cell_type": "code",
   "execution_count": null,
   "id": "42b381c0",
   "metadata": {},
   "outputs": [],
   "source": [
    "# checking on NULL values\n",
    "\n",
    "UCP_join_DF.where(UCP_join_DF.User_CreationDate.isNull()).show()"
   ]
  },
  {
   "cell_type": "code",
   "execution_count": null,
   "id": "150751d2",
   "metadata": {},
   "outputs": [],
   "source": [
    "# extract difference in creation date between User_CreationDate and Comment_CreationDate/Post_CreationDate using Spark SQL\n",
    "\n",
    "UCP_join_DF.createOrReplaceTempView(\"UCP_join_DF\")\n",
    "\n",
    "ForumTime_DF = spark.sql(\"SELECT User_Id, CASE WHEN\\\n",
    "DATEDIFF(DAY,User_CreationDate,Comment_CreationDate) > DATEDIFF(DAY,User_CreationDate,Post_CreationDate)\\\n",
    "THEN DATEDIFF(DAY,User_CreationDate,Comment_CreationDate) ELSE DATEDIFF(DAY,User_CreationDate,Post_CreationDate)\\\n",
    "END AS ForumTime FROM UCP_join_DF WHERE User_Id != '-1' ORDER BY ForumTime DESC\")"
   ]
  },
  {
   "cell_type": "code",
   "execution_count": null,
   "id": "6592a17f",
   "metadata": {},
   "outputs": [],
   "source": [
    "# add row number to ForumTime_DF using window function\n",
    "\n",
    "windowSpec = Window.partitionBy(\"User_Id\").orderBy(f.desc(\"ForumTime\"))\n",
    "\n",
    "ForumTime_DF2 = ForumTime_DF.withColumn(\"rownum\", f.row_number()\\\n",
    "                                        .over(windowSpec)).orderBy(f.asc(\"rownum\"),f.desc(\"ForumTime\")).limit(10)\n",
    "\n",
    "ForumTime_DF3 = ForumTime_DF2.select(\"User_Id\",\"ForumTime\").toPandas()"
   ]
  },
  {
   "cell_type": "code",
   "execution_count": null,
   "id": "e55acaa4",
   "metadata": {},
   "outputs": [],
   "source": [
    "# create barplot\n",
    "\n",
    "forum_time = ForumTime_DF3[\"ForumTime\"]\n",
    "\n",
    "\n",
    "fig, ax = plt.subplots()\n",
    "ax.bar(range(len(ForumTime_DF3.User_Id)), ForumTime_DF3.ForumTime, width=0.8, color='c')\n",
    "\n",
    "for i, v in enumerate(forum_time):\n",
    "    ax.text(i, v + 0.5, str(v), ha=\"center\")\n",
    "\n",
    "ax.set_title(\"TOP10 longest active users forum time\")\n",
    "ax.set_xlabel(\"User_Id\")\n",
    "ax.set_ylabel(\"ForumTime in days\")\n",
    "ax.set_xticks(range(len(ForumTime_DF3.User_Id)))\n",
    "ax.set_xticklabels(ForumTime_DF3.User_Id)\n",
    "\n",
    "    \n",
    "%matplot plt"
   ]
  },
  {
   "cell_type": "code",
   "execution_count": null,
   "id": "c3588568",
   "metadata": {},
   "outputs": [],
   "source": [
    "# compare barplot with DataFrame\n",
    "\n",
    "ForumTime_DF2.select(\"User_Id\",\"ForumTime\").show()"
   ]
  },
  {
   "cell_type": "markdown",
   "id": "5d2cc994",
   "metadata": {},
   "source": [
    "### c) comparison of the highest and lowest rated questions (length, tags, number of answers)"
   ]
  },
  {
   "cell_type": "code",
   "execution_count": null,
   "id": "0fe03f02",
   "metadata": {
    "scrolled": true
   },
   "outputs": [],
   "source": [
    "# check max&min questions score (qestions: PostTypeId==1)\n",
    "\n",
    "Posts_DF.where(Posts_DF.PostTypeId==1).select(f.max(Posts_DF.Score),f.min(Posts_DF.Score)).show()"
   ]
  },
  {
   "cell_type": "code",
   "execution_count": null,
   "id": "9d922dbe",
   "metadata": {},
   "outputs": [],
   "source": [
    "# collect records with max&min \"Score\" values\n",
    "\n",
    "Posts_DF_max = Posts_DF.where(Posts_DF.PostTypeId==1).agg(f.max(\"Score\")).collect()[0][0]\n",
    "Posts_DF_min = Posts_DF.where(Posts_DF.PostTypeId==1).agg(f.min(\"Score\")).collect()[0][0]"
   ]
  },
  {
   "cell_type": "code",
   "execution_count": null,
   "id": "162e19ab",
   "metadata": {},
   "outputs": [],
   "source": [
    "Posts_DF_questions = Posts_DF.select(\"Id\",\"PostTypeID\",\"Body\",\"AnswerCount\",\"Tags\",\"Score\")\\\n",
    "                             .filter((f.col(\"Score\") == Posts_DF_max) | (f.col(\"Score\") == Posts_DF_min))"
   ]
  },
  {
   "cell_type": "code",
   "execution_count": null,
   "id": "5a7ebf99",
   "metadata": {},
   "outputs": [],
   "source": [
    "# add new columns - question length and tags count\n",
    "\n",
    "Posts_DF_all=Posts_DF_questions.withColumn(\"BodyLength\",f.length(Posts_DF_questions.Body))\\\n",
    "                               .withColumn(\"TagsCount\",f.size(f.split(f.col(\"Tags\"), \",\")).alias(\"TagCount\"))"
   ]
  },
  {
   "cell_type": "code",
   "execution_count": null,
   "id": "74c73c12",
   "metadata": {},
   "outputs": [],
   "source": [
    "Posts_DF_all.select(\"Id\",\"PostTypeID\",\"BodyLength\",\"Score\",\"Tags\",\"TagsCount\",\"AnswerCount\").show(truncate=False) "
   ]
  },
  {
   "cell_type": "markdown",
   "id": "64d77378",
   "metadata": {},
   "source": [
    "### d) percentage of cases where the highest-rated answer is unaccepted answer"
   ]
  },
  {
   "cell_type": "code",
   "execution_count": null,
   "id": "4aedd462",
   "metadata": {},
   "outputs": [],
   "source": [
    "# create answers DatFrame (answers: PostTypeId==2)\n",
    "\n",
    "Posts_DF_A=Posts_DF.select(f.col(\"Id\").alias(\"AnswerId\"),f.col(\"Score\").alias(\"AnswerScore\")\\\n",
    "                           ,f.col(\"ParentId\").alias(\"QuestionId\")).where(Posts_DF.PostTypeId==2)"
   ]
  },
  {
   "cell_type": "code",
   "execution_count": null,
   "id": "f81a6971",
   "metadata": {},
   "outputs": [],
   "source": [
    "# create questions with answers DataFrame (qestions: PostTypeId==1)\n",
    "\n",
    "Posts_DF_Q = Posts_DF.select(f.col(\"Id\").alias(\"QuestionId\"),f.col(\"Score\").alias(\"QuestionScore\")\\\n",
    "                             ,\"AcceptedAnswerId\").where(Posts_DF.PostTypeId==1)"
   ]
  },
  {
   "cell_type": "code",
   "execution_count": null,
   "id": "7a698111",
   "metadata": {},
   "outputs": [],
   "source": [
    "# join questions DF and answers DF\n",
    "\n",
    "Posts_DF_QA = Posts_DF_Q.join(Posts_DF_A, Posts_DF_Q.QuestionId==Posts_DF_A.QuestionId)\\\n",
    "              .select(Posts_DF_Q.QuestionId,\"AcceptedAnswerId\",\"AnswerId\",\"AnswerScore\").orderBy(f.asc(\"QuestionId\"))\n",
    "\n",
    "Posts_DF_QA.show()"
   ]
  },
  {
   "cell_type": "code",
   "execution_count": null,
   "id": "03d6a975",
   "metadata": {},
   "outputs": [],
   "source": [
    "# add row number to Posts_DF_QA\n",
    "\n",
    "windowSpec = Window.partitionBy(\"QuestionId\").orderBy(f.desc(\"AnswerScore\"))\n",
    "Posts_DF_QA_RN = Posts_DF_QA.withColumn(\"row_num\",f.row_number().over(windowSpec))"
   ]
  },
  {
   "cell_type": "code",
   "execution_count": null,
   "id": "7ccd0299",
   "metadata": {},
   "outputs": [],
   "source": [
    "# count highest scored not accepted answers\n",
    "\n",
    "Q_notAccepted_HS = Posts_DF_QA_RN.where((Posts_DF_QA_RN.AcceptedAnswerId.isNull()) & (Posts_DF_QA_RN.row_num==1)).count()"
   ]
  },
  {
   "cell_type": "code",
   "execution_count": null,
   "id": "d436fef0",
   "metadata": {},
   "outputs": [],
   "source": [
    "# count all questions with answers\n",
    "\n",
    "QA_all = Posts_DF.where((Posts_DF.AnswerCount > 0) & (Posts_DF.PostTypeId==1)).count()"
   ]
  },
  {
   "cell_type": "code",
   "execution_count": null,
   "id": "b694323d",
   "metadata": {},
   "outputs": [],
   "source": [
    "result=round((Q_notAccepted_HS/QA_all*100),2)\n",
    "print(f\"Percentage of cases where the highest-rated answer is unaccepted answer: {result}%\")"
   ]
  },
  {
   "cell_type": "markdown",
   "id": "70e37bad",
   "metadata": {},
   "source": [
    "### e) distribution of accepted answers vs. other answers (avg, deviation, min, max)"
   ]
  },
  {
   "cell_type": "markdown",
   "id": "4c8c4db9",
   "metadata": {},
   "source": [
    "#### based on Posts_DF_QA DataFrame from point d"
   ]
  },
  {
   "cell_type": "code",
   "execution_count": null,
   "id": "5f065f97",
   "metadata": {},
   "outputs": [],
   "source": [
    "# accepted answers\n",
    "\n",
    "A_accepted = Posts_DF_QA.where(Posts_DF_QA.AcceptedAnswerId.isNotNull()).\\\n",
    "                  select(f.max(Posts_DF_QA.AnswerScore).alias(\"max_score\"),\\\n",
    "                  f.min(Posts_DF_QA.AnswerScore).alias(\"min_score\"),\\\n",
    "                  f.avg(Posts_DF_QA.AnswerScore).alias(\"avg_score\"),\\\n",
    "                  f.stddev(Posts_DF_QA.AnswerScore).alias(\"std_score\"))\\\n",
    "                  .withColumn(\"answers type\", f.lit(\"accepted\"))\n",
    "\n",
    "A_accepted2 = A_accepted.select(\"answers type\",\"max_score\",\"min_score\",f.round(\"avg_score\",scale=2)\\\n",
    "                                .alias(\"avg_score\"),f.round(\"std_score\",scale=2).alias(\"std_score\"))\n",
    "\n",
    "A_accepted2.show()"
   ]
  },
  {
   "cell_type": "code",
   "execution_count": null,
   "id": "1d70a3cb",
   "metadata": {},
   "outputs": [],
   "source": [
    "# not accepted answers\n",
    "\n",
    "A_not_accepted = Posts_DF_QA.where(Posts_DF_QA.AcceptedAnswerId.isNull()).\\\n",
    "                  select(f.max(Posts_DF_QA.AnswerScore).alias(\"max_score\"),\\\n",
    "                  f.min(Posts_DF_QA.AnswerScore).alias(\"min_score\"),\\\n",
    "                  f.avg(Posts_DF_QA.AnswerScore).alias(\"avg_score\"),\\\n",
    "                  f.stddev(Posts_DF_QA.AnswerScore).alias(\"std_score\"))\\\n",
    "                  .withColumn(\"answers type\", f.lit(\"not accepted\"))\n",
    "\n",
    "A_not_accepted2 = A_not_accepted.select(\"answers type\",\"max_score\",\"min_score\",f.round(\"avg_score\",scale=2)\\\n",
    "                                        .alias(\"avg_score\"),f.round(\"std_score\",scale=2).alias(\"std_score\"))\n",
    "\n",
    "A_not_accepted2.show()"
   ]
  },
  {
   "cell_type": "code",
   "execution_count": null,
   "id": "2cdcb302",
   "metadata": {},
   "outputs": [],
   "source": [
    "# dsiplay above DataFrames together\n",
    "\n",
    "DF_final = A_accepted2.union(A_not_accepted2)\n",
    "DF_final.show()"
   ]
  },
  {
   "cell_type": "markdown",
   "id": "1100de91",
   "metadata": {},
   "source": [
    "### f) top N tags that generated the most views"
   ]
  },
  {
   "cell_type": "code",
   "execution_count": null,
   "id": "4b8f8493",
   "metadata": {},
   "outputs": [],
   "source": [
    "# get TOP 10 tags with most views - first method\n",
    "\n",
    "Tags_view = Posts_DF.select(\"Tags\",\"ViewCount\").orderBy(f.desc(\"ViewCount\")).limit(10)\n",
    "Tags_view.show(truncate=False)"
   ]
  },
  {
   "cell_type": "code",
   "execution_count": null,
   "id": "ed1e3803",
   "metadata": {},
   "outputs": [],
   "source": [
    "# get TOP 10 tags with most views - second method using Spark SQL\n",
    "\n",
    "Posts_DF.createOrReplaceTempView(\"Posts_DF\")\n",
    "\n",
    "spark.sql(\"SELECT Tags,ViewCount FROM Posts_DF ORDER BY ViewCount DESC\").show(10, truncate=False)"
   ]
  },
  {
   "cell_type": "markdown",
   "id": "1573ab03",
   "metadata": {},
   "source": [
    "### g) number of posts over time for each of the top N tags (lineplot/barplot)"
   ]
  },
  {
   "cell_type": "code",
   "execution_count": null,
   "id": "59713f82",
   "metadata": {},
   "outputs": [],
   "source": [
    "# check TOP 3 tags\n",
    "\n",
    "Tags_DF_TOP3=Tags_DF.select(\"TagName\",\"Count\").orderBy(Tags_DF.Count.desc()).limit(3)\n",
    "Tags_DF_TOP3.show()"
   ]
  },
  {
   "cell_type": "code",
   "execution_count": null,
   "id": "8ba6ca97",
   "metadata": {},
   "outputs": [],
   "source": [
    "# add \"CreationYear\" column to Posts_DF\n",
    " \n",
    "Posts_DF_year = Posts_DF.withColumn(\"CreationYear\",year(Posts_DF.CreationDate))\n",
    "Posts_DF_year.show(2,vertical=True,truncate=False)"
   ]
  },
  {
   "cell_type": "code",
   "execution_count": null,
   "id": "93002e51",
   "metadata": {},
   "outputs": [],
   "source": [
    "# reduce number of columns (can be skipped)\n",
    "\n",
    "Posts_DF_year2=Posts_DF_year.select(\"Tags\",\"CreationYear\")\n",
    "Posts_DF_year2.show(truncate=False)"
   ]
  },
  {
   "cell_type": "code",
   "execution_count": null,
   "id": "623a2c0a",
   "metadata": {},
   "outputs": [],
   "source": [
    "# create DataFrames for each of TOP 3 tags\n",
    "\n",
    "posts_count_over_time_top1 = Posts_DF_year.where(Posts_DF_year.Tags.like(\"%creality-ender-3%\"))\\\n",
    "                                           .groupBy(\"CreationYear\").count().orderBy(\"CreationYear\").toPandas()\n",
    "\n",
    "posts_count_over_time_top2 = Posts_DF_year.where(Posts_DF_year.Tags.like(\"%marlin%\"))\\\n",
    "                                           .groupBy(\"CreationYear\").count().orderBy(\"CreationYear\").toPandas()\n",
    "\n",
    "posts_count_over_time_top3 = Posts_DF_year.where(Posts_DF_year.Tags.like(\"%print-quality%\"))\\\n",
    "                                           .groupBy(\"CreationYear\").count().orderBy(\"CreationYear\").toPandas()"
   ]
  },
  {
   "cell_type": "code",
   "execution_count": null,
   "id": "be56779d",
   "metadata": {},
   "outputs": [],
   "source": [
    "# lineplot\n",
    "\n",
    "plt.figure(figsize=(6,4))\n",
    "plt.plot(posts_count_over_time_top1[\"CreationYear\"], posts_count_over_time_top_1[\"count\"], marker='o', label=\"creality-ender-3\")\n",
    "plt.plot(posts_count_over_time_top2[\"CreationYear\"], posts_count_over_time_top_2[\"count\"], marker='o', label=\"marlin\")\n",
    "plt.plot(posts_count_over_time_top3[\"CreationYear\"], posts_count_over_time_top_3[\"count\"], marker='o', label=\"print-quality\")\n",
    "plt.xlabel(\"Year\")\n",
    "plt.ylabel(\"Posts count\")\n",
    "plt.title(\"Number of posts over years for TOP 3 tags\")\n",
    "plt.xticks(rotation=45)\n",
    "plt.tight_layout()\n",
    "plt.legend()\n",
    "plt.show()\n",
    "%matplot plt"
   ]
  },
  {
   "cell_type": "markdown",
   "id": "9833a8b9",
   "metadata": {},
   "source": [
    "### h) most frequently appearing words in titles (excluding stopwords)"
   ]
  },
  {
   "cell_type": "code",
   "execution_count": null,
   "id": "ecd5b6a5",
   "metadata": {},
   "outputs": [],
   "source": [
    "# clean \"Title\" column, transform string into array\n",
    "\n",
    "Posts_DF_array = Posts_DF.withColumn(\"Title\",f.regexp_replace(\"Title\",\"\\?\",\"\"))\\\n",
    "                           .withColumn(\"Title\",f.regexp_replace(\"Title\",\"\\\"\",\"\"))\\\n",
    "                           .select(f.split(f.col(\"Title\"),\" \").alias(\"TitleArray\"))\\\n",
    "                           .drop(\"Title\").dropna()\n",
    "\n",
    "\n",
    "Posts_DF_array.printSchema()\n",
    "\n",
    "Posts_DF_array.show(10,truncate=False)"
   ]
  },
  {
   "cell_type": "code",
   "execution_count": null,
   "id": "ad4e5b89",
   "metadata": {},
   "outputs": [],
   "source": [
    "#stopwords remover\n",
    "\n",
    "swr = StopWordsRemover(inputCol=\"TitleArray\", outputCol=\"TitleCleaned\")\n",
    "\n",
    "Posts_DF_clean = swr.transform(Posts_DF_array)"
   ]
  },
  {
   "cell_type": "code",
   "execution_count": null,
   "id": "93e4a6b9",
   "metadata": {},
   "outputs": [],
   "source": [
    "Posts_DF_clean.show()"
   ]
  },
  {
   "cell_type": "code",
   "execution_count": null,
   "id": "68a8fa6c",
   "metadata": {},
   "outputs": [],
   "source": [
    "# add new string column \"TitleCleaned\" and remove column \"TitleAarray\"\n",
    "\n",
    "Posts_DF_clean2 = Posts_DF_clean.withColumn(\"TitleCleaned\",concat_ws(\",\",f.col(\"TitleCleaned\"))).drop(\"TitleArray\").dropna()\n",
    "Posts_DF_clean2.printSchema()\n",
    "Posts_DF_clean2.show(5,truncate=False)"
   ]
  },
  {
   "cell_type": "code",
   "execution_count": null,
   "id": "a0a685a1",
   "metadata": {},
   "outputs": [],
   "source": [
    "# explode and split \"TitleCleaned\" to count most-appearing words\n",
    "\n",
    "Posts_DFF = Posts_DF_clean2.withColumn(\"MostAppearing\", f.explode(f.split(f.col(\"TitleCleaned\"), \",\")))\\\n",
    "  .groupBy(\"MostAppearing\")\\\n",
    "  .count()\\\n",
    "  .sort(\"count\", ascending=False)\n",
    "\n",
    "\n",
    "Posts_DFF.show(15)"
   ]
  },
  {
   "cell_type": "code",
   "execution_count": null,
   "id": "c10449c2",
   "metadata": {},
   "outputs": [],
   "source": [
    "# exclude \"-\" and NULL values, reduce output to TOP 15 words\n",
    "\n",
    "Posts_DFF2 = Posts_DFF.filter((Posts_DFF.MostAppearing != \"\")&(Posts_DFF.MostAppearing != \"-\")\\\n",
    "                              &(Posts_DFF.MostAppearing != \"3\")).limit(15)\n",
    "Posts_DFF2.show()"
   ]
  },
  {
   "cell_type": "markdown",
   "id": "57eaf6ef",
   "metadata": {},
   "source": [
    "### i) percentage of users who have never posted anything"
   ]
  },
  {
   "cell_type": "code",
   "execution_count": null,
   "id": "73e9b126",
   "metadata": {},
   "outputs": [],
   "source": [
    "# register temp tables\n",
    "\n",
    "PostHistory_DF.createOrReplaceTempView(\"PostHistory_DF\")\n",
    "Users_DF.createOrReplaceTempView(\"Users_DF\")"
   ]
  },
  {
   "cell_type": "code",
   "execution_count": null,
   "id": "825f1018",
   "metadata": {},
   "outputs": [],
   "source": [
    "# count number of users without any posts\n",
    "\n",
    "Users_without_posts=spark.sql(\"SELECT DISTINCT(Id) FROM Users_DF WHERE Id NOT IN\\\n",
    "(SELECT DISTINCT(UserId) FROM PostHistory_DF)\").count()"
   ]
  },
  {
   "cell_type": "code",
   "execution_count": null,
   "id": "40132737",
   "metadata": {},
   "outputs": [],
   "source": [
    "# count all users\n",
    "\n",
    "Users_all=Users_DF.select(\"Id\").distinct().count()"
   ]
  },
  {
   "cell_type": "code",
   "execution_count": null,
   "id": "62ece9bc",
   "metadata": {},
   "outputs": [],
   "source": [
    "result=round((Users_without_posts/Users_all*100),2)\n",
    "print(f\"Percentage of users who have never posted anything: {result}%\")"
   ]
  },
  {
   "cell_type": "markdown",
   "id": "715d6587",
   "metadata": {},
   "source": [
    "### j) average time from the appearance of the question to the appearance of the accepted answer"
   ]
  },
  {
   "cell_type": "code",
   "execution_count": null,
   "id": "f25a77f2",
   "metadata": {},
   "outputs": [],
   "source": [
    "# posts with accepted answers\n",
    "\n",
    "Questions_DF = Posts_DF.select(f.col(\"Id\").alias(\"Post_Id\"),f.col(\"CreationDate\")\\\n",
    "                               .alias(\"Post_CreationDate\"),\"AcceptedAnswerId\")\\\n",
    "                               .where((Posts_DF.PostTypeId==1)&(Posts_DF.AcceptedAnswerId.isNotNull()))\n",
    "\n",
    "Questions_DF.show(truncate=False)"
   ]
  },
  {
   "cell_type": "code",
   "execution_count": null,
   "id": "1776cd50",
   "metadata": {},
   "outputs": [],
   "source": [
    "# all answers\n",
    "\n",
    "Answers_DF = Posts_DF.select(f.col(\"Id\").alias(\"Answer_Id\"),f.col(\"CreationDate\")\\\n",
    "                             .alias(\"Answer_CreationDate\"),f.col(\"ParentId\").alias(\"Question_Id\")).where(Posts_DF.PostTypeId==2)\n",
    "Answers_DF.show(truncate=False)"
   ]
  },
  {
   "cell_type": "code",
   "execution_count": null,
   "id": "2454e3d3",
   "metadata": {
    "scrolled": true
   },
   "outputs": [],
   "source": [
    "# left join questions DF with answers DFto get only accepted answers\n",
    "\n",
    "QA_DF = Questions_DF.join(Answers_DF, Questions_DF.AcceptedAnswerId == Answers_DF.Answer_Id,how = \"left\")\n",
    "QA_DF.orderBy(f.asc(\"Post_Id\")).show(truncate=False)"
   ]
  },
  {
   "cell_type": "code",
   "execution_count": null,
   "id": "b8599cb6",
   "metadata": {},
   "outputs": [],
   "source": [
    "# exclude NULL values\n",
    "\n",
    "QA_DF2 = QA_DF.where(QA_DF.Answer_Id.isNotNull())"
   ]
  },
  {
   "cell_type": "code",
   "execution_count": null,
   "id": "87d66e7a",
   "metadata": {},
   "outputs": [],
   "source": [
    "# count difference between Post_CreationDate and Answer_CreationDate\n",
    "\n",
    "QA_DF3 = QA_DF2.withColumn(\"difference\",(f.unix_timestamp(QA_DF2.Answer_CreationDate)-\\\n",
    "                                         f.unix_timestamp(QA_DF2.Post_CreationDate)))\n",
    "\n",
    "QA_DF3.orderBy(f.desc(\"difference\")).show(vertical=True,truncate=False)"
   ]
  },
  {
   "cell_type": "code",
   "execution_count": null,
   "id": "bfcb7c2f",
   "metadata": {
    "scrolled": true
   },
   "outputs": [],
   "source": [
    "# count average difference \n",
    "\n",
    "QA_avg_dif = QA_DF3.select(f.round((f.avg(\"difference\")/86400),scale=2).alias(\"Average Accepted Answer Creation Time [days]\"))\n",
    "QA_avg_dif.show()"
   ]
  }
 ],
 "metadata": {
  "kernelspec": {
   "display_name": "PySpark",
   "language": "python",
   "name": "pysparkkernel"
  },
  "language_info": {
   "codemirror_mode": {
    "name": "python",
    "version": 3
   },
   "file_extension": ".py",
   "mimetype": "text/x-python",
   "name": "pyspark",
   "pygments_lexer": "python3"
  }
 },
 "nbformat": 4,
 "nbformat_minor": 5
}
