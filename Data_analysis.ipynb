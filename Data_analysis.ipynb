{
 "cells": [
  {
   "cell_type": "markdown",
   "id": "bcd01040",
   "metadata": {},
   "source": [
    "# Data analysis and visualization"
   ]
  },
  {
   "cell_type": "markdown",
   "id": "a3453d5d",
   "metadata": {},
   "source": [
    "### 1. Environment setup - initialization of Spark Session, installing libraries, and modules"
   ]
  },
  {
   "cell_type": "code",
   "execution_count": 1,
   "id": "e0a18d2c",
   "metadata": {
    "scrolled": true
   },
   "outputs": [
    {
     "name": "stdout",
     "output_type": "stream",
     "text": [
      "Starting Spark application\n"
     ]
    },
    {
     "data": {
      "text/html": [
       "<table>\n",
       "<tr><th>ID</th><th>YARN Application ID</th><th>Kind</th><th>State</th><th>Spark UI</th><th>Driver log</th><th>User</th><th>Current session?</th></tr><tr><td>5</td><td>application_1685463224133_0006</td><td>pyspark</td><td>idle</td><td><a target=\"_blank\" href=\"http://ip-172-31-55-94.ec2.internal:20888/proxy/application_1685463224133_0006/\">Link</a></td><td><a target=\"_blank\" href=\"http://ip-172-31-56-25.ec2.internal:8042/node/containerlogs/container_1685463224133_0006_01_000001/livy\">Link</a></td><td>None</td><td>✔</td></tr></table>"
      ],
      "text/plain": [
       "<IPython.core.display.HTML object>"
      ]
     },
     "metadata": {},
     "output_type": "display_data"
    },
    {
     "data": {
      "application/vnd.jupyter.widget-view+json": {
       "model_id": "",
       "version_major": 2,
       "version_minor": 0
      },
      "text/plain": [
       "FloatProgress(value=0.0, bar_style='info', description='Progress:', layout=Layout(height='25px', width='50%'),…"
      ]
     },
     "metadata": {},
     "output_type": "display_data"
    },
    {
     "name": "stdout",
     "output_type": "stream",
     "text": [
      "SparkSession available as 'spark'.\n"
     ]
    },
    {
     "data": {
      "application/vnd.jupyter.widget-view+json": {
       "model_id": "",
       "version_major": 2,
       "version_minor": 0
      },
      "text/plain": [
       "FloatProgress(value=0.0, bar_style='info', description='Progress:', layout=Layout(height='25px', width='50%'),…"
      ]
     },
     "metadata": {},
     "output_type": "display_data"
    }
   ],
   "source": [
    "from pyspark.sql import SparkSession\n",
    "\n",
    "spark = SparkSession.builder \\\n",
    "    .appName('DataFrame') \\\n",
    "    .master('local[*]') \\\n",
    "    .getOrCreate()"
   ]
  },
  {
   "cell_type": "code",
   "execution_count": 2,
   "id": "31e208c8",
   "metadata": {
    "scrolled": false
   },
   "outputs": [
    {
     "name": "stdout",
     "output_type": "stream",
     "text": [
      "Starting Spark application\n"
     ]
    },
    {
     "data": {
      "text/html": [
       "<table>\n",
       "<tr><th>ID</th><th>YARN Application ID</th><th>Kind</th><th>State</th><th>Spark UI</th><th>Driver log</th><th>User</th><th>Current session?</th></tr><tr><td>6</td><td>application_1685463224133_0007</td><td>pyspark</td><td>idle</td><td><a target=\"_blank\" href=\"http://ip-172-31-55-94.ec2.internal:20888/proxy/application_1685463224133_0007/\">Link</a></td><td><a target=\"_blank\" href=\"http://ip-172-31-50-98.ec2.internal:8042/node/containerlogs/container_1685463224133_0007_01_000001/livy\">Link</a></td><td>None</td><td>✔</td></tr></table>"
      ],
      "text/plain": [
       "<IPython.core.display.HTML object>"
      ]
     },
     "metadata": {},
     "output_type": "display_data"
    },
    {
     "data": {
      "application/vnd.jupyter.widget-view+json": {
       "model_id": "",
       "version_major": 2,
       "version_minor": 0
      },
      "text/plain": [
       "FloatProgress(value=0.0, bar_style='info', description='Progress:', layout=Layout(height='25px', width='50%'),…"
      ]
     },
     "metadata": {},
     "output_type": "display_data"
    },
    {
     "name": "stdout",
     "output_type": "stream",
     "text": [
      "SparkSession available as 'spark'.\n"
     ]
    },
    {
     "data": {
      "text/html": [
       "Current session configs: <tt>{'conf': {'spark.pyspark.python': 'python3', 'spark.pyspark.virtualenv.enabled': 'true', 'spark.pyspark.virtualenv.type': 'native', 'spark.pyspark.virtualenv.bin.path': '/usr/bin/virtualenv'}, 'proxyUser': 'jovyan', 'kind': 'pyspark'}</tt><br>"
      ],
      "text/plain": [
       "<IPython.core.display.HTML object>"
      ]
     },
     "metadata": {},
     "output_type": "display_data"
    },
    {
     "data": {
      "text/html": [
       "<table>\n",
       "<tr><th>ID</th><th>YARN Application ID</th><th>Kind</th><th>State</th><th>Spark UI</th><th>Driver log</th><th>User</th><th>Current session?</th></tr><tr><td>2</td><td>application_1685463224133_0003</td><td>pyspark</td><td>idle</td><td><a target=\"_blank\" href=\"http://ip-172-31-55-94.ec2.internal:20888/proxy/application_1685463224133_0003/\">Link</a></td><td><a target=\"_blank\" href=\"http://ip-172-31-50-98.ec2.internal:8042/node/containerlogs/container_1685463224133_0003_01_000001/livy\">Link</a></td><td>None</td><td></td></tr><tr><td>6</td><td>application_1685463224133_0007</td><td>pyspark</td><td>idle</td><td><a target=\"_blank\" href=\"http://ip-172-31-55-94.ec2.internal:20888/proxy/application_1685463224133_0007/\">Link</a></td><td><a target=\"_blank\" href=\"http://ip-172-31-50-98.ec2.internal:8042/node/containerlogs/container_1685463224133_0007_01_000001/livy\">Link</a></td><td>None</td><td>✔</td></tr></table>"
      ],
      "text/plain": [
       "<IPython.core.display.HTML object>"
      ]
     },
     "metadata": {},
     "output_type": "display_data"
    }
   ],
   "source": [
    "%%configure -f\n",
    "{\n",
    "    \"conf\": {\n",
    "        \"spark.pyspark.python\": \"python3\",\n",
    "        \"spark.pyspark.virtualenv.enabled\": \"true\",\n",
    "        \"spark.pyspark.virtualenv.type\":\"native\",\n",
    "        \"spark.pyspark.virtualenv.bin.path\":\"/usr/bin/virtualenv\"\n",
    "    }\n",
    "}"
   ]
  },
  {
   "cell_type": "code",
   "execution_count": 3,
   "id": "4c2dcb30",
   "metadata": {},
   "outputs": [
    {
     "data": {
      "application/vnd.jupyter.widget-view+json": {
       "model_id": "",
       "version_major": 2,
       "version_minor": 0
      },
      "text/plain": [
       "FloatProgress(value=0.0, bar_style='info', description='Progress:', layout=Layout(height='25px', width='50%'),…"
      ]
     },
     "metadata": {},
     "output_type": "display_data"
    },
    {
     "name": "stdout",
     "output_type": "stream",
     "text": [
      "Collecting pandas==1.0.5\n",
      "  Downloading pandas-1.0.5-cp37-cp37m-manylinux1_x86_64.whl (10.1 MB)\n",
      "Collecting python-dateutil>=2.6.1\n",
      "  Downloading python_dateutil-2.8.2-py2.py3-none-any.whl (247 kB)\n",
      "Requirement already satisfied: pytz>=2017.2 in /usr/local/lib/python3.7/site-packages (from pandas==1.0.5) (2022.7)\n",
      "Requirement already satisfied: numpy>=1.13.3 in /usr/local/lib64/python3.7/site-packages (from pandas==1.0.5) (1.20.0)\n",
      "Requirement already satisfied: six>=1.5 in /usr/local/lib/python3.7/site-packages (from python-dateutil>=2.6.1->pandas==1.0.5) (1.13.0)\n",
      "Installing collected packages: python-dateutil, pandas\n",
      "Successfully installed pandas-1.0.5 python-dateutil-2.8.2\n",
      "\n",
      "Collecting matplotlib\n",
      "  Downloading matplotlib-3.5.3-cp37-cp37m-manylinux_2_5_x86_64.manylinux1_x86_64.whl (11.2 MB)\n",
      "Requirement already satisfied: numpy>=1.17 in /usr/local/lib64/python3.7/site-packages (from matplotlib) (1.20.0)\n",
      "Collecting packaging>=20.0\n",
      "  Downloading packaging-23.1-py3-none-any.whl (48 kB)\n",
      "Requirement already satisfied: python-dateutil>=2.7 in ./tmp/1685479705107-0/lib/python3.7/site-packages (from matplotlib) (2.8.2)\n",
      "Collecting pyparsing>=2.2.1\n",
      "  Downloading pyparsing-3.0.9-py3-none-any.whl (98 kB)\n",
      "Collecting cycler>=0.10\n",
      "  Downloading cycler-0.11.0-py3-none-any.whl (6.4 kB)\n",
      "Collecting kiwisolver>=1.0.1\n",
      "  Downloading kiwisolver-1.4.4-cp37-cp37m-manylinux_2_5_x86_64.manylinux1_x86_64.whl (1.1 MB)\n",
      "Collecting pillow>=6.2.0\n",
      "  Downloading Pillow-9.5.0-cp37-cp37m-manylinux_2_17_x86_64.manylinux2014_x86_64.whl (3.3 MB)\n",
      "Collecting fonttools>=4.22.0\n",
      "  Downloading fonttools-4.38.0-py3-none-any.whl (965 kB)\n",
      "Requirement already satisfied: six>=1.5 in /usr/local/lib/python3.7/site-packages (from python-dateutil>=2.7->matplotlib) (1.13.0)\n",
      "Collecting typing-extensions; python_version < \"3.8\"\n",
      "  Downloading typing_extensions-4.6.2-py3-none-any.whl (31 kB)\n",
      "Installing collected packages: packaging, pyparsing, cycler, typing-extensions, kiwisolver, pillow, fonttools, matplotlib\n",
      "Successfully installed cycler-0.11.0 fonttools-4.38.0 kiwisolver-1.4.4 matplotlib-3.5.3 packaging-23.1 pillow-9.5.0 pyparsing-3.0.9 typing-extensions-4.6.2\n",
      "\n",
      "WARNING: The directory '/home/.cache/pip' or its parent directory is not owned or is not writable by the current user. The cache has been disabled. Check the permissions and owner of that directory. If executing pip with sudo, you may want sudo's -H flag.\n",
      "\n",
      "WARNING: The directory '/home/.cache/pip' or its parent directory is not owned or is not writable by the current user. The cache has been disabled. Check the permissions and owner of that directory. If executing pip with sudo, you may want sudo's -H flag."
     ]
    }
   ],
   "source": [
    "sc.install_pypi_package(\"pandas==1.0.5\")\n",
    "sc.install_pypi_package(\"matplotlib\")"
   ]
  },
  {
   "cell_type": "code",
   "execution_count": 4,
   "id": "c325803a",
   "metadata": {
    "scrolled": true
   },
   "outputs": [
    {
     "data": {
      "application/vnd.jupyter.widget-view+json": {
       "model_id": "",
       "version_major": 2,
       "version_minor": 0
      },
      "text/plain": [
       "FloatProgress(value=0.0, bar_style='info', description='Progress:', layout=Layout(height='25px', width='50%'),…"
      ]
     },
     "metadata": {},
     "output_type": "display_data"
    },
    {
     "name": "stdout",
     "output_type": "stream",
     "text": [
      "Package                    Version\n",
      "-------------------------- ----------\n",
      "aws-cfn-bootstrap          2.0\n",
      "beautifulsoup4             4.9.3\n",
      "boto                       2.49.0\n",
      "click                      8.1.3\n",
      "cycler                     0.11.0\n",
      "docutils                   0.14\n",
      "fonttools                  4.38.0\n",
      "jmespath                   1.0.1\n",
      "joblib                     1.2.0\n",
      "kiwisolver                 1.4.4\n",
      "lockfile                   0.11.0\n",
      "lxml                       4.9.2\n",
      "matplotlib                 3.5.3\n",
      "mysqlclient                1.4.2\n",
      "nltk                       3.8\n",
      "nose                       1.3.4\n",
      "numpy                      1.20.0\n",
      "packaging                  23.1\n",
      "pandas                     1.0.5\n",
      "Pillow                     9.5.0\n",
      "pip                        20.2.2\n",
      "py-dateutil                2.2\n",
      "pyparsing                  3.0.9\n",
      "pystache                   0.5.4\n",
      "python-daemon              2.2.3\n",
      "python-dateutil            2.8.2\n",
      "python37-sagemaker-pyspark 1.4.2\n",
      "pytz                       2022.7\n",
      "PyYAML                     5.4.1\n",
      "regex                      2021.11.10\n",
      "setuptools                 28.8.0\n",
      "simplejson                 3.2.0\n",
      "six                        1.13.0\n",
      "tqdm                       4.64.1\n",
      "typing-extensions          4.6.2\n",
      "wheel                      0.29.0\n",
      "windmill                   1.6\n",
      "\n",
      "WARNING: The directory '/home/.cache/pip' or its parent directory is not owned or is not writable by the current user. The cache has been disabled. Check the permissions and owner of that directory. If executing pip with sudo, you may want sudo's -H flag."
     ]
    }
   ],
   "source": [
    "# list installed packages\n",
    "\n",
    "sc.list_packages()"
   ]
  },
  {
   "cell_type": "code",
   "execution_count": 5,
   "id": "777fd8f3",
   "metadata": {},
   "outputs": [
    {
     "data": {
      "application/vnd.jupyter.widget-view+json": {
       "model_id": "",
       "version_major": 2,
       "version_minor": 0
      },
      "text/plain": [
       "FloatProgress(value=0.0, bar_style='info', description='Progress:', layout=Layout(height='25px', width='50%'),…"
      ]
     },
     "metadata": {},
     "output_type": "display_data"
    }
   ],
   "source": [
    "from pyspark.sql import Row\n",
    "import pyspark.sql.functions as f\n",
    "from pyspark.sql import Window\n",
    "from pyspark.sql.functions import year\n",
    "import matplotlib.pyplot as plt\n",
    "from pyspark.ml.feature import StopWordsRemover\n",
    "from pyspark.sql.functions import concat_ws"
   ]
  },
  {
   "cell_type": "markdown",
   "id": "23138282",
   "metadata": {},
   "source": [
    "### 2. Read Parquet files into DataFrames"
   ]
  },
  {
   "cell_type": "code",
   "execution_count": 6,
   "id": "6ead2be7",
   "metadata": {
    "scrolled": false
   },
   "outputs": [
    {
     "data": {
      "application/vnd.jupyter.widget-view+json": {
       "model_id": "",
       "version_major": 2,
       "version_minor": 0
      },
      "text/plain": [
       "FloatProgress(value=0.0, bar_style='info', description='Progress:', layout=Layout(height='25px', width='50%'),…"
      ]
     },
     "metadata": {},
     "output_type": "display_data"
    }
   ],
   "source": [
    "Badges_DF = spark.read.parquet(\"s3://bigdata-parquet-data/Badges.parquet/\")"
   ]
  },
  {
   "cell_type": "code",
   "execution_count": 7,
   "id": "91905069",
   "metadata": {},
   "outputs": [
    {
     "data": {
      "application/vnd.jupyter.widget-view+json": {
       "model_id": "",
       "version_major": 2,
       "version_minor": 0
      },
      "text/plain": [
       "FloatProgress(value=0.0, bar_style='info', description='Progress:', layout=Layout(height='25px', width='50%'),…"
      ]
     },
     "metadata": {},
     "output_type": "display_data"
    }
   ],
   "source": [
    "Comments_DF = spark.read.parquet(\"s3://bigdata-parquet-data/Comments.parquet/\")"
   ]
  },
  {
   "cell_type": "code",
   "execution_count": 8,
   "id": "740ea3b8",
   "metadata": {},
   "outputs": [
    {
     "data": {
      "application/vnd.jupyter.widget-view+json": {
       "model_id": "",
       "version_major": 2,
       "version_minor": 0
      },
      "text/plain": [
       "FloatProgress(value=0.0, bar_style='info', description='Progress:', layout=Layout(height='25px', width='50%'),…"
      ]
     },
     "metadata": {},
     "output_type": "display_data"
    }
   ],
   "source": [
    "PostHistory_DF = spark.read.parquet(\"s3://bigdata-parquet-data/PostHistory.parquet/\")"
   ]
  },
  {
   "cell_type": "code",
   "execution_count": 9,
   "id": "2980f4a9",
   "metadata": {},
   "outputs": [
    {
     "data": {
      "application/vnd.jupyter.widget-view+json": {
       "model_id": "",
       "version_major": 2,
       "version_minor": 0
      },
      "text/plain": [
       "FloatProgress(value=0.0, bar_style='info', description='Progress:', layout=Layout(height='25px', width='50%'),…"
      ]
     },
     "metadata": {},
     "output_type": "display_data"
    }
   ],
   "source": [
    "PostLinks_DF = spark.read.parquet(\"s3://bigdata-parquet-data/PostLinks.parquet/\")"
   ]
  },
  {
   "cell_type": "code",
   "execution_count": 10,
   "id": "c2d40fa8",
   "metadata": {},
   "outputs": [
    {
     "data": {
      "application/vnd.jupyter.widget-view+json": {
       "model_id": "",
       "version_major": 2,
       "version_minor": 0
      },
      "text/plain": [
       "FloatProgress(value=0.0, bar_style='info', description='Progress:', layout=Layout(height='25px', width='50%'),…"
      ]
     },
     "metadata": {},
     "output_type": "display_data"
    }
   ],
   "source": [
    "Posts_DF = spark.read.parquet(\"s3://bigdata-parquet-data/Posts.parquet/\")"
   ]
  },
  {
   "cell_type": "code",
   "execution_count": 11,
   "id": "7bf341ca",
   "metadata": {},
   "outputs": [
    {
     "data": {
      "application/vnd.jupyter.widget-view+json": {
       "model_id": "",
       "version_major": 2,
       "version_minor": 0
      },
      "text/plain": [
       "FloatProgress(value=0.0, bar_style='info', description='Progress:', layout=Layout(height='25px', width='50%'),…"
      ]
     },
     "metadata": {},
     "output_type": "display_data"
    }
   ],
   "source": [
    "Tags_DF = spark.read.parquet(\"s3://bigdata-parquet-data/Tags.parquet/\")"
   ]
  },
  {
   "cell_type": "code",
   "execution_count": 12,
   "id": "8d7fefb3",
   "metadata": {},
   "outputs": [
    {
     "data": {
      "application/vnd.jupyter.widget-view+json": {
       "model_id": "",
       "version_major": 2,
       "version_minor": 0
      },
      "text/plain": [
       "FloatProgress(value=0.0, bar_style='info', description='Progress:', layout=Layout(height='25px', width='50%'),…"
      ]
     },
     "metadata": {},
     "output_type": "display_data"
    }
   ],
   "source": [
    "Users_DF = spark.read.parquet(\"s3://bigdata-parquet-data/Users.parquet/\")"
   ]
  },
  {
   "cell_type": "code",
   "execution_count": 13,
   "id": "4266470d",
   "metadata": {},
   "outputs": [
    {
     "data": {
      "application/vnd.jupyter.widget-view+json": {
       "model_id": "",
       "version_major": 2,
       "version_minor": 0
      },
      "text/plain": [
       "FloatProgress(value=0.0, bar_style='info', description='Progress:', layout=Layout(height='25px', width='50%'),…"
      ]
     },
     "metadata": {},
     "output_type": "display_data"
    }
   ],
   "source": [
    "Votes_DF = spark.read.parquet(\"s3://bigdata-parquet-data/Votes.parquet/\")"
   ]
  },
  {
   "cell_type": "markdown",
   "id": "a55196d1",
   "metadata": {},
   "source": [
    "### 3. Analysis"
   ]
  },
  {
   "cell_type": "markdown",
   "id": "0a0df3d8",
   "metadata": {},
   "source": [
    "### a) number of posts over time"
   ]
  },
  {
   "cell_type": "code",
   "execution_count": 14,
   "id": "beca5048",
   "metadata": {},
   "outputs": [
    {
     "data": {
      "application/vnd.jupyter.widget-view+json": {
       "model_id": "",
       "version_major": 2,
       "version_minor": 0
      },
      "text/plain": [
       "FloatProgress(value=0.0, bar_style='info', description='Progress:', layout=Layout(height='25px', width='50%'),…"
      ]
     },
     "metadata": {},
     "output_type": "display_data"
    },
    {
     "name": "stdout",
     "output_type": "stream",
     "text": [
      "+-----------------------+\n",
      "|CreationDate           |\n",
      "+-----------------------+\n",
      "|2016-01-12 18:45:19.963|\n",
      "+-----------------------+\n",
      "only showing top 1 row"
     ]
    }
   ],
   "source": [
    "# check first post creation date\n",
    "\n",
    "Posts_DF.select(\"CreationDate\").orderBy(\"CreationDate\").show(1,truncate=False)"
   ]
  },
  {
   "cell_type": "code",
   "execution_count": 15,
   "id": "2423a21e",
   "metadata": {},
   "outputs": [
    {
     "data": {
      "application/vnd.jupyter.widget-view+json": {
       "model_id": "",
       "version_major": 2,
       "version_minor": 0
      },
      "text/plain": [
       "FloatProgress(value=0.0, bar_style='info', description='Progress:', layout=Layout(height='25px', width='50%'),…"
      ]
     },
     "metadata": {},
     "output_type": "display_data"
    },
    {
     "name": "stdout",
     "output_type": "stream",
     "text": [
      "+-----------------------+\n",
      "|CreationDate           |\n",
      "+-----------------------+\n",
      "|2023-03-04 21:40:00.063|\n",
      "+-----------------------+\n",
      "only showing top 1 row"
     ]
    }
   ],
   "source": [
    "# check last post creation date\n",
    "\n",
    "Posts_DF.select(\"CreationDate\").orderBy(Posts_DF.CreationDate.desc()).show(1,truncate=False)"
   ]
  },
  {
   "cell_type": "code",
   "execution_count": 16,
   "id": "ec8c1cd3",
   "metadata": {
    "scrolled": true
   },
   "outputs": [
    {
     "data": {
      "application/vnd.jupyter.widget-view+json": {
       "model_id": "",
       "version_major": 2,
       "version_minor": 0
      },
      "text/plain": [
       "FloatProgress(value=0.0, bar_style='info', description='Progress:', layout=Layout(height='25px', width='50%'),…"
      ]
     },
     "metadata": {},
     "output_type": "display_data"
    },
    {
     "name": "stdout",
     "output_type": "stream",
     "text": [
      "-RECORD 0------------------------------------------------------------------------------------------------------------------------------------------------------------------------------------------------------------------------------------------------------------------------------------------------------------\n",
      " AcceptedAnswerId      | 51                                                                                                                                                                                                                                                                                          \n",
      " AnswerCount           | 2                                                                                                                                                                                                                                                                                           \n",
      " Body                  | When I've printed an object I've had to choose between high resolution and quick prints. What techniques or technologies can I use or deploy to speed up my high resolution prints?                                                                                                         \n",
      " ClosedDate            | null                                                                                                                                                                                                                                                                                        \n",
      " CommentCount          | 6                                                                                                                                                                                                                                                                                           \n",
      " CommunityOwnedDate    | null                                                                                                                                                                                                                                                                                        \n",
      " ContentLicense        | CC BY-SA 3.0                                                                                                                                                                                                                                                                                \n",
      " CreationDate          | 2016-01-12 18:45:19.963                                                                                                                                                                                                                                                                     \n",
      " FavoriteCount         | null                                                                                                                                                                                                                                                                                        \n",
      " Id                    | 1                                                                                                                                                                                                                                                                                           \n",
      " LastActivityDate      | 2017-10-31 02:31:08.56                                                                                                                                                                                                                                                                      \n",
      " LastEditDate          | null                                                                                                                                                                                                                                                                                        \n",
      " LastEditorDisplayName | null                                                                                                                                                                                                                                                                                        \n",
      " LastEditorUserId      | null                                                                                                                                                                                                                                                                                        \n",
      " OwnerDisplayName      | null                                                                                                                                                                                                                                                                                        \n",
      " OwnerUserId           | 16                                                                                                                                                                                                                                                                                          \n",
      " ParentId              | null                                                                                                                                                                                                                                                                                        \n",
      " PostTypeId            | 1                                                                                                                                                                                                                                                                                           \n",
      " Score                 | 10                                                                                                                                                                                                                                                                                          \n",
      " Tags                  | resolution,speed,quality                                                                                                                                                                                                                                                                    \n",
      " Title                 | How to obtain high resolution prints in a shorter period of time?                                                                                                                                                                                                                           \n",
      " ViewCount             | 409                                                                                                                                                                                                                                                                                         \n",
      " CreationYear          | 2016                                                                                                                                                                                                                                                                                        \n",
      "-RECORD 1------------------------------------------------------------------------------------------------------------------------------------------------------------------------------------------------------------------------------------------------------------------------------------------------------------\n",
      " AcceptedAnswerId      | 12                                                                                                                                                                                                                                                                                          \n",
      " AnswerCount           | 4                                                                                                                                                                                                                                                                                           \n",
      " Body                  | I would like to buy a 3D printer, but I'm concerned about the health risks that are associated with its operation. Some groups of scientists say it can be harmful for humans.What do I need to consider before buying a 3D printer if I care about my health? Are there any safe printers? \n",
      " ClosedDate            | null                                                                                                                                                                                                                                                                                        \n",
      " CommentCount          | 1                                                                                                                                                                                                                                                                                           \n",
      " CommunityOwnedDate    | null                                                                                                                                                                                                                                                                                        \n",
      " ContentLicense        | CC BY-SA 3.0                                                                                                                                                                                                                                                                                \n",
      " CreationDate          | 2016-01-12 18:45:51.287                                                                                                                                                                                                                                                                     \n",
      " FavoriteCount         | null                                                                                                                                                                                                                                                                                        \n",
      " Id                    | 2                                                                                                                                                                                                                                                                                           \n",
      " LastActivityDate      | 2019-06-10 23:18:34.19                                                                                                                                                                                                                                                                      \n",
      " LastEditDate          | 2016-11-15 16:16:11.163                                                                                                                                                                                                                                                                     \n",
      " LastEditorDisplayName | null                                                                                                                                                                                                                                                                                        \n",
      " LastEditorUserId      | 334                                                                                                                                                                                                                                                                                         \n",
      " OwnerDisplayName      | null                                                                                                                                                                                                                                                                                        \n",
      " OwnerUserId           | 20                                                                                                                                                                                                                                                                                          \n",
      " ParentId              | null                                                                                                                                                                                                                                                                                        \n",
      " PostTypeId            | 1                                                                                                                                                                                                                                                                                           \n",
      " Score                 | 33                                                                                                                                                                                                                                                                                          \n",
      " Tags                  | print-material,safety,health                                                                                                                                                                                                                                                                \n",
      " Title                 | Is 3D printing safe for your health?                                                                                                                                                                                                                                                        \n",
      " ViewCount             | 7149                                                                                                                                                                                                                                                                                        \n",
      " CreationYear          | 2016                                                                                                                                                                                                                                                                                        \n",
      "only showing top 2 rows"
     ]
    }
   ],
   "source": [
    "# add new column 'CreationYear' do Posts_DF DataFrame\n",
    "\n",
    "Posts_DF2 = Posts_DF.withColumn(\"CreationYear\",year(Posts_DF.CreationDate))\n",
    "Posts_DF2.show(2,vertical=True,truncate=False)"
   ]
  },
  {
   "cell_type": "code",
   "execution_count": 17,
   "id": "c3766db6",
   "metadata": {},
   "outputs": [
    {
     "data": {
      "application/vnd.jupyter.widget-view+json": {
       "model_id": "",
       "version_major": 2,
       "version_minor": 0
      },
      "text/plain": [
       "FloatProgress(value=0.0, bar_style='info', description='Progress:', layout=Layout(height='25px', width='50%'),…"
      ]
     },
     "metadata": {},
     "output_type": "display_data"
    },
    {
     "data": {
      "image/png": "[encoded data removed]",
      "text/plain": [
       "<IPython.core.display.Image object>"
      ]
     },
     "metadata": {},
     "output_type": "display_data"
    }
   ],
   "source": [
    "# create lineplot no.1\n",
    "\n",
    "posts_count_over_time = Posts_DF2.groupBy(\"CreationYear\").count().orderBy(\"CreationYear\").toPandas()\n",
    "\n",
    "plt.clf()\n",
    "posts_count_over_time.plot(kind=\"area\",x=\"CreationYear\",y=\"count\", rot=70, color=\"c\", legend=None, figsize=(6,4))\n",
    "plt.xticks(posts_count_over_time.CreationYear)\n",
    "plt.xlim(2016, 2023)\n",
    "plt.title(\"Number of posts across time\")\n",
    "plt.xlabel(\"CreationYear\")\n",
    "plt.ylabel(\"Number of posts\")\n",
    "plt.tight_layout()\n",
    "\n",
    "%matplot plt"
   ]
  },
  {
   "cell_type": "code",
   "execution_count": 18,
   "id": "bc3e5457",
   "metadata": {},
   "outputs": [
    {
     "data": {
      "application/vnd.jupyter.widget-view+json": {
       "model_id": "",
       "version_major": 2,
       "version_minor": 0
      },
      "text/plain": [
       "FloatProgress(value=0.0, bar_style='info', description='Progress:', layout=Layout(height='25px', width='50%'),…"
      ]
     },
     "metadata": {},
     "output_type": "display_data"
    },
    {
     "data": {
      "image/png": "[encoded data removed]",
      "text/plain": [
       "<IPython.core.display.Image object>"
      ]
     },
     "metadata": {},
     "output_type": "display_data"
    }
   ],
   "source": [
    "# create lineplot no.2\n",
    "\n",
    "posts_count_over_time = Posts_DF2.groupBy(\"CreationYear\").count().orderBy(\"CreationYear\").toPandas()\n",
    "\n",
    "plt.figure(figsize=(6,4))\n",
    "plt.plot(posts_count_over_time[\"CreationYear\"], posts_count_over_time[\"count\"], color=\"c\", marker='o')\n",
    "plt.xlabel(\"CreationYear\")\n",
    "plt.ylabel(\"Number of posts\")\n",
    "plt.title(\"Number of posts across time\")\n",
    "plt.xticks(rotation=45)\n",
    "plt.tight_layout()\n",
    "plt.show()\n",
    "\n",
    "%matplot plt"
   ]
  },
  {
   "cell_type": "code",
   "execution_count": 19,
   "id": "e04fcd48",
   "metadata": {},
   "outputs": [
    {
     "data": {
      "application/vnd.jupyter.widget-view+json": {
       "model_id": "",
       "version_major": 2,
       "version_minor": 0
      },
      "text/plain": [
       "FloatProgress(value=0.0, bar_style='info', description='Progress:', layout=Layout(height='25px', width='50%'),…"
      ]
     },
     "metadata": {},
     "output_type": "display_data"
    },
    {
     "name": "stdout",
     "output_type": "stream",
     "text": [
      "+------------+-----+\n",
      "|CreationYear|count|\n",
      "+------------+-----+\n",
      "|        2016| 2059|\n",
      "|        2017| 1566|\n",
      "|        2018| 2312|\n",
      "|        2019| 2393|\n",
      "|        2020| 2034|\n",
      "|        2021| 2114|\n",
      "|        2022| 1481|\n",
      "|        2023|  227|\n",
      "+------------+-----+"
     ]
    }
   ],
   "source": [
    "# count posts in each year\n",
    "\n",
    "Posts_DF2.groupBy(\"CreationYear\").count().orderBy(\"CreationYear\").show()"
   ]
  },
  {
   "cell_type": "markdown",
   "id": "0b90fd20",
   "metadata": {},
   "source": [
    "### b) forum time of 10 longest active users (from the user's creation to the last post/comment), excluding bots"
   ]
  },
  {
   "cell_type": "markdown",
   "id": "c7bcb84f",
   "metadata": {},
   "source": [
    "#### - bots detection "
   ]
  },
  {
   "cell_type": "code",
   "execution_count": 20,
   "id": "54061295",
   "metadata": {},
   "outputs": [
    {
     "data": {
      "application/vnd.jupyter.widget-view+json": {
       "model_id": "",
       "version_major": 2,
       "version_minor": 0
      },
      "text/plain": [
       "FloatProgress(value=0.0, bar_style='info', description='Progress:', layout=Layout(height='25px', width='50%'),…"
      ]
     },
     "metadata": {},
     "output_type": "display_data"
    },
    {
     "name": "stdout",
     "output_type": "stream",
     "text": [
      "+---------+\n",
      "|AccountId|\n",
      "+---------+\n",
      "|     null|\n",
      "|       -1|\n",
      "|        2|\n",
      "|       75|\n",
      "|       97|\n",
      "|      150|\n",
      "|      163|\n",
      "|      168|\n",
      "|      291|\n",
      "|      331|\n",
      "|      368|\n",
      "|      451|\n",
      "|      620|\n",
      "|      646|\n",
      "|      668|\n",
      "|      746|\n",
      "|      851|\n",
      "|      932|\n",
      "|      970|\n",
      "|     1008|\n",
      "+---------+\n",
      "only showing top 20 rows"
     ]
    }
   ],
   "source": [
    "# check AccountId's\n",
    "\n",
    "Users_DF.select(\"AccountId\").distinct().orderBy(f.asc(\"AccountId\")).show()"
   ]
  },
  {
   "cell_type": "code",
   "execution_count": 21,
   "id": "15aceaee",
   "metadata": {
    "scrolled": false
   },
   "outputs": [
    {
     "data": {
      "application/vnd.jupyter.widget-view+json": {
       "model_id": "",
       "version_major": 2,
       "version_minor": 0
      },
      "text/plain": [
       "FloatProgress(value=0.0, bar_style='info', description='Progress:', layout=Layout(height='25px', width='50%'),…"
      ]
     },
     "metadata": {},
     "output_type": "display_data"
    },
    {
     "name": "stdout",
     "output_type": "stream",
     "text": [
      "-RECORD 0------------------------------------------------------------------------------------------------------------------------------------------------------------------------------------------------------------------------------------------------------------------------------------------------------------------------------------------------------------------------------------------------------\n",
      " AboutMe | Hi, I'm not really a person.I'm a background process that helps keep this site clean!I do things likeRandomly poke old unanswered questions every hour so they get some attentionOwn community questions and answers so nobody gets unnecessary reputation from themOwn downvotes on spam/evil posts that get permanently deletedOwn suggested edits from anonymous usersRemove abandoned questions"
     ]
    }
   ],
   "source": [
    "# based on aboves result, potentially AccountId== -1 is a bot, to confirm that check column \"AboutMe\" for those AccountId's\n",
    "\n",
    "Users_DF.select(\"AboutMe\").where(Users_DF.AccountId.like(\"-1\")).show(4, vertical=True,truncate=False)"
   ]
  },
  {
   "cell_type": "code",
   "execution_count": 22,
   "id": "53b43ce5",
   "metadata": {},
   "outputs": [
    {
     "data": {
      "application/vnd.jupyter.widget-view+json": {
       "model_id": "",
       "version_major": 2,
       "version_minor": 0
      },
      "text/plain": [
       "FloatProgress(value=0.0, bar_style='info', description='Progress:', layout=Layout(height='25px', width='50%'),…"
      ]
     },
     "metadata": {},
     "output_type": "display_data"
    },
    {
     "name": "stdout",
     "output_type": "stream",
     "text": [
      "+---------+-------+\n",
      "|AccountId|AboutMe|\n",
      "+---------+-------+\n",
      "+---------+-------+"
     ]
    }
   ],
   "source": [
    "# check if bots are describing themselves in the most likely way (by using word \"bot\")\n",
    "\n",
    "Users_DF.select(\"AccountId\",\"AboutMe\").where(Users_DF.AboutMe.like(\"% I am bot %\")).show(truncate=False) "
   ]
  },
  {
   "cell_type": "markdown",
   "id": "cd1d48e4",
   "metadata": {},
   "source": [
    "#### - count forum time "
   ]
  },
  {
   "cell_type": "code",
   "execution_count": 23,
   "id": "4c89a44b",
   "metadata": {},
   "outputs": [
    {
     "data": {
      "application/vnd.jupyter.widget-view+json": {
       "model_id": "",
       "version_major": 2,
       "version_minor": 0
      },
      "text/plain": [
       "FloatProgress(value=0.0, bar_style='info', description='Progress:', layout=Layout(height='25px', width='50%'),…"
      ]
     },
     "metadata": {},
     "output_type": "display_data"
    }
   ],
   "source": [
    "# prepare 3 DataFrames for join (rename column names and reduce columns in DataFrame) \n",
    "\n",
    "Users_DF_to_join = Users_DF.select(\"Id\",\"CreationDate\").withColumnRenamed(\"Id\",\"User_Id\")\\\n",
    "                   .withColumnRenamed(\"CreationDate\",\"User_CreationDate\")\n",
    "\n",
    "Comments_DF_to_join = Comments_DF.select(\"Id\",\"CreationDate\",\"PostId\",\"UserId\")\\\n",
    "                                 .withColumnRenamed(\"Id\",\"Comment_Id\")\\\n",
    "                                 .withColumnRenamed(\"CreationDate\",\"Comment_CreationDate\")\\\n",
    "                                 .withColumnRenamed(\"UserId\",\"Comment_UserId\")\n",
    "\n",
    "Posts_DF_to_join = Posts_DF.select(\"Id\",\"CreationDate\").withColumnRenamed(\"Id\",\"Post_Id\")\\\n",
    "                           .withColumnRenamed(\"CreationDate\",\"Post_CreationDate\")"
   ]
  },
  {
   "cell_type": "code",
   "execution_count": 24,
   "id": "27e8f852",
   "metadata": {},
   "outputs": [
    {
     "data": {
      "application/vnd.jupyter.widget-view+json": {
       "model_id": "",
       "version_major": 2,
       "version_minor": 0
      },
      "text/plain": [
       "FloatProgress(value=0.0, bar_style='info', description='Progress:', layout=Layout(height='25px', width='50%'),…"
      ]
     },
     "metadata": {},
     "output_type": "display_data"
    }
   ],
   "source": [
    "# join above DataFrames into one DataFrame\n",
    "\n",
    "UCP_join_DF = Users_DF_to_join.join(Comments_DF_to_join, Users_DF_to_join.User_Id==Comments_DF_to_join.Comment_UserId)\\\n",
    "                              .join(Posts_DF_to_join, Comments_DF_to_join.PostId==Posts_DF_to_join.Post_Id)"
   ]
  },
  {
   "cell_type": "code",
   "execution_count": 25,
   "id": "42b381c0",
   "metadata": {},
   "outputs": [
    {
     "data": {
      "application/vnd.jupyter.widget-view+json": {
       "model_id": "",
       "version_major": 2,
       "version_minor": 0
      },
      "text/plain": [
       "FloatProgress(value=0.0, bar_style='info', description='Progress:', layout=Layout(height='25px', width='50%'),…"
      ]
     },
     "metadata": {},
     "output_type": "display_data"
    },
    {
     "name": "stdout",
     "output_type": "stream",
     "text": [
      "+-------+-----------------+----------+--------------------+------+--------------+-------+-----------------+\n",
      "|User_Id|User_CreationDate|Comment_Id|Comment_CreationDate|PostId|Comment_UserId|Post_Id|Post_CreationDate|\n",
      "+-------+-----------------+----------+--------------------+------+--------------+-------+-----------------+\n",
      "+-------+-----------------+----------+--------------------+------+--------------+-------+-----------------+"
     ]
    }
   ],
   "source": [
    "# checking on NULL values\n",
    "\n",
    "UCP_join_DF.where(UCP_join_DF.User_CreationDate.isNull()).show()"
   ]
  },
  {
   "cell_type": "code",
   "execution_count": 26,
   "id": "150751d2",
   "metadata": {},
   "outputs": [
    {
     "data": {
      "application/vnd.jupyter.widget-view+json": {
       "model_id": "",
       "version_major": 2,
       "version_minor": 0
      },
      "text/plain": [
       "FloatProgress(value=0.0, bar_style='info', description='Progress:', layout=Layout(height='25px', width='50%'),…"
      ]
     },
     "metadata": {},
     "output_type": "display_data"
    }
   ],
   "source": [
    "# extract difference in creation date between User_CreationDate and Comment_CreationDate/Post_CreationDate using Spark SQL\n",
    "\n",
    "UCP_join_DF.createOrReplaceTempView(\"UCP_join_DF\")\n",
    "\n",
    "ForumTime_DF = spark.sql(\"SELECT User_Id, CASE WHEN DATEDIFF(DAY,User_CreationDate,Comment_CreationDate) > DATEDIFF(DAY,User_CreationDate,Post_CreationDate) THEN DATEDIFF(DAY,User_CreationDate,Comment_CreationDate) ELSE DATEDIFF(DAY,User_CreationDate,Post_CreationDate) END AS ForumTime FROM UCP_join_DF WHERE User_Id != '-1' ORDER BY ForumTime DESC\")"
   ]
  },
  {
   "cell_type": "code",
   "execution_count": 27,
   "id": "6592a17f",
   "metadata": {},
   "outputs": [
    {
     "data": {
      "application/vnd.jupyter.widget-view+json": {
       "model_id": "",
       "version_major": 2,
       "version_minor": 0
      },
      "text/plain": [
       "FloatProgress(value=0.0, bar_style='info', description='Progress:', layout=Layout(height='25px', width='50%'),…"
      ]
     },
     "metadata": {},
     "output_type": "display_data"
    }
   ],
   "source": [
    "# add row number to ForumTime_DF using window function\n",
    "\n",
    "windowSpec = Window.partitionBy(\"User_Id\").orderBy(f.desc(\"ForumTime\"))\n",
    "\n",
    "ForumTime_DF2 = ForumTime_DF.withColumn(\"rownum\", f.row_number()\\\n",
    "                                        .over(windowSpec)).orderBy(f.asc(\"rownum\"),f.desc(\"ForumTime\")).limit(10)\n",
    "\n",
    "ForumTime_DF3 = ForumTime_DF2.select(\"User_Id\",\"ForumTime\").toPandas()"
   ]
  },
  {
   "cell_type": "code",
   "execution_count": 28,
   "id": "e55acaa4",
   "metadata": {},
   "outputs": [
    {
     "data": {
      "application/vnd.jupyter.widget-view+json": {
       "model_id": "",
       "version_major": 2,
       "version_minor": 0
      },
      "text/plain": [
       "FloatProgress(value=0.0, bar_style='info', description='Progress:', layout=Layout(height='25px', width='50%'),…"
      ]
     },
     "metadata": {},
     "output_type": "display_data"
    },
    {
     "data": {
      "image/png": "[encoded data removed]",
      "text/plain": [
       "<IPython.core.display.Image object>"
      ]
     },
     "metadata": {},
     "output_type": "display_data"
    }
   ],
   "source": [
    "# create barplot\n",
    "\n",
    "forum_time = ForumTime_DF3[\"ForumTime\"]\n",
    "\n",
    "\n",
    "fig, ax = plt.subplots()\n",
    "ax.bar(range(len(ForumTime_DF3.User_Id)), ForumTime_DF3.ForumTime, width=0.8, color='c')\n",
    "\n",
    "for i, v in enumerate(forum_time):\n",
    "    ax.text(i, v + 0.5, str(v), ha=\"center\")\n",
    "\n",
    "ax.set_title(\"TOP10 longest active users forum time\")\n",
    "ax.set_xlabel(\"User_Id\")\n",
    "ax.set_ylabel(\"ForumTime in days\")\n",
    "ax.set_xticks(range(len(ForumTime_DF3.User_Id)))\n",
    "ax.set_xticklabels(ForumTime_DF3.User_Id)\n",
    "\n",
    "    \n",
    "%matplot plt"
   ]
  },
  {
   "cell_type": "code",
   "execution_count": 29,
   "id": "c3588568",
   "metadata": {},
   "outputs": [
    {
     "data": {
      "application/vnd.jupyter.widget-view+json": {
       "model_id": "",
       "version_major": 2,
       "version_minor": 0
      },
      "text/plain": [
       "FloatProgress(value=0.0, bar_style='info', description='Progress:', layout=Layout(height='25px', width='50%'),…"
      ]
     },
     "metadata": {},
     "output_type": "display_data"
    },
    {
     "name": "stdout",
     "output_type": "stream",
     "text": [
      "+-------+---------+\n",
      "|User_Id|ForumTime|\n",
      "+-------+---------+\n",
      "|    162|     2588|\n",
      "|    854|     2527|\n",
      "|    903|     2451|\n",
      "|     48|     2431|\n",
      "|    132|     2429|\n",
      "|     40|     2396|\n",
      "|   2338|     2390|\n",
      "|   1570|     2389|\n",
      "|     26|     2364|\n",
      "|    360|     2364|\n",
      "+-------+---------+"
     ]
    }
   ],
   "source": [
    "# compare barplot with DataFrame\n",
    "\n",
    "ForumTime_DF2.select(\"User_Id\",\"ForumTime\").show()"
   ]
  },
  {
   "cell_type": "markdown",
   "id": "5d2cc994",
   "metadata": {},
   "source": [
    "### c) comparison of the highest and lowest rated questions (length, tags, number of answers)"
   ]
  },
  {
   "cell_type": "code",
   "execution_count": 30,
   "id": "0fe03f02",
   "metadata": {
    "scrolled": true
   },
   "outputs": [
    {
     "data": {
      "application/vnd.jupyter.widget-view+json": {
       "model_id": "",
       "version_major": 2,
       "version_minor": 0
      },
      "text/plain": [
       "FloatProgress(value=0.0, bar_style='info', description='Progress:', layout=Layout(height='25px', width='50%'),…"
      ]
     },
     "metadata": {},
     "output_type": "display_data"
    },
    {
     "name": "stdout",
     "output_type": "stream",
     "text": [
      "+----------+----------+\n",
      "|max(Score)|min(Score)|\n",
      "+----------+----------+\n",
      "|        59|        -5|\n",
      "+----------+----------+"
     ]
    }
   ],
   "source": [
    "# check max&min questions score (qestions: PostTypeId==1)\n",
    "\n",
    "Posts_DF.where(Posts_DF.PostTypeId==1).select(f.max(Posts_DF.Score),f.min(Posts_DF.Score)).show()"
   ]
  },
  {
   "cell_type": "code",
   "execution_count": 31,
   "id": "9d922dbe",
   "metadata": {},
   "outputs": [
    {
     "data": {
      "application/vnd.jupyter.widget-view+json": {
       "model_id": "",
       "version_major": 2,
       "version_minor": 0
      },
      "text/plain": [
       "FloatProgress(value=0.0, bar_style='info', description='Progress:', layout=Layout(height='25px', width='50%'),…"
      ]
     },
     "metadata": {},
     "output_type": "display_data"
    }
   ],
   "source": [
    "# collect records with max&min \"Score\" values\n",
    "\n",
    "Posts_DF_max = Posts_DF.where(Posts_DF.PostTypeId==1).agg(f.max(\"Score\")).collect()[0][0]\n",
    "Posts_DF_min = Posts_DF.where(Posts_DF.PostTypeId==1).agg(f.min(\"Score\")).collect()[0][0]"
   ]
  },
  {
   "cell_type": "code",
   "execution_count": 32,
   "id": "162e19ab",
   "metadata": {},
   "outputs": [
    {
     "data": {
      "application/vnd.jupyter.widget-view+json": {
       "model_id": "",
       "version_major": 2,
       "version_minor": 0
      },
      "text/plain": [
       "FloatProgress(value=0.0, bar_style='info', description='Progress:', layout=Layout(height='25px', width='50%'),…"
      ]
     },
     "metadata": {},
     "output_type": "display_data"
    }
   ],
   "source": [
    "Posts_DF_questions = Posts_DF.select(\"Id\",\"PostTypeID\",\"Body\",\"AnswerCount\",\"Tags\",\"Score\")\\\n",
    "                             .filter((f.col(\"Score\") == Posts_DF_max) | (f.col(\"Score\") == Posts_DF_min))"
   ]
  },
  {
   "cell_type": "code",
   "execution_count": 33,
   "id": "5a7ebf99",
   "metadata": {},
   "outputs": [
    {
     "data": {
      "application/vnd.jupyter.widget-view+json": {
       "model_id": "",
       "version_major": 2,
       "version_minor": 0
      },
      "text/plain": [
       "FloatProgress(value=0.0, bar_style='info', description='Progress:', layout=Layout(height='25px', width='50%'),…"
      ]
     },
     "metadata": {},
     "output_type": "display_data"
    }
   ],
   "source": [
    "# add new columns - question length and tags count\n",
    "\n",
    "Posts_DF_all=Posts_DF_questions.withColumn(\"BodyLength\",f.length(Posts_DF_questions.Body))\\\n",
    "                               .withColumn(\"TagsCount\",f.size(f.split(f.col(\"Tags\"), \",\")).alias(\"TagCount\"))"
   ]
  },
  {
   "cell_type": "code",
   "execution_count": 34,
   "id": "74c73c12",
   "metadata": {},
   "outputs": [
    {
     "data": {
      "application/vnd.jupyter.widget-view+json": {
       "model_id": "",
       "version_major": 2,
       "version_minor": 0
      },
      "text/plain": [
       "FloatProgress(value=0.0, bar_style='info', description='Progress:', layout=Layout(height='25px', width='50%'),…"
      ]
     },
     "metadata": {},
     "output_type": "display_data"
    },
    {
     "name": "stdout",
     "output_type": "stream",
     "text": [
      "+---+----------+----------+-----+------------------------------------+---------+-----------+\n",
      "|Id |PostTypeID|BodyLength|Score|Tags                                |TagsCount|AnswerCount|\n",
      "+---+----------+----------+-----+------------------------------------+---------+-----------+\n",
      "|11 |1         |231       |59   |filament,pla,post-processing,surface|4        |9          |\n",
      "|28 |1         |223       |-5   |cost,estimation                     |2        |1          |\n",
      "+---+----------+----------+-----+------------------------------------+---------+-----------+"
     ]
    }
   ],
   "source": [
    "Posts_DF_all.select(\"Id\",\"PostTypeID\",\"BodyLength\",\"Score\",\"Tags\",\"TagsCount\",\"AnswerCount\").show(truncate=False) "
   ]
  },
  {
   "cell_type": "markdown",
   "id": "64d77378",
   "metadata": {},
   "source": [
    "### d) percentage of cases where the highest-rated answer is unaccepted answer"
   ]
  },
  {
   "cell_type": "code",
   "execution_count": 35,
   "id": "4aedd462",
   "metadata": {},
   "outputs": [
    {
     "data": {
      "application/vnd.jupyter.widget-view+json": {
       "model_id": "",
       "version_major": 2,
       "version_minor": 0
      },
      "text/plain": [
       "FloatProgress(value=0.0, bar_style='info', description='Progress:', layout=Layout(height='25px', width='50%'),…"
      ]
     },
     "metadata": {},
     "output_type": "display_data"
    }
   ],
   "source": [
    "# create answers DatFrame (answers: PostTypeId==2)\n",
    "\n",
    "Posts_DF_A=Posts_DF.select(f.col(\"Id\").alias(\"AnswerId\"),f.col(\"Score\").alias(\"AnswerScore\")\\\n",
    "                           ,f.col(\"ParentId\").alias(\"QuestionId\")).where(Posts_DF.PostTypeId==2)"
   ]
  },
  {
   "cell_type": "code",
   "execution_count": 36,
   "id": "f81a6971",
   "metadata": {},
   "outputs": [
    {
     "data": {
      "application/vnd.jupyter.widget-view+json": {
       "model_id": "",
       "version_major": 2,
       "version_minor": 0
      },
      "text/plain": [
       "FloatProgress(value=0.0, bar_style='info', description='Progress:', layout=Layout(height='25px', width='50%'),…"
      ]
     },
     "metadata": {},
     "output_type": "display_data"
    }
   ],
   "source": [
    "# create questions with answers DataFrame (qestions: PostTypeId==1)\n",
    "\n",
    "Posts_DF_Q = Posts_DF.select(f.col(\"Id\").alias(\"QuestionId\"),f.col(\"Score\").alias(\"QuestionScore\")\\\n",
    "                             ,\"AcceptedAnswerId\").where(Posts_DF.PostTypeId==1)"
   ]
  },
  {
   "cell_type": "code",
   "execution_count": 37,
   "id": "7a698111",
   "metadata": {},
   "outputs": [
    {
     "data": {
      "application/vnd.jupyter.widget-view+json": {
       "model_id": "",
       "version_major": 2,
       "version_minor": 0
      },
      "text/plain": [
       "FloatProgress(value=0.0, bar_style='info', description='Progress:', layout=Layout(height='25px', width='50%'),…"
      ]
     },
     "metadata": {},
     "output_type": "display_data"
    },
    {
     "name": "stdout",
     "output_type": "stream",
     "text": [
      "+----------+----------------+--------+-----------+\n",
      "|QuestionId|AcceptedAnswerId|AnswerId|AnswerScore|\n",
      "+----------+----------------+--------+-----------+\n",
      "|         1|              51|      51|          8|\n",
      "|         1|              51|    4853|          2|\n",
      "|         2|              12|       9|         18|\n",
      "|         2|              12|     176|         10|\n",
      "|         2|              12|      12|         23|\n",
      "|         2|              12|      15|          5|\n",
      "|         3|             152|     152|          9|\n",
      "|         3|             152|    2803|          1|\n",
      "|         3|             152|     145|          7|\n",
      "|         4|            1289|    1289|          6|\n",
      "|         4|            1289|      17|          5|\n",
      "|         4|            1289|     248|          5|\n",
      "|         4|            1289|    1288|          4|\n",
      "|         5|              77|    1050|          8|\n",
      "|         5|              77|    1060|          2|\n",
      "|         5|              77|    1095|          3|\n",
      "|         5|              77|      77|         29|\n",
      "|         5|              77|    4408|          2|\n",
      "|         6|              27|      90|          7|\n",
      "|         6|              27|     283|          5|\n",
      "+----------+----------------+--------+-----------+\n",
      "only showing top 20 rows"
     ]
    }
   ],
   "source": [
    "# join questions DF and answers DF\n",
    "\n",
    "Posts_DF_QA = Posts_DF_Q.join(Posts_DF_A, Posts_DF_Q.QuestionId==Posts_DF_A.QuestionId)\\\n",
    "              .select(Posts_DF_Q.QuestionId,\"AcceptedAnswerId\",\"AnswerId\",\"AnswerScore\").orderBy(f.asc(\"QuestionId\"))\n",
    "\n",
    "Posts_DF_QA.show()"
   ]
  },
  {
   "cell_type": "code",
   "execution_count": 38,
   "id": "03d6a975",
   "metadata": {},
   "outputs": [
    {
     "data": {
      "application/vnd.jupyter.widget-view+json": {
       "model_id": "",
       "version_major": 2,
       "version_minor": 0
      },
      "text/plain": [
       "FloatProgress(value=0.0, bar_style='info', description='Progress:', layout=Layout(height='25px', width='50%'),…"
      ]
     },
     "metadata": {},
     "output_type": "display_data"
    }
   ],
   "source": [
    "# add row number to Posts_DF_QA\n",
    "\n",
    "windowSpec = Window.partitionBy(\"QuestionId\").orderBy(f.desc(\"AnswerScore\"))\n",
    "Posts_DF_QA_RN = Posts_DF_QA.withColumn(\"row_num\",f.row_number().over(windowSpec))"
   ]
  },
  {
   "cell_type": "code",
   "execution_count": 39,
   "id": "7ccd0299",
   "metadata": {},
   "outputs": [
    {
     "data": {
      "application/vnd.jupyter.widget-view+json": {
       "model_id": "",
       "version_major": 2,
       "version_minor": 0
      },
      "text/plain": [
       "FloatProgress(value=0.0, bar_style='info', description='Progress:', layout=Layout(height='25px', width='50%'),…"
      ]
     },
     "metadata": {},
     "output_type": "display_data"
    }
   ],
   "source": [
    "# count highest scored not accepted answers\n",
    "\n",
    "Q_notAccepted_HS = Posts_DF_QA_RN.where((Posts_DF_QA_RN.AcceptedAnswerId.isNull()) & (Posts_DF_QA_RN.row_num==1)).count()"
   ]
  },
  {
   "cell_type": "code",
   "execution_count": 40,
   "id": "d436fef0",
   "metadata": {},
   "outputs": [
    {
     "data": {
      "application/vnd.jupyter.widget-view+json": {
       "model_id": "",
       "version_major": 2,
       "version_minor": 0
      },
      "text/plain": [
       "FloatProgress(value=0.0, bar_style='info', description='Progress:', layout=Layout(height='25px', width='50%'),…"
      ]
     },
     "metadata": {},
     "output_type": "display_data"
    }
   ],
   "source": [
    "# count all questions with answers\n",
    "\n",
    "QA_all = Posts_DF.where((Posts_DF.AnswerCount > 0) & (Posts_DF.PostTypeId==1)).count()"
   ]
  },
  {
   "cell_type": "code",
   "execution_count": 41,
   "id": "b694323d",
   "metadata": {},
   "outputs": [
    {
     "data": {
      "application/vnd.jupyter.widget-view+json": {
       "model_id": "",
       "version_major": 2,
       "version_minor": 0
      },
      "text/plain": [
       "FloatProgress(value=0.0, bar_style='info', description='Progress:', layout=Layout(height='25px', width='50%'),…"
      ]
     },
     "metadata": {},
     "output_type": "display_data"
    },
    {
     "name": "stdout",
     "output_type": "stream",
     "text": [
      "Percentage of cases where the highest-rated answer is unaccepted answer: 48.56%"
     ]
    }
   ],
   "source": [
    "result=round((Q_notAccepted_HS/QA_all*100),2)\n",
    "print(f\"Percentage of cases where the highest-rated answer is unaccepted answer: {result}%\")"
   ]
  },
  {
   "cell_type": "markdown",
   "id": "70e37bad",
   "metadata": {},
   "source": [
    "### e) distribution of accepted answers vs. other answers (avg, deviation, min, max)"
   ]
  },
  {
   "cell_type": "markdown",
   "id": "4c8c4db9",
   "metadata": {},
   "source": [
    "#### based on Posts_DF_QA DataFrame from point d"
   ]
  },
  {
   "cell_type": "code",
   "execution_count": 42,
   "id": "5f065f97",
   "metadata": {},
   "outputs": [
    {
     "data": {
      "application/vnd.jupyter.widget-view+json": {
       "model_id": "",
       "version_major": 2,
       "version_minor": 0
      },
      "text/plain": [
       "FloatProgress(value=0.0, bar_style='info', description='Progress:', layout=Layout(height='25px', width='50%'),…"
      ]
     },
     "metadata": {},
     "output_type": "display_data"
    },
    {
     "name": "stdout",
     "output_type": "stream",
     "text": [
      "+------------+---------+---------+---------+---------+\n",
      "|answers type|max_score|min_score|avg_score|std_score|\n",
      "+------------+---------+---------+---------+---------+\n",
      "|    accepted|       50|       -4|     3.04|     3.55|\n",
      "+------------+---------+---------+---------+---------+"
     ]
    }
   ],
   "source": [
    "# accepted answers\n",
    "\n",
    "A_accepted = Posts_DF_QA.where(Posts_DF_QA.AcceptedAnswerId.isNotNull()).\\\n",
    "                  select(f.max(Posts_DF_QA.AnswerScore).alias(\"max_score\"),\\\n",
    "                  f.min(Posts_DF_QA.AnswerScore).alias(\"min_score\"),\\\n",
    "                  f.avg(Posts_DF_QA.AnswerScore).alias(\"avg_score\"),\\\n",
    "                  f.stddev(Posts_DF_QA.AnswerScore).alias(\"std_score\"))\\\n",
    "                  .withColumn(\"answers type\", f.lit(\"accepted\"))\n",
    "\n",
    "A_accepted2 = A_accepted.select(\"answers type\",\"max_score\",\"min_score\",f.round(\"avg_score\",scale=2)\\\n",
    "                                .alias(\"avg_score\"),f.round(\"std_score\",scale=2).alias(\"std_score\"))\n",
    "\n",
    "A_accepted2.show()"
   ]
  },
  {
   "cell_type": "code",
   "execution_count": 43,
   "id": "1d70a3cb",
   "metadata": {},
   "outputs": [
    {
     "data": {
      "application/vnd.jupyter.widget-view+json": {
       "model_id": "",
       "version_major": 2,
       "version_minor": 0
      },
      "text/plain": [
       "FloatProgress(value=0.0, bar_style='info', description='Progress:', layout=Layout(height='25px', width='50%'),…"
      ]
     },
     "metadata": {},
     "output_type": "display_data"
    },
    {
     "name": "stdout",
     "output_type": "stream",
     "text": [
      "+------------+---------+---------+---------+---------+\n",
      "|answers type|max_score|min_score|avg_score|std_score|\n",
      "+------------+---------+---------+---------+---------+\n",
      "|not accepted|       20|       -6|     1.85|     1.96|\n",
      "+------------+---------+---------+---------+---------+"
     ]
    }
   ],
   "source": [
    "# not accepted answers\n",
    "\n",
    "A_not_accepted = Posts_DF_QA.where(Posts_DF_QA.AcceptedAnswerId.isNull()).\\\n",
    "                  select(f.max(Posts_DF_QA.AnswerScore).alias(\"max_score\"),\\\n",
    "                  f.min(Posts_DF_QA.AnswerScore).alias(\"min_score\"),\\\n",
    "                  f.avg(Posts_DF_QA.AnswerScore).alias(\"avg_score\"),\\\n",
    "                  f.stddev(Posts_DF_QA.AnswerScore).alias(\"std_score\"))\\\n",
    "                  .withColumn(\"answers type\", f.lit(\"not accepted\"))\n",
    "\n",
    "A_not_accepted2 = A_not_accepted.select(\"answers type\",\"max_score\",\"min_score\",f.round(\"avg_score\",scale=2)\\\n",
    "                                        .alias(\"avg_score\"),f.round(\"std_score\",scale=2).alias(\"std_score\"))\n",
    "\n",
    "A_not_accepted2.show()"
   ]
  },
  {
   "cell_type": "code",
   "execution_count": 44,
   "id": "2cdcb302",
   "metadata": {},
   "outputs": [
    {
     "data": {
      "application/vnd.jupyter.widget-view+json": {
       "model_id": "",
       "version_major": 2,
       "version_minor": 0
      },
      "text/plain": [
       "FloatProgress(value=0.0, bar_style='info', description='Progress:', layout=Layout(height='25px', width='50%'),…"
      ]
     },
     "metadata": {},
     "output_type": "display_data"
    },
    {
     "name": "stdout",
     "output_type": "stream",
     "text": [
      "+------------+---------+---------+---------+---------+\n",
      "|answers type|max_score|min_score|avg_score|std_score|\n",
      "+------------+---------+---------+---------+---------+\n",
      "|    accepted|       50|       -4|     3.04|     3.55|\n",
      "|not accepted|       20|       -6|     1.85|     1.96|\n",
      "+------------+---------+---------+---------+---------+"
     ]
    }
   ],
   "source": [
    "# dsiplay above DataFrames together\n",
    "\n",
    "DF_final = A_accepted2.union(A_not_accepted2)\n",
    "DF_final.show()"
   ]
  },
  {
   "cell_type": "markdown",
   "id": "1100de91",
   "metadata": {},
   "source": [
    "### f) top N tags that generated the most views"
   ]
  },
  {
   "cell_type": "code",
   "execution_count": 45,
   "id": "4b8f8493",
   "metadata": {},
   "outputs": [
    {
     "data": {
      "application/vnd.jupyter.widget-view+json": {
       "model_id": "",
       "version_major": 2,
       "version_minor": 0
      },
      "text/plain": [
       "FloatProgress(value=0.0, bar_style='info', description='Progress:', layout=Layout(height='25px', width='50%'),…"
      ]
     },
     "metadata": {},
     "output_type": "display_data"
    },
    {
     "name": "stdout",
     "output_type": "stream",
     "text": [
      "+-------------------------------------------------------+---------+\n",
      "|Tags                                                   |ViewCount|\n",
      "+-------------------------------------------------------+---------+\n",
      "|marlin,creality-ender-3,homing                         |123629   |\n",
      "|maintenance                                            |114469   |\n",
      "|filament,pla,post-processing,surface                   |93372    |\n",
      "|creality-ender-3,cost                                  |89424    |\n",
      "|rafts,brims                                            |81936    |\n",
      "|nozzle,y-axis,creality-ender-3                         |74631    |\n",
      "|g-code                                                 |74128    |\n",
      "|pla,heated-bed,warping                                 |69716    |\n",
      "|calibration                                            |69525    |\n",
      "|heated-bed,calibration,build-plate,knowledgebase,homing|69186    |\n",
      "+-------------------------------------------------------+---------+"
     ]
    }
   ],
   "source": [
    "# get TOP 10 tags with most views - first method\n",
    "\n",
    "Tags_view = Posts_DF.select(\"Tags\",\"ViewCount\").orderBy(f.desc(\"ViewCount\")).limit(10)\n",
    "Tags_view.show(truncate=False)"
   ]
  },
  {
   "cell_type": "code",
   "execution_count": 46,
   "id": "ed1e3803",
   "metadata": {},
   "outputs": [
    {
     "data": {
      "application/vnd.jupyter.widget-view+json": {
       "model_id": "",
       "version_major": 2,
       "version_minor": 0
      },
      "text/plain": [
       "FloatProgress(value=0.0, bar_style='info', description='Progress:', layout=Layout(height='25px', width='50%'),…"
      ]
     },
     "metadata": {},
     "output_type": "display_data"
    },
    {
     "name": "stdout",
     "output_type": "stream",
     "text": [
      "+-------------------------------------------------------+---------+\n",
      "|Tags                                                   |ViewCount|\n",
      "+-------------------------------------------------------+---------+\n",
      "|marlin,creality-ender-3,homing                         |123629   |\n",
      "|maintenance                                            |114469   |\n",
      "|filament,pla,post-processing,surface                   |93372    |\n",
      "|creality-ender-3,cost                                  |89424    |\n",
      "|rafts,brims                                            |81936    |\n",
      "|nozzle,y-axis,creality-ender-3                         |74631    |\n",
      "|g-code                                                 |74128    |\n",
      "|pla,heated-bed,warping                                 |69716    |\n",
      "|calibration                                            |69525    |\n",
      "|heated-bed,calibration,build-plate,knowledgebase,homing|69186    |\n",
      "+-------------------------------------------------------+---------+\n",
      "only showing top 10 rows"
     ]
    }
   ],
   "source": [
    "# get TOP 10 tags with most views - second method using Spark SQL\n",
    "\n",
    "Posts_DF.createOrReplaceTempView(\"Posts_DF\")\n",
    "\n",
    "spark.sql(\"SELECT Tags,ViewCount FROM Posts_DF ORDER BY ViewCount DESC\").show(10, truncate=False)"
   ]
  },
  {
   "cell_type": "markdown",
   "id": "1573ab03",
   "metadata": {},
   "source": [
    "### g) number of posts over time for each of the top N tags (lineplot/barplot)"
   ]
  },
  {
   "cell_type": "code",
   "execution_count": 47,
   "id": "59713f82",
   "metadata": {},
   "outputs": [
    {
     "data": {
      "application/vnd.jupyter.widget-view+json": {
       "model_id": "",
       "version_major": 2,
       "version_minor": 0
      },
      "text/plain": [
       "FloatProgress(value=0.0, bar_style='info', description='Progress:', layout=Layout(height='25px', width='50%'),…"
      ]
     },
     "metadata": {},
     "output_type": "display_data"
    },
    {
     "name": "stdout",
     "output_type": "stream",
     "text": [
      "+----------------+-----+\n",
      "|         TagName|Count|\n",
      "+----------------+-----+\n",
      "|creality-ender-3|  673|\n",
      "|          marlin|  490|\n",
      "|   print-quality|  471|\n",
      "+----------------+-----+"
     ]
    }
   ],
   "source": [
    "# check TOP 3 tags\n",
    "\n",
    "Tags_DF_TOP3=Tags_DF.select(\"TagName\",\"Count\").orderBy(Tags_DF.Count.desc()).limit(3)\n",
    "Tags_DF_TOP3.show()"
   ]
  },
  {
   "cell_type": "code",
   "execution_count": 48,
   "id": "8ba6ca97",
   "metadata": {},
   "outputs": [
    {
     "data": {
      "application/vnd.jupyter.widget-view+json": {
       "model_id": "",
       "version_major": 2,
       "version_minor": 0
      },
      "text/plain": [
       "FloatProgress(value=0.0, bar_style='info', description='Progress:', layout=Layout(height='25px', width='50%'),…"
      ]
     },
     "metadata": {},
     "output_type": "display_data"
    },
    {
     "name": "stdout",
     "output_type": "stream",
     "text": [
      "-RECORD 0------------------------------------------------------------------------------------------------------------------------------------------------------------------------------------------------------------------------------------------------------------------------------------------------------------\n",
      " AcceptedAnswerId      | 51                                                                                                                                                                                                                                                                                          \n",
      " AnswerCount           | 2                                                                                                                                                                                                                                                                                           \n",
      " Body                  | When I've printed an object I've had to choose between high resolution and quick prints. What techniques or technologies can I use or deploy to speed up my high resolution prints?                                                                                                         \n",
      " ClosedDate            | null                                                                                                                                                                                                                                                                                        \n",
      " CommentCount          | 6                                                                                                                                                                                                                                                                                           \n",
      " CommunityOwnedDate    | null                                                                                                                                                                                                                                                                                        \n",
      " ContentLicense        | CC BY-SA 3.0                                                                                                                                                                                                                                                                                \n",
      " CreationDate          | 2016-01-12 18:45:19.963                                                                                                                                                                                                                                                                     \n",
      " FavoriteCount         | null                                                                                                                                                                                                                                                                                        \n",
      " Id                    | 1                                                                                                                                                                                                                                                                                           \n",
      " LastActivityDate      | 2017-10-31 02:31:08.56                                                                                                                                                                                                                                                                      \n",
      " LastEditDate          | null                                                                                                                                                                                                                                                                                        \n",
      " LastEditorDisplayName | null                                                                                                                                                                                                                                                                                        \n",
      " LastEditorUserId      | null                                                                                                                                                                                                                                                                                        \n",
      " OwnerDisplayName      | null                                                                                                                                                                                                                                                                                        \n",
      " OwnerUserId           | 16                                                                                                                                                                                                                                                                                          \n",
      " ParentId              | null                                                                                                                                                                                                                                                                                        \n",
      " PostTypeId            | 1                                                                                                                                                                                                                                                                                           \n",
      " Score                 | 10                                                                                                                                                                                                                                                                                          \n",
      " Tags                  | resolution,speed,quality                                                                                                                                                                                                                                                                    \n",
      " Title                 | How to obtain high resolution prints in a shorter period of time?                                                                                                                                                                                                                           \n",
      " ViewCount             | 409                                                                                                                                                                                                                                                                                         \n",
      " CreationYear          | 2016                                                                                                                                                                                                                                                                                        \n",
      "-RECORD 1------------------------------------------------------------------------------------------------------------------------------------------------------------------------------------------------------------------------------------------------------------------------------------------------------------\n",
      " AcceptedAnswerId      | 12                                                                                                                                                                                                                                                                                          \n",
      " AnswerCount           | 4                                                                                                                                                                                                                                                                                           \n",
      " Body                  | I would like to buy a 3D printer, but I'm concerned about the health risks that are associated with its operation. Some groups of scientists say it can be harmful for humans.What do I need to consider before buying a 3D printer if I care about my health? Are there any safe printers? \n",
      " ClosedDate            | null                                                                                                                                                                                                                                                                                        \n",
      " CommentCount          | 1                                                                                                                                                                                                                                                                                           \n",
      " CommunityOwnedDate    | null                                                                                                                                                                                                                                                                                        \n",
      " ContentLicense        | CC BY-SA 3.0                                                                                                                                                                                                                                                                                \n",
      " CreationDate          | 2016-01-12 18:45:51.287                                                                                                                                                                                                                                                                     \n",
      " FavoriteCount         | null                                                                                                                                                                                                                                                                                        \n",
      " Id                    | 2                                                                                                                                                                                                                                                                                           \n",
      " LastActivityDate      | 2019-06-10 23:18:34.19                                                                                                                                                                                                                                                                      \n",
      " LastEditDate          | 2016-11-15 16:16:11.163                                                                                                                                                                                                                                                                     \n",
      " LastEditorDisplayName | null                                                                                                                                                                                                                                                                                        \n",
      " LastEditorUserId      | 334                                                                                                                                                                                                                                                                                         \n",
      " OwnerDisplayName      | null                                                                                                                                                                                                                                                                                        \n",
      " OwnerUserId           | 20                                                                                                                                                                                                                                                                                          \n",
      " ParentId              | null                                                                                                                                                                                                                                                                                        \n",
      " PostTypeId            | 1                                                                                                                                                                                                                                                                                           \n",
      " Score                 | 33                                                                                                                                                                                                                                                                                          \n",
      " Tags                  | print-material,safety,health                                                                                                                                                                                                                                                                \n",
      " Title                 | Is 3D printing safe for your health?                                                                                                                                                                                                                                                        \n",
      " ViewCount             | 7149                                                                                                                                                                                                                                                                                        \n",
      " CreationYear          | 2016                                                                                                                                                                                                                                                                                        \n",
      "only showing top 2 rows"
     ]
    }
   ],
   "source": [
    "# add \"CreationYear\" column to Posts_DF\n",
    " \n",
    "Posts_DF_year = Posts_DF.withColumn(\"CreationYear\",year(Posts_DF.CreationDate))\n",
    "Posts_DF_year.show(2,vertical=True,truncate=False)"
   ]
  },
  {
   "cell_type": "code",
   "execution_count": 49,
   "id": "93002e51",
   "metadata": {},
   "outputs": [
    {
     "data": {
      "application/vnd.jupyter.widget-view+json": {
       "model_id": "",
       "version_major": 2,
       "version_minor": 0
      },
      "text/plain": [
       "FloatProgress(value=0.0, bar_style='info', description='Progress:', layout=Layout(height='25px', width='50%'),…"
      ]
     },
     "metadata": {},
     "output_type": "display_data"
    },
    {
     "name": "stdout",
     "output_type": "stream",
     "text": [
      "+----------------------------------------+------------+\n",
      "|Tags                                    |CreationYear|\n",
      "+----------------------------------------+------------+\n",
      "|resolution,speed,quality                |2016        |\n",
      "|print-material,safety,health            |2016        |\n",
      "|quality,resolution                      |2016        |\n",
      "|fdm,material,print-material,metal-parts |2016        |\n",
      "|filament,abs,fdm,pla                    |2016        |\n",
      "|filament,makerbot,dual-nozzle,color     |2016        |\n",
      "|null                                    |2016        |\n",
      "|null                                    |2016        |\n",
      "|null                                    |2016        |\n",
      "|material,fdm,outdoors                   |2016        |\n",
      "|filament,pla,post-processing,surface    |2016        |\n",
      "|null                                    |2016        |\n",
      "|quality,resolution,fdm                  |2016        |\n",
      "|filament,metal-parts                    |2016        |\n",
      "|null                                    |2016        |\n",
      "|post-processing                         |2016        |\n",
      "|null                                    |2016        |\n",
      "|null                                    |2016        |\n",
      "|support-structures,post-processing,rafts|2016        |\n",
      "|rafts,brims                             |2016        |\n",
      "+----------------------------------------+------------+\n",
      "only showing top 20 rows"
     ]
    }
   ],
   "source": [
    "# reduce number of columns (can be skipped)\n",
    "\n",
    "Posts_DF_year2=Posts_DF_year.select(\"Tags\",\"CreationYear\")\n",
    "Posts_DF_year2.show(truncate=False)"
   ]
  },
  {
   "cell_type": "code",
   "execution_count": 50,
   "id": "623a2c0a",
   "metadata": {},
   "outputs": [
    {
     "data": {
      "application/vnd.jupyter.widget-view+json": {
       "model_id": "",
       "version_major": 2,
       "version_minor": 0
      },
      "text/plain": [
       "FloatProgress(value=0.0, bar_style='info', description='Progress:', layout=Layout(height='25px', width='50%'),…"
      ]
     },
     "metadata": {},
     "output_type": "display_data"
    }
   ],
   "source": [
    "# create DataFrames for each of TOP 3 tags\n",
    "\n",
    "posts_count_over_time_top1 = Posts_DF_year.where(Posts_DF_year.Tags.like(\"%creality-ender-3%\"))\\\n",
    "                                           .groupBy(\"CreationYear\").count().orderBy(\"CreationYear\").toPandas()\n",
    "\n",
    "posts_count_over_time_top2 = Posts_DF_year.where(Posts_DF_year.Tags.like(\"%marlin%\"))\\\n",
    "                                           .groupBy(\"CreationYear\").count().orderBy(\"CreationYear\").toPandas()\n",
    "\n",
    "posts_count_over_time_top3 = Posts_DF_year.where(Posts_DF_year.Tags.like(\"%print-quality%\"))\\\n",
    "                                           .groupBy(\"CreationYear\").count().orderBy(\"CreationYear\").toPandas()"
   ]
  },
  {
   "cell_type": "code",
   "execution_count": 51,
   "id": "be56779d",
   "metadata": {},
   "outputs": [
    {
     "data": {
      "application/vnd.jupyter.widget-view+json": {
       "model_id": "",
       "version_major": 2,
       "version_minor": 0
      },
      "text/plain": [
       "FloatProgress(value=0.0, bar_style='info', description='Progress:', layout=Layout(height='25px', width='50%'),…"
      ]
     },
     "metadata": {},
     "output_type": "display_data"
    },
    {
     "data": {
      "image/png": "[encoded data removed]",
      "text/plain": [
       "<IPython.core.display.Image object>"
      ]
     },
     "metadata": {},
     "output_type": "display_data"
    }
   ],
   "source": [
    "# lineplot\n",
    "\n",
    "plt.figure(figsize=(6,4))\n",
    "plt.plot(posts_count_over_time_top1[\"CreationYear\"], posts_count_over_time_top1[\"count\"], marker='o', label=\"creality-ender-3\")\n",
    "plt.plot(posts_count_over_time_top2[\"CreationYear\"], posts_count_over_time_top2[\"count\"], marker='o', label=\"marlin\")\n",
    "plt.plot(posts_count_over_time_top3[\"CreationYear\"], posts_count_over_time_top3[\"count\"], marker='o', label=\"print-quality\")\n",
    "plt.xlabel(\"Year\")\n",
    "plt.ylabel(\"Posts count\")\n",
    "plt.title(\"Number of posts over years for TOP 3 tags\")\n",
    "plt.xticks(rotation=45)\n",
    "plt.tight_layout()\n",
    "plt.legend()\n",
    "plt.show()\n",
    "%matplot plt"
   ]
  },
  {
   "cell_type": "markdown",
   "id": "9833a8b9",
   "metadata": {},
   "source": [
    "### h) most frequently appearing words in titles (excluding stopwords)"
   ]
  },
  {
   "cell_type": "code",
   "execution_count": 52,
   "id": "ecd5b6a5",
   "metadata": {},
   "outputs": [
    {
     "data": {
      "application/vnd.jupyter.widget-view+json": {
       "model_id": "",
       "version_major": 2,
       "version_minor": 0
      },
      "text/plain": [
       "FloatProgress(value=0.0, bar_style='info', description='Progress:', layout=Layout(height='25px', width='50%'),…"
      ]
     },
     "metadata": {},
     "output_type": "display_data"
    },
    {
     "name": "stdout",
     "output_type": "stream",
     "text": [
      "root\n",
      " |-- TitleArray: array (nullable = true)\n",
      " |    |-- element: string (containsNull = false)\n",
      "\n",
      "+--------------------------------------------------------------------------------------------+\n",
      "|TitleArray                                                                                  |\n",
      "+--------------------------------------------------------------------------------------------+\n",
      "|[How, to, obtain, high, resolution, prints, in, a, shorter, period, of, time]               |\n",
      "|[Is, 3D, printing, safe, for, your, health]                                                 |\n",
      "|[How, important, is, the, minimum, layer, height, on, a, 3d, printer]                       |\n",
      "|[Are, there, any, metals, that, exhibit, a, large, glass, state]                            |\n",
      "|[How, is, PLA, different, from, ABS, material]                                              |\n",
      "|[Multi-color, printing, with, desktop, 3D, printer]                                         |\n",
      "|[3D, printing, for, outdoor, use:, What, types, of, filament, are, most, weather, resistant]|\n",
      "|[How, do, I, give, 3D-printed, parts, in, PLA, a, shiny, smooth, finish]                    |\n",
      "|[Resolution, Drawbacks]                                                                     |\n",
      "|[How, to, print, metal-like, parts]                                                         |\n",
      "+--------------------------------------------------------------------------------------------+\n",
      "only showing top 10 rows"
     ]
    }
   ],
   "source": [
    "# clean \"Title\" column, transform string into array\n",
    "\n",
    "Posts_DF_array = Posts_DF.withColumn(\"Title\",f.regexp_replace(\"Title\",\"\\?\",\"\"))\\\n",
    "                           .withColumn(\"Title\",f.regexp_replace(\"Title\",\"\\\"\",\"\"))\\\n",
    "                           .select(f.split(f.col(\"Title\"),\" \").alias(\"TitleArray\"))\\\n",
    "                           .drop(\"Title\").dropna()\n",
    "\n",
    "\n",
    "Posts_DF_array.printSchema()\n",
    "\n",
    "Posts_DF_array.show(10,truncate=False)"
   ]
  },
  {
   "cell_type": "code",
   "execution_count": 53,
   "id": "ad4e5b89",
   "metadata": {},
   "outputs": [
    {
     "data": {
      "application/vnd.jupyter.widget-view+json": {
       "model_id": "",
       "version_major": 2,
       "version_minor": 0
      },
      "text/plain": [
       "FloatProgress(value=0.0, bar_style='info', description='Progress:', layout=Layout(height='25px', width='50%'),…"
      ]
     },
     "metadata": {},
     "output_type": "display_data"
    }
   ],
   "source": [
    "#stopwords remover\n",
    "\n",
    "swr = StopWordsRemover(inputCol=\"TitleArray\", outputCol=\"TitleCleaned\")\n",
    "\n",
    "Posts_DF_clean = swr.transform(Posts_DF_array)"
   ]
  },
  {
   "cell_type": "code",
   "execution_count": 54,
   "id": "93e4a6b9",
   "metadata": {},
   "outputs": [
    {
     "data": {
      "application/vnd.jupyter.widget-view+json": {
       "model_id": "",
       "version_major": 2,
       "version_minor": 0
      },
      "text/plain": [
       "FloatProgress(value=0.0, bar_style='info', description='Progress:', layout=Layout(height='25px', width='50%'),…"
      ]
     },
     "metadata": {},
     "output_type": "display_data"
    },
    {
     "name": "stdout",
     "output_type": "stream",
     "text": [
      "+--------------------+--------------------+\n",
      "|          TitleArray|        TitleCleaned|\n",
      "+--------------------+--------------------+\n",
      "|[How, to, obtain,...|[obtain, high, re...|\n",
      "|[Is, 3D, printing...|[3D, printing, sa...|\n",
      "|[How, important, ...|[important, minim...|\n",
      "|[Are, there, any,...|[metals, exhibit,...|\n",
      "|[How, is, PLA, di...|[PLA, different, ...|\n",
      "|[Multi-color, pri...|[Multi-color, pri...|\n",
      "|[3D, printing, fo...|[3D, printing, ou...|\n",
      "|[How, do, I, give...|[give, 3D-printed...|\n",
      "|[Resolution, Draw...|[Resolution, Draw...|\n",
      "|[How, to, print, ...|[print, metal-lik...|\n",
      "|[Are, there, any,...|[ways, make, 3D, ...|\n",
      "|[How, to, easily,...|[easily, get, rid...|\n",
      "|[What, are, main,...|[main, difference...|\n",
      "|[Is, the, weather...|[weather, problem...|\n",
      "|[How, to, 3D, pri...|   [3D, print, bike]|\n",
      "|[How, many, times...|[many, times, pri...|\n",
      "|[Printing, Plasti...|[Printing, Plasti...|\n",
      "|[Conversion, of, ...|[Conversion, 3, m...|\n",
      "|[Alternatives, to...|[Alternatives, Re...|\n",
      "|[What, are, the, ...|[reasons, 3D, pri...|\n",
      "+--------------------+--------------------+\n",
      "only showing top 20 rows"
     ]
    }
   ],
   "source": [
    "Posts_DF_clean.show()"
   ]
  },
  {
   "cell_type": "code",
   "execution_count": 55,
   "id": "68a8fa6c",
   "metadata": {},
   "outputs": [
    {
     "data": {
      "application/vnd.jupyter.widget-view+json": {
       "model_id": "",
       "version_major": 2,
       "version_minor": 0
      },
      "text/plain": [
       "FloatProgress(value=0.0, bar_style='info', description='Progress:', layout=Layout(height='25px', width='50%'),…"
      ]
     },
     "metadata": {},
     "output_type": "display_data"
    },
    {
     "name": "stdout",
     "output_type": "stream",
     "text": [
      "root\n",
      " |-- TitleCleaned: string (nullable = false)\n",
      "\n",
      "+-------------------------------------------------+\n",
      "|TitleCleaned                                     |\n",
      "+-------------------------------------------------+\n",
      "|obtain,high,resolution,prints,shorter,period,time|\n",
      "|3D,printing,safe,health                          |\n",
      "|important,minimum,layer,height,3d,printer        |\n",
      "|metals,exhibit,large,glass,state                 |\n",
      "|PLA,different,ABS,material                       |\n",
      "+-------------------------------------------------+\n",
      "only showing top 5 rows"
     ]
    }
   ],
   "source": [
    "# add new string column \"TitleCleaned\" and remove column \"TitleAarray\"\n",
    "\n",
    "Posts_DF_clean2 = Posts_DF_clean.withColumn(\"TitleCleaned\",concat_ws(\",\",f.col(\"TitleCleaned\"))).drop(\"TitleArray\").dropna()\n",
    "Posts_DF_clean2.printSchema()\n",
    "Posts_DF_clean2.show(5,truncate=False)"
   ]
  },
  {
   "cell_type": "code",
   "execution_count": 56,
   "id": "a0a685a1",
   "metadata": {},
   "outputs": [
    {
     "data": {
      "application/vnd.jupyter.widget-view+json": {
       "model_id": "",
       "version_major": 2,
       "version_minor": 0
      },
      "text/plain": [
       "FloatProgress(value=0.0, bar_style='info', description='Progress:', layout=Layout(height='25px', width='50%'),…"
      ]
     },
     "metadata": {},
     "output_type": "display_data"
    },
    {
     "name": "stdout",
     "output_type": "stream",
     "text": [
      "+-------------+-----+\n",
      "|MostAppearing|count|\n",
      "+-------------+-----+\n",
      "|           3D|  542|\n",
      "|        print|  519|\n",
      "|             |  415|\n",
      "|        Ender|  403|\n",
      "|            3|  384|\n",
      "|     printing|  379|\n",
      "|      printer|  364|\n",
      "|          bed|  339|\n",
      "|     filament|  222|\n",
      "|        layer|  197|\n",
      "|       Marlin|  177|\n",
      "|            -|  167|\n",
      "|     extruder|  163|\n",
      "|          PLA|  160|\n",
      "|         Cura|  149|\n",
      "+-------------+-----+\n",
      "only showing top 15 rows"
     ]
    }
   ],
   "source": [
    "# explode and split \"TitleCleaned\" to count most-appearing words\n",
    "\n",
    "Posts_DFF = Posts_DF_clean2.withColumn(\"MostAppearing\", f.explode(f.split(f.col(\"TitleCleaned\"), \",\")))\\\n",
    "  .groupBy(\"MostAppearing\")\\\n",
    "  .count()\\\n",
    "  .sort(\"count\", ascending=False)\n",
    "\n",
    "\n",
    "Posts_DFF.show(15)"
   ]
  },
  {
   "cell_type": "code",
   "execution_count": 57,
   "id": "c10449c2",
   "metadata": {},
   "outputs": [
    {
     "data": {
      "application/vnd.jupyter.widget-view+json": {
       "model_id": "",
       "version_major": 2,
       "version_minor": 0
      },
      "text/plain": [
       "FloatProgress(value=0.0, bar_style='info', description='Progress:', layout=Layout(height='25px', width='50%'),…"
      ]
     },
     "metadata": {},
     "output_type": "display_data"
    },
    {
     "name": "stdout",
     "output_type": "stream",
     "text": [
      "+-------------+-----+\n",
      "|MostAppearing|count|\n",
      "+-------------+-----+\n",
      "|           3D|  542|\n",
      "|        print|  519|\n",
      "|        Ender|  403|\n",
      "|     printing|  379|\n",
      "|      printer|  364|\n",
      "|          bed|  339|\n",
      "|     filament|  222|\n",
      "|        layer|  197|\n",
      "|       Marlin|  177|\n",
      "|     extruder|  163|\n",
      "|          PLA|  160|\n",
      "|         Cura|  149|\n",
      "|       prints|  144|\n",
      "|       nozzle|  139|\n",
      "|          use|  133|\n",
      "+-------------+-----+"
     ]
    }
   ],
   "source": [
    "# exclude \"-\" and NULL values, reduce output to TOP 15 words\n",
    "\n",
    "Posts_DFF2 = Posts_DFF.filter((Posts_DFF.MostAppearing != \"\")&(Posts_DFF.MostAppearing != \"-\")\\\n",
    "                              &(Posts_DFF.MostAppearing != \"3\")).limit(15)\n",
    "Posts_DFF2.show()"
   ]
  },
  {
   "cell_type": "markdown",
   "id": "57eaf6ef",
   "metadata": {},
   "source": [
    "### i) percentage of users who have never posted anything"
   ]
  },
  {
   "cell_type": "code",
   "execution_count": 58,
   "id": "73e9b126",
   "metadata": {},
   "outputs": [
    {
     "data": {
      "application/vnd.jupyter.widget-view+json": {
       "model_id": "",
       "version_major": 2,
       "version_minor": 0
      },
      "text/plain": [
       "FloatProgress(value=0.0, bar_style='info', description='Progress:', layout=Layout(height='25px', width='50%'),…"
      ]
     },
     "metadata": {},
     "output_type": "display_data"
    }
   ],
   "source": [
    "# register temp tables\n",
    "\n",
    "PostHistory_DF.createOrReplaceTempView(\"PostHistory_DF\")\n",
    "Users_DF.createOrReplaceTempView(\"Users_DF\")"
   ]
  },
  {
   "cell_type": "code",
   "execution_count": 59,
   "id": "825f1018",
   "metadata": {},
   "outputs": [
    {
     "data": {
      "application/vnd.jupyter.widget-view+json": {
       "model_id": "",
       "version_major": 2,
       "version_minor": 0
      },
      "text/plain": [
       "FloatProgress(value=0.0, bar_style='info', description='Progress:', layout=Layout(height='25px', width='50%'),…"
      ]
     },
     "metadata": {},
     "output_type": "display_data"
    }
   ],
   "source": [
    "# count number of users without any posts\n",
    "\n",
    "Users_without_posts=spark.sql(\"SELECT DISTINCT(Id) FROM Users_DF WHERE Id NOT IN\\\n",
    "(SELECT DISTINCT(UserId) FROM PostHistory_DF)\").count()"
   ]
  },
  {
   "cell_type": "code",
   "execution_count": 60,
   "id": "40132737",
   "metadata": {},
   "outputs": [
    {
     "data": {
      "application/vnd.jupyter.widget-view+json": {
       "model_id": "",
       "version_major": 2,
       "version_minor": 0
      },
      "text/plain": [
       "FloatProgress(value=0.0, bar_style='info', description='Progress:', layout=Layout(height='25px', width='50%'),…"
      ]
     },
     "metadata": {},
     "output_type": "display_data"
    }
   ],
   "source": [
    "# count all users\n",
    "\n",
    "Users_all=Users_DF.select(\"Id\").distinct().count()"
   ]
  },
  {
   "cell_type": "code",
   "execution_count": 61,
   "id": "62ece9bc",
   "metadata": {},
   "outputs": [
    {
     "data": {
      "application/vnd.jupyter.widget-view+json": {
       "model_id": "",
       "version_major": 2,
       "version_minor": 0
      },
      "text/plain": [
       "FloatProgress(value=0.0, bar_style='info', description='Progress:', layout=Layout(height='25px', width='50%'),…"
      ]
     },
     "metadata": {},
     "output_type": "display_data"
    },
    {
     "name": "stdout",
     "output_type": "stream",
     "text": [
      "Percentage of users who have never posted anything: 85.39%"
     ]
    }
   ],
   "source": [
    "result=round((Users_without_posts/Users_all*100),2)\n",
    "print(f\"Percentage of users who have never posted anything: {result}%\")"
   ]
  },
  {
   "cell_type": "markdown",
   "id": "715d6587",
   "metadata": {},
   "source": [
    "### j) average time from the appearance of the question to the appearance of the accepted answer"
   ]
  },
  {
   "cell_type": "code",
   "execution_count": 62,
   "id": "f25a77f2",
   "metadata": {},
   "outputs": [
    {
     "data": {
      "application/vnd.jupyter.widget-view+json": {
       "model_id": "",
       "version_major": 2,
       "version_minor": 0
      },
      "text/plain": [
       "FloatProgress(value=0.0, bar_style='info', description='Progress:', layout=Layout(height='25px', width='50%'),…"
      ]
     },
     "metadata": {},
     "output_type": "display_data"
    },
    {
     "name": "stdout",
     "output_type": "stream",
     "text": [
      "+-------+-----------------------+----------------+\n",
      "|Post_Id|Post_CreationDate      |AcceptedAnswerId|\n",
      "+-------+-----------------------+----------------+\n",
      "|1      |2016-01-12 18:45:19.963|51              |\n",
      "|2      |2016-01-12 18:45:51.287|12              |\n",
      "|3      |2016-01-12 18:46:22.083|152             |\n",
      "|4      |2016-01-12 18:50:55.973|1289            |\n",
      "|5      |2016-01-12 18:53:53.623|77              |\n",
      "|6      |2016-01-12 18:57:13.35 |27              |\n",
      "|11     |2016-01-12 19:07:53.343|34              |\n",
      "|13     |2016-01-12 19:18:57.943|63              |\n",
      "|14     |2016-01-12 19:22:14.277|47              |\n",
      "|16     |2016-01-12 19:25:52.27 |88              |\n",
      "|19     |2016-01-12 19:28:09.363|62              |\n",
      "|20     |2016-01-12 19:30:45.06 |60              |\n",
      "|22     |2016-01-12 19:33:04.263|26              |\n",
      "|28     |2016-01-12 19:39:43.65 |32              |\n",
      "|33     |2016-01-12 19:52:25.43 |39              |\n",
      "|38     |2016-01-12 19:59:15.953|43              |\n",
      "|48     |2016-01-12 20:16:01.823|52              |\n",
      "|49     |2016-01-12 20:16:38.26 |57              |\n",
      "|59     |2016-01-12 20:37:19.573|67              |\n",
      "|61     |2016-01-12 20:40:43.047|86              |\n",
      "+-------+-----------------------+----------------+\n",
      "only showing top 20 rows"
     ]
    }
   ],
   "source": [
    "# posts with accepted answers\n",
    "\n",
    "Questions_DF = Posts_DF.select(f.col(\"Id\").alias(\"Post_Id\"),f.col(\"CreationDate\")\\\n",
    "                               .alias(\"Post_CreationDate\"),\"AcceptedAnswerId\")\\\n",
    "                               .where((Posts_DF.PostTypeId==1)&(Posts_DF.AcceptedAnswerId.isNotNull()))\n",
    "\n",
    "Questions_DF.show(truncate=False)"
   ]
  },
  {
   "cell_type": "code",
   "execution_count": 63,
   "id": "1776cd50",
   "metadata": {},
   "outputs": [
    {
     "data": {
      "application/vnd.jupyter.widget-view+json": {
       "model_id": "",
       "version_major": 2,
       "version_minor": 0
      },
      "text/plain": [
       "FloatProgress(value=0.0, bar_style='info', description='Progress:', layout=Layout(height='25px', width='50%'),…"
      ]
     },
     "metadata": {},
     "output_type": "display_data"
    },
    {
     "name": "stdout",
     "output_type": "stream",
     "text": [
      "+---------+-----------------------+-----------+\n",
      "|Answer_Id|Answer_CreationDate    |Question_Id|\n",
      "+---------+-----------------------+-----------+\n",
      "|9        |2016-01-12 18:58:04.41 |2          |\n",
      "|12       |2016-01-12 19:13:00.71 |2          |\n",
      "|15       |2016-01-12 19:25:07.817|2          |\n",
      "|17       |2016-01-12 19:27:20.113|4          |\n",
      "|18       |2016-01-12 19:28:04.263|10         |\n",
      "|21       |2016-01-12 19:32:33.503|11         |\n",
      "|23       |2016-01-12 19:34:41.753|16         |\n",
      "|26       |2016-01-12 19:37:25.013|22         |\n",
      "|27       |2016-01-12 19:38:26.67 |6          |\n",
      "|29       |2016-01-12 19:45:28.083|16         |\n",
      "|31       |2016-01-12 19:47:15.65 |11         |\n",
      "|32       |2016-01-12 19:49:01.35 |28         |\n",
      "|34       |2016-01-12 19:54:46.6  |11         |\n",
      "|36       |2016-01-12 19:58:17.79 |11         |\n",
      "|37       |2016-01-12 19:59:01.223|33         |\n",
      "|39       |2016-01-12 20:00:22.177|33         |\n",
      "|41       |2016-01-12 20:02:33.247|35         |\n",
      "|42       |2016-01-12 20:05:08.103|38         |\n",
      "|43       |2016-01-12 20:05:22.53 |38         |\n",
      "|45       |2016-01-12 20:09:37.747|38         |\n",
      "+---------+-----------------------+-----------+\n",
      "only showing top 20 rows"
     ]
    }
   ],
   "source": [
    "# all answers\n",
    "\n",
    "Answers_DF = Posts_DF.select(f.col(\"Id\").alias(\"Answer_Id\"),f.col(\"CreationDate\")\\\n",
    "                             .alias(\"Answer_CreationDate\"),f.col(\"ParentId\").alias(\"Question_Id\")).where(Posts_DF.PostTypeId==2)\n",
    "Answers_DF.show(truncate=False)"
   ]
  },
  {
   "cell_type": "code",
   "execution_count": 64,
   "id": "2454e3d3",
   "metadata": {
    "scrolled": true
   },
   "outputs": [
    {
     "data": {
      "application/vnd.jupyter.widget-view+json": {
       "model_id": "",
       "version_major": 2,
       "version_minor": 0
      },
      "text/plain": [
       "FloatProgress(value=0.0, bar_style='info', description='Progress:', layout=Layout(height='25px', width='50%'),…"
      ]
     },
     "metadata": {},
     "output_type": "display_data"
    },
    {
     "name": "stdout",
     "output_type": "stream",
     "text": [
      "+-------+-----------------------+----------------+---------+-----------------------+-----------+\n",
      "|Post_Id|Post_CreationDate      |AcceptedAnswerId|Answer_Id|Answer_CreationDate    |Question_Id|\n",
      "+-------+-----------------------+----------------+---------+-----------------------+-----------+\n",
      "|1      |2016-01-12 18:45:19.963|51              |51       |2016-01-12 20:20:17.79 |1          |\n",
      "|2      |2016-01-12 18:45:51.287|12              |12       |2016-01-12 19:13:00.71 |2          |\n",
      "|3      |2016-01-12 18:46:22.083|152             |152      |2016-01-13 06:39:29.06 |3          |\n",
      "|4      |2016-01-12 18:50:55.973|1289            |1289     |2016-06-09 19:34:53.96 |4          |\n",
      "|5      |2016-01-12 18:53:53.623|77              |77       |2016-01-12 21:29:04.42 |5          |\n",
      "|6      |2016-01-12 18:57:13.35 |27              |27       |2016-01-12 19:38:26.67 |6          |\n",
      "|11     |2016-01-12 19:07:53.343|34              |34       |2016-01-12 19:54:46.6  |11         |\n",
      "|13     |2016-01-12 19:18:57.943|63              |63       |2016-01-12 20:43:25.427|13         |\n",
      "|14     |2016-01-12 19:22:14.277|47              |47       |2016-01-12 20:14:55.997|14         |\n",
      "|16     |2016-01-12 19:25:52.27 |88              |88       |2016-01-12 22:07:56.873|16         |\n",
      "|19     |2016-01-12 19:28:09.363|62              |62       |2016-01-12 20:42:23.543|19         |\n",
      "|20     |2016-01-12 19:30:45.06 |60              |60       |2016-01-12 20:38:38.45 |20         |\n",
      "|22     |2016-01-12 19:33:04.263|26              |26       |2016-01-12 19:37:25.013|22         |\n",
      "|28     |2016-01-12 19:39:43.65 |32              |32       |2016-01-12 19:49:01.35 |28         |\n",
      "|33     |2016-01-12 19:52:25.43 |39              |39       |2016-01-12 20:00:22.177|33         |\n",
      "|38     |2016-01-12 19:59:15.953|43              |43       |2016-01-12 20:05:22.53 |38         |\n",
      "|48     |2016-01-12 20:16:01.823|52              |52       |2016-01-12 20:21:03.017|48         |\n",
      "|49     |2016-01-12 20:16:38.26 |57              |57       |2016-01-12 20:30:29.773|49         |\n",
      "|59     |2016-01-12 20:37:19.573|67              |67       |2016-01-12 20:55:28.33 |59         |\n",
      "|61     |2016-01-12 20:40:43.047|86              |86       |2016-01-12 22:01:42.88 |61         |\n",
      "+-------+-----------------------+----------------+---------+-----------------------+-----------+\n",
      "only showing top 20 rows"
     ]
    }
   ],
   "source": [
    "# left join questions DF with answers DFto get only accepted answers\n",
    "\n",
    "QA_DF = Questions_DF.join(Answers_DF, Questions_DF.AcceptedAnswerId == Answers_DF.Answer_Id,how = \"left\")\n",
    "QA_DF.orderBy(f.asc(\"Post_Id\")).show(truncate=False)"
   ]
  },
  {
   "cell_type": "code",
   "execution_count": 65,
   "id": "b8599cb6",
   "metadata": {},
   "outputs": [
    {
     "data": {
      "application/vnd.jupyter.widget-view+json": {
       "model_id": "",
       "version_major": 2,
       "version_minor": 0
      },
      "text/plain": [
       "FloatProgress(value=0.0, bar_style='info', description='Progress:', layout=Layout(height='25px', width='50%'),…"
      ]
     },
     "metadata": {},
     "output_type": "display_data"
    }
   ],
   "source": [
    "# exclude NULL values\n",
    "\n",
    "QA_DF2 = QA_DF.where(QA_DF.Answer_Id.isNotNull())"
   ]
  },
  {
   "cell_type": "code",
   "execution_count": 66,
   "id": "87d66e7a",
   "metadata": {},
   "outputs": [
    {
     "data": {
      "application/vnd.jupyter.widget-view+json": {
       "model_id": "",
       "version_major": 2,
       "version_minor": 0
      },
      "text/plain": [
       "FloatProgress(value=0.0, bar_style='info', description='Progress:', layout=Layout(height='25px', width='50%'),…"
      ]
     },
     "metadata": {},
     "output_type": "display_data"
    },
    {
     "name": "stdout",
     "output_type": "stream",
     "text": [
      "-RECORD 0--------------------------------------\n",
      " Post_Id             | 8605                    \n",
      " Post_CreationDate   | 2019-04-02 21:07:45.463 \n",
      " AcceptedAnswerId    | 19013                   \n",
      " Answer_Id           | 19013                   \n",
      " Answer_CreationDate | 2022-02-24 21:21:03.8   \n",
      " Question_Id         | 8605                    \n",
      " difference          | 91498398                \n",
      "-RECORD 1--------------------------------------\n",
      " Post_Id             | 3015                    \n",
      " Post_CreationDate   | 2016-11-03 21:36:24.987 \n",
      " AcceptedAnswerId    | 8287                    \n",
      " Answer_Id           | 8287                    \n",
      " Answer_CreationDate | 2019-02-16 14:56:39.56  \n",
      " Question_Id         | 3015                    \n",
      " difference          | 72120015                \n",
      "-RECORD 2--------------------------------------\n",
      " Post_Id             | 13523                   \n",
      " Post_CreationDate   | 2020-04-25 18:30:09.507 \n",
      " AcceptedAnswerId    | 19105                   \n",
      " Answer_Id           | 19105                   \n",
      " Answer_CreationDate | 2022-03-16 12:23:11.677 \n",
      " Question_Id         | 13523                   \n",
      " difference          | 59593982                \n",
      "-RECORD 3--------------------------------------\n",
      " Post_Id             | 7987                    \n",
      " Post_CreationDate   | 2019-01-16 09:20:42     \n",
      " AcceptedAnswerId    | 14880                   \n",
      " Answer_Id           | 14880                   \n",
      " Answer_CreationDate | 2020-11-25 21:06:48.93  \n",
      " Question_Id         | 7987                    \n",
      " difference          | 58707966                \n",
      "-RECORD 4--------------------------------------\n",
      " Post_Id             | 4762                    \n",
      " Post_CreationDate   | 2017-10-18 20:04:26.71  \n",
      " AcceptedAnswerId    | 10740                   \n",
      " Answer_Id           | 10740                   \n",
      " Answer_CreationDate | 2019-08-01 15:27:07.06  \n",
      " Question_Id         | 4762                    \n",
      " difference          | 56316161                \n",
      "-RECORD 5--------------------------------------\n",
      " Post_Id             | 11562                   \n",
      " Post_CreationDate   | 2019-12-14 18:22:42.047 \n",
      " AcceptedAnswerId    | 17987                   \n",
      " Answer_Id           | 17987                   \n",
      " Answer_CreationDate | 2021-08-27 09:52:41.34  \n",
      " Question_Id         | 11562                   \n",
      " difference          | 53710199                \n",
      "-RECORD 6--------------------------------------\n",
      " Post_Id             | 8242                    \n",
      " Post_CreationDate   | 2019-02-12 13:52:20.063 \n",
      " AcceptedAnswerId    | 14469                   \n",
      " Answer_Id           | 14469                   \n",
      " Answer_CreationDate | 2020-09-22 14:08:23.227 \n",
      " Question_Id         | 8242                    \n",
      " difference          | 50804163                \n",
      "-RECORD 7--------------------------------------\n",
      " Post_Id             | 3372                    \n",
      " Post_CreationDate   | 2017-01-09 23:41:19.193 \n",
      " AcceptedAnswerId    | 6458                    \n",
      " Answer_Id           | 6458                    \n",
      " Answer_CreationDate | 2018-07-23 23:00:29.08  \n",
      " Question_Id         | 3372                    \n",
      " difference          | 48381550                \n",
      "-RECORD 8--------------------------------------\n",
      " Post_Id             | 4982                    \n",
      " Post_CreationDate   | 2017-11-15 12:06:11.21  \n",
      " AcceptedAnswerId    | 9950                    \n",
      " Answer_Id           | 9950                    \n",
      " Answer_CreationDate | 2019-05-15 15:49:52.71  \n",
      " Question_Id         | 4982                    \n",
      " difference          | 47187821                \n",
      "-RECORD 9--------------------------------------\n",
      " Post_Id             | 3710                    \n",
      " Post_CreationDate   | 2017-03-10 23:27:48.51  \n",
      " AcceptedAnswerId    | 6861                    \n",
      " Answer_Id           | 6861                    \n",
      " Answer_CreationDate | 2018-09-07 13:23:02.433 \n",
      " Question_Id         | 3710                    \n",
      " difference          | 47138114                \n",
      "-RECORD 10-------------------------------------\n",
      " Post_Id             | 3637                    \n",
      " Post_CreationDate   | 2017-02-21 18:10:28.567 \n",
      " AcceptedAnswerId    | 6510                    \n",
      " Answer_Id           | 6510                    \n",
      " Answer_CreationDate | 2018-07-31 06:15:02     \n",
      " Question_Id         | 3637                    \n",
      " difference          | 45317074                \n",
      "-RECORD 11-------------------------------------\n",
      " Post_Id             | 14361                   \n",
      " Post_CreationDate   | 2020-09-02 05:13:19.757 \n",
      " AcceptedAnswerId    | 18871                   \n",
      " Answer_Id           | 18871                   \n",
      " Answer_CreationDate | 2022-02-05 16:58:36.377 \n",
      " Question_Id         | 14361                   \n",
      " difference          | 45056717                \n",
      "-RECORD 12-------------------------------------\n",
      " Post_Id             | 2904                    \n",
      " Post_CreationDate   | 2016-10-17 06:18:24.22  \n",
      " AcceptedAnswerId    | 5392                    \n",
      " Answer_Id           | 5392                    \n",
      " Answer_CreationDate | 2018-02-04 01:28:20.43  \n",
      " Question_Id         | 2904                    \n",
      " difference          | 41022596                \n",
      "-RECORD 13-------------------------------------\n",
      " Post_Id             | 11144                   \n",
      " Post_CreationDate   | 2019-10-09 18:21:33.707 \n",
      " AcceptedAnswerId    | 15313                   \n",
      " Answer_Id           | 15313                   \n",
      " Answer_CreationDate | 2021-01-14 01:53:39.26  \n",
      " Question_Id         | 11144                   \n",
      " difference          | 39943926                \n",
      "-RECORD 14-------------------------------------\n",
      " Post_Id             | 13269                   \n",
      " Post_CreationDate   | 2020-03-29 09:55:18.983 \n",
      " AcceptedAnswerId    | 16647                   \n",
      " Answer_Id           | 16647                   \n",
      " Answer_CreationDate | 2021-06-28 12:47:11.77  \n",
      " Question_Id         | 13269                   \n",
      " difference          | 39408713                \n",
      "-RECORD 15-------------------------------------\n",
      " Post_Id             | 10238                   \n",
      " Post_CreationDate   | 2019-06-12 07:55:33.04  \n",
      " AcceptedAnswerId    | 14324                   \n",
      " Answer_Id           | 14324                   \n",
      " Answer_CreationDate | 2020-08-24 23:09:41.597 \n",
      " Question_Id         | 10238                   \n",
      " difference          | 37984448                \n",
      "-RECORD 16-------------------------------------\n",
      " Post_Id             | 8662                    \n",
      " Post_CreationDate   | 2019-04-11 14:39:30.423 \n",
      " AcceptedAnswerId    | 13901                   \n",
      " Answer_Id           | 13901                   \n",
      " Answer_CreationDate | 2020-06-17 22:45:49.597 \n",
      " Question_Id         | 8662                    \n",
      " difference          | 37440379                \n",
      "-RECORD 17-------------------------------------\n",
      " Post_Id             | 11673                   \n",
      " Post_CreationDate   | 2020-01-04 12:28:15.63  \n",
      " AcceptedAnswerId    | 15527                   \n",
      " Answer_Id           | 15527                   \n",
      " Answer_CreationDate | 2021-02-01 18:42:35.387 \n",
      " Question_Id         | 11673                   \n",
      " difference          | 34064060                \n",
      "-RECORD 18-------------------------------------\n",
      " Post_Id             | 13412                   \n",
      " Post_CreationDate   | 2020-04-14 13:13:00.82  \n",
      " AcceptedAnswerId    | 16162                   \n",
      " Answer_Id           | 16162                   \n",
      " Answer_CreationDate | 2021-04-23 00:19:09.407 \n",
      " Question_Id         | 13412                   \n",
      " difference          | 32267169                \n",
      "-RECORD 19-------------------------------------\n",
      " Post_Id             | 4692                    \n",
      " Post_CreationDate   | 2017-10-03 04:11:02.003 \n",
      " AcceptedAnswerId    | 7116                    \n",
      " Answer_Id           | 7116                    \n",
      " Answer_CreationDate | 2018-10-05 04:03:13.19  \n",
      " Question_Id         | 4692                    \n",
      " difference          | 31708331                \n",
      "only showing top 20 rows"
     ]
    }
   ],
   "source": [
    "# count difference between Post_CreationDate and Answer_CreationDate\n",
    "\n",
    "QA_DF3 = QA_DF2.withColumn(\"difference\",(f.unix_timestamp(QA_DF2.Answer_CreationDate)-\\\n",
    "                                         f.unix_timestamp(QA_DF2.Post_CreationDate)))\n",
    "\n",
    "QA_DF3.orderBy(f.desc(\"difference\")).show(vertical=True,truncate=False)"
   ]
  },
  {
   "cell_type": "code",
   "execution_count": 67,
   "id": "bfcb7c2f",
   "metadata": {
    "scrolled": true
   },
   "outputs": [
    {
     "data": {
      "application/vnd.jupyter.widget-view+json": {
       "model_id": "",
       "version_major": 2,
       "version_minor": 0
      },
      "text/plain": [
       "FloatProgress(value=0.0, bar_style='info', description='Progress:', layout=Layout(height='25px', width='50%'),…"
      ]
     },
     "metadata": {},
     "output_type": "display_data"
    },
    {
     "name": "stdout",
     "output_type": "stream",
     "text": [
      "+--------------------------------------------+\n",
      "|Average Accepted Answer Creation Time [days]|\n",
      "+--------------------------------------------+\n",
      "|                                       12.21|\n",
      "+--------------------------------------------+"
     ]
    }
   ],
   "source": [
    "# count average difference \n",
    "\n",
    "QA_avg_dif = QA_DF3.select(f.round((f.avg(\"difference\")/86400),scale=2).alias(\"Average Accepted Answer Creation Time [days]\"))\n",
    "QA_avg_dif.show()"
   ]
  }
 ],
 "metadata": {
  "kernelspec": {
   "display_name": "PySpark",
   "language": "python",
   "name": "pysparkkernel"
  },
  "language_info": {
   "codemirror_mode": {
    "name": "python",
    "version": 3
   },
   "file_extension": ".py",
   "mimetype": "text/x-python",
   "name": "pyspark",
   "pygments_lexer": "python3"
  }
 },
 "nbformat": 4,
 "nbformat_minor": 5
}
